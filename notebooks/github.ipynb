{
    "cells": [
        {
            "cell_type": "code",
            "execution_count": 4,
            "metadata": {},
            "outputs": [
                {
                    "name": "stdout",
                    "output_type": "stream",
                    "text": [
                        "Rows: 9896\n",
                        "Columns: 3\n",
                        "Unique sources: 18\n",
                        "Unique targets: 4289\n"
                    ]
                },
                {
                    "data": {
                        "text/html": [
                            "<div><style>\n",
                            ".dataframe > thead > tr,\n",
                            ".dataframe > tbody > tr {\n",
                            "  text-align: right;\n",
                            "  white-space: pre-wrap;\n",
                            "}\n",
                            "</style>\n",
                            "<small>shape: (10, 3)</small><table border=\"1\" class=\"dataframe\"><thead><tr><th>relation</th><th>source</th><th>target</th></tr><tr><td>str</td><td>str</td><td>str</td></tr></thead><tbody><tr><td>&quot;NPM&quot;</td><td>&quot;https://github.com/eth-infinit…</td><td>&quot;https://github.com/silentcicer…</td></tr><tr><td>&quot;NPM&quot;</td><td>&quot;https://github.com/chainsafe/l…</td><td>&quot;https://github.com/terser/ters…</td></tr><tr><td>&quot;NPM&quot;</td><td>&quot;https://github.com/ethereum/re…</td><td>&quot;https://github.com/evanw/node-…</td></tr><tr><td>&quot;NPM&quot;</td><td>&quot;https://github.com/web3/web3.j…</td><td>&quot;https://github.com/d3/d3-time&quot;</td></tr><tr><td>&quot;NPM&quot;</td><td>&quot;https://github.com/eth-infinit…</td><td>&quot;https://github.com/jrburke/amd…</td></tr><tr><td>&quot;RUST&quot;</td><td>&quot;https://github.com/paradigmxyz…</td><td>&quot;https://github.com/mvdnes/spin…</td></tr><tr><td>&quot;NPM&quot;</td><td>&quot;https://github.com/eth-infinit…</td><td>&quot;https://github.com/feross/simp…</td></tr><tr><td>&quot;NPM&quot;</td><td>&quot;https://github.com/web3/web3.j…</td><td>&quot;https://github.com/ethereumjs/…</td></tr><tr><td>&quot;NPM&quot;</td><td>&quot;https://github.com/ethereum/re…</td><td>&quot;https://github.com/keik/merge-…</td></tr><tr><td>&quot;NPM&quot;</td><td>&quot;https://github.com/chainsafe/l…</td><td>&quot;https://github.com/octokit/typ…</td></tr></tbody></table></div>"
                        ],
                        "text/plain": [
                            "shape: (10, 3)\n",
                            "┌──────────┬─────────────────────────────────┬─────────────────────────────────┐\n",
                            "│ relation ┆ source                          ┆ target                          │\n",
                            "│ ---      ┆ ---                             ┆ ---                             │\n",
                            "│ str      ┆ str                             ┆ str                             │\n",
                            "╞══════════╪═════════════════════════════════╪═════════════════════════════════╡\n",
                            "│ NPM      ┆ https://github.com/eth-infinit… ┆ https://github.com/silentcicer… │\n",
                            "│ NPM      ┆ https://github.com/chainsafe/l… ┆ https://github.com/terser/ters… │\n",
                            "│ NPM      ┆ https://github.com/ethereum/re… ┆ https://github.com/evanw/node-… │\n",
                            "│ NPM      ┆ https://github.com/web3/web3.j… ┆ https://github.com/d3/d3-time   │\n",
                            "│ NPM      ┆ https://github.com/eth-infinit… ┆ https://github.com/jrburke/amd… │\n",
                            "│ RUST     ┆ https://github.com/paradigmxyz… ┆ https://github.com/mvdnes/spin… │\n",
                            "│ NPM      ┆ https://github.com/eth-infinit… ┆ https://github.com/feross/simp… │\n",
                            "│ NPM      ┆ https://github.com/web3/web3.j… ┆ https://github.com/ethereumjs/… │\n",
                            "│ NPM      ┆ https://github.com/ethereum/re… ┆ https://github.com/keik/merge-… │\n",
                            "│ NPM      ┆ https://github.com/chainsafe/l… ┆ https://github.com/octokit/typ… │\n",
                            "└──────────┴─────────────────────────────────┴─────────────────────────────────┘"
                        ]
                    },
                    "execution_count": 4,
                    "metadata": {},
                    "output_type": "execute_result"
                }
            ],
            "source": [
                "from deepfunding.data import get_graph_dataframe\n",
                "\n",
                "import polars as pl\n",
                "\n",
                "df = get_graph_dataframe()\n",
                "\n",
                "rows, cols = df.shape\n",
                "print(f\"Rows: {rows}\")\n",
                "print(f\"Columns: {cols}\")\n",
                "\n",
                "# Get unique sources and targets\n",
                "sources = df.get_column(\"source\").unique()\n",
                "targets = df.get_column(\"target\").unique()\n",
                "\n",
                "print(\"Unique sources:\", len(sources))\n",
                "print(\"Unique targets:\", len(targets))\n",
                "\n",
                "df.sample(10)"
            ]
        },
        {
            "cell_type": "code",
            "execution_count": null,
            "metadata": {},
            "outputs": [],
            "source": [
                "import asyncio\n",
                "import httpx\n",
                "import os\n",
                "\n",
                "github_token = os.getenv(\"GITHUB_TOKEN\")\n",
                "\n",
                "\n",
                "async def fetch_repo_info(client, repo_url):\n",
                "    # Extract owner/repo from the full URL\n",
                "    _, _, _, owner, repo = repo_url.rstrip(\"/\").split(\"/\")\n",
                "    api_url = f\"https://api.github.com/repos/{owner}/{repo}\"\n",
                "\n",
                "    headers = {\n",
                "        \"Accept\": \"application/vnd.github+json\",\n",
                "        \"Authorization\": f\"Bearer {github_token}\",\n",
                "        \"X-GitHub-Api-Version\": \"2022-11-28\",\n",
                "    }\n",
                "\n",
                "    try:\n",
                "        response = await client.get(api_url, headers=headers)\n",
                "        response.raise_for_status()\n",
                "        return response.json()\n",
                "    except httpx.HTTPError as e:\n",
                "        print(f\"Error fetching {repo_url}: {e}\")\n",
                "        return None\n",
                "\n",
                "\n",
                "async def fetch_all_repos():\n",
                "    # Get unique target repos\n",
                "    target_repos = df.get_column(\"target\").unique().to_list()\n",
                "\n",
                "    async with httpx.AsyncClient(\n",
                "        transport=httpx.AsyncHTTPTransport(retries=2, verify=False),\n",
                "        follow_redirects=True,\n",
                "        limits=httpx.Limits(max_keepalive_connections=5, max_connections=10),\n",
                "    ) as client:\n",
                "        tasks = [fetch_repo_info(client, repo) for repo in target_repos]\n",
                "        results = await asyncio.gather(*tasks)\n",
                "\n",
                "    # Create DataFrame from results\n",
                "    repo_data = [r for r in results if r is not None]\n",
                "    return pl.DataFrame(repo_data)\n",
                "\n",
                "\n",
                "# Run the async function\n",
                "repo_info_df = await fetch_all_repos()\n",
                "repo_info_df\n"
            ]
        }
    ],
    "metadata": {
        "kernelspec": {
            "display_name": ".venv",
            "language": "python",
            "name": "python3"
        },
        "language_info": {
            "codemirror_mode": {
                "name": "ipython",
                "version": 3
            },
            "file_extension": ".py",
            "mimetype": "text/x-python",
            "name": "python",
            "nbconvert_exporter": "python",
            "pygments_lexer": "ipython3",
            "version": "3.13.0"
        }
    },
    "nbformat": 4,
    "nbformat_minor": 2
}
