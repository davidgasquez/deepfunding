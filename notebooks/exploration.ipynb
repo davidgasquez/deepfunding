{
    "cells": [
        {
            "cell_type": "markdown",
            "metadata": {},
            "source": [
                "# Exploring the Graph of Dependencies\n",
                "\n",
                "A small exploration of the graph of dependencies to understand the data and the structure of the graph."
            ]
        },
        {
            "cell_type": "markdown",
            "metadata": {},
            "source": [
                "## Data"
            ]
        },
        {
            "cell_type": "code",
            "execution_count": 4,
            "metadata": {},
            "outputs": [],
            "source": [
                "import polars as pl\n",
                "\n",
                "_ = pl.Config.set_tbl_rows(20)\n",
                "_ = pl.Config.set_fmt_str_lengths(100)"
            ]
        },
        {
            "cell_type": "code",
            "execution_count": 5,
            "metadata": {},
            "outputs": [
                {
                    "name": "stdout",
                    "output_type": "stream",
                    "text": [
                        "Rows: 9896\n",
                        "Columns: 3\n",
                        "Unique sources: 18\n",
                        "Unique targets: 4289\n"
                    ]
                },
                {
                    "data": {
                        "text/html": [
                            "<div><style>\n",
                            ".dataframe > thead > tr,\n",
                            ".dataframe > tbody > tr {\n",
                            "  text-align: right;\n",
                            "  white-space: pre-wrap;\n",
                            "}\n",
                            "</style>\n",
                            "<small>shape: (10, 3)</small><table border=\"1\" class=\"dataframe\"><thead><tr><th>relation</th><th>source</th><th>target</th></tr><tr><td>str</td><td>str</td><td>str</td></tr></thead><tbody><tr><td>&quot;NPM&quot;</td><td>&quot;https://github.com/ethereum/remix-project&quot;</td><td>&quot;https://github.com/typestrong/ts-loader&quot;</td></tr><tr><td>&quot;RUST&quot;</td><td>&quot;https://github.com/grandinetech/grandine&quot;</td><td>&quot;https://github.com/jplatte/serde_html_form&quot;</td></tr><tr><td>&quot;GO&quot;</td><td>&quot;https://github.com/prysmaticlabs/prysm&quot;</td><td>&quot;https://github.com/prometheus/client_model&quot;</td></tr><tr><td>&quot;NPM&quot;</td><td>&quot;https://github.com/web3/web3.js&quot;</td><td>&quot;https://github.com/silverwind/default-gateway&quot;</td></tr><tr><td>&quot;GO&quot;</td><td>&quot;https://github.com/prysmaticlabs/prysm&quot;</td><td>&quot;https://github.com/hashicorp/go-bexpr&quot;</td></tr><tr><td>&quot;NPM&quot;</td><td>&quot;https://github.com/chainsafe/lodestar&quot;</td><td>&quot;https://github.com/felixge/node-dateformat&quot;</td></tr><tr><td>&quot;NPM&quot;</td><td>&quot;https://github.com/web3/web3.js&quot;</td><td>&quot;https://github.com/syntax-tree/hast-util-parse-selector&quot;</td></tr><tr><td>&quot;NPM&quot;</td><td>&quot;https://github.com/web3/web3.js&quot;</td><td>&quot;https://github.com/dirtyhairy/async-mutex&quot;</td></tr><tr><td>&quot;RUST&quot;</td><td>&quot;https://github.com/grandinetech/grandine&quot;</td><td>&quot;https://github.com/hermit-os/hermit-rs&quot;</td></tr><tr><td>&quot;NPM&quot;</td><td>&quot;https://github.com/safe-global/safe-smart-account&quot;</td><td>&quot;https://github.com/sindresorhus/path-type&quot;</td></tr></tbody></table></div>"
                        ],
                        "text/plain": [
                            "shape: (10, 3)\n",
                            "┌──────────┬───────────────────────────────────────────┬───────────────────────────────────────────┐\n",
                            "│ relation ┆ source                                    ┆ target                                    │\n",
                            "│ ---      ┆ ---                                       ┆ ---                                       │\n",
                            "│ str      ┆ str                                       ┆ str                                       │\n",
                            "╞══════════╪═══════════════════════════════════════════╪═══════════════════════════════════════════╡\n",
                            "│ NPM      ┆ https://github.com/ethereum/remix-project ┆ https://github.com/typestrong/ts-loader   │\n",
                            "│ RUST     ┆ https://github.com/grandinetech/grandine  ┆ https://github.com/jplatte/serde_html_for │\n",
                            "│          ┆                                           ┆ m                                         │\n",
                            "│ GO       ┆ https://github.com/prysmaticlabs/prysm    ┆ https://github.com/prometheus/client_mode │\n",
                            "│          ┆                                           ┆ l                                         │\n",
                            "│ NPM      ┆ https://github.com/web3/web3.js           ┆ https://github.com/silverwind/default-gat │\n",
                            "│          ┆                                           ┆ eway                                      │\n",
                            "│ GO       ┆ https://github.com/prysmaticlabs/prysm    ┆ https://github.com/hashicorp/go-bexpr     │\n",
                            "│ NPM      ┆ https://github.com/chainsafe/lodestar     ┆ https://github.com/felixge/node-dateforma │\n",
                            "│          ┆                                           ┆ t                                         │\n",
                            "│ NPM      ┆ https://github.com/web3/web3.js           ┆ https://github.com/syntax-tree/hast-util- │\n",
                            "│          ┆                                           ┆ parse-selector                            │\n",
                            "│ NPM      ┆ https://github.com/web3/web3.js           ┆ https://github.com/dirtyhairy/async-mutex │\n",
                            "│ RUST     ┆ https://github.com/grandinetech/grandine  ┆ https://github.com/hermit-os/hermit-rs    │\n",
                            "│ NPM      ┆ https://github.com/safe-global/safe-smart ┆ https://github.com/sindresorhus/path-type │\n",
                            "│          ┆ -account                                  ┆                                           │\n",
                            "└──────────┴───────────────────────────────────────────┴───────────────────────────────────────────┘"
                        ]
                    },
                    "execution_count": 5,
                    "metadata": {},
                    "output_type": "execute_result"
                }
            ],
            "source": [
                "import json\n",
                "import urllib.request\n",
                "\n",
                "url = \"https://raw.githubusercontent.com/deepfunding/dependency-graph/refs/heads/main/graph/unweighted_graph.json\"\n",
                "with urllib.request.urlopen(url) as response:\n",
                "    graph_data = json.loads(response.read())\n",
                "\n",
                "df = pl.DataFrame(graph_data.get(\"links\"))\n",
                "\n",
                "# Drop the weight column\n",
                "df = df.drop(\"weight\")\n",
                "\n",
                "rows, cols = df.shape\n",
                "print(f\"Rows: {rows}\")\n",
                "print(f\"Columns: {cols}\")\n",
                "\n",
                "# Get unique sources and targets\n",
                "sources = df.get_column(\"source\").unique()\n",
                "targets = df.get_column(\"target\").unique()\n",
                "\n",
                "print(\"Unique sources:\", len(sources))\n",
                "print(\"Unique targets:\", len(targets))\n",
                "\n",
                "df.sample(10)\n"
            ]
        },
        {
            "cell_type": "code",
            "execution_count": 6,
            "metadata": {},
            "outputs": [
                {
                    "data": {
                        "text/html": [
                            "<div><style>\n",
                            ".dataframe > thead > tr,\n",
                            ".dataframe > tbody > tr {\n",
                            "  text-align: right;\n",
                            "  white-space: pre-wrap;\n",
                            "}\n",
                            "</style>\n",
                            "<small>shape: (3, 3)</small><table border=\"1\" class=\"dataframe\"><thead><tr><th>relation</th><th>source</th><th>target</th></tr><tr><td>str</td><td>str</td><td>str</td></tr></thead><tbody><tr><td>&quot;PIP&quot;</td><td>&quot;https://github.com/ethereum/solidity&quot;</td><td>&quot;https://github.com/taminomara/sphinx-a4doc&quot;</td></tr><tr><td>&quot;PIP&quot;</td><td>&quot;https://github.com/ethereum/solidity&quot;</td><td>&quot;https://github.com/sphinx-doc/sphinx&quot;</td></tr><tr><td>&quot;PIP&quot;</td><td>&quot;https://github.com/ethereum/solidity&quot;</td><td>&quot;https://github.com/readthedocs/sphinx_rtd_theme&quot;</td></tr></tbody></table></div>"
                        ],
                        "text/plain": [
                            "shape: (3, 3)\n",
                            "┌──────────┬──────────────────────────────────────┬────────────────────────────────────────────────┐\n",
                            "│ relation ┆ source                               ┆ target                                         │\n",
                            "│ ---      ┆ ---                                  ┆ ---                                            │\n",
                            "│ str      ┆ str                                  ┆ str                                            │\n",
                            "╞══════════╪══════════════════════════════════════╪════════════════════════════════════════════════╡\n",
                            "│ PIP      ┆ https://github.com/ethereum/solidity ┆ https://github.com/taminomara/sphinx-a4doc     │\n",
                            "│ PIP      ┆ https://github.com/ethereum/solidity ┆ https://github.com/sphinx-doc/sphinx           │\n",
                            "│ PIP      ┆ https://github.com/ethereum/solidity ┆ https://github.com/readthedocs/sphinx_rtd_them │\n",
                            "│          ┆                                      ┆ e                                              │\n",
                            "└──────────┴──────────────────────────────────────┴────────────────────────────────────────────────┘"
                        ]
                    },
                    "execution_count": 6,
                    "metadata": {},
                    "output_type": "execute_result"
                }
            ],
            "source": [
                "df.filter(pl.col(\"source\") == \"https://github.com/ethereum/solidity\")"
            ]
        },
        {
            "cell_type": "code",
            "execution_count": 7,
            "metadata": {},
            "outputs": [
                {
                    "data": {
                        "text/html": [
                            "<div><style>\n",
                            ".dataframe > thead > tr,\n",
                            ".dataframe > tbody > tr {\n",
                            "  text-align: right;\n",
                            "  white-space: pre-wrap;\n",
                            "}\n",
                            "</style>\n",
                            "<small>shape: (4, 2)</small><table border=\"1\" class=\"dataframe\"><thead><tr><th>relation</th><th>len</th></tr><tr><td>str</td><td>u32</td></tr></thead><tbody><tr><td>&quot;RUST&quot;</td><td>1349</td></tr><tr><td>&quot;PIP&quot;</td><td>135</td></tr><tr><td>&quot;NPM&quot;</td><td>7814</td></tr><tr><td>&quot;GO&quot;</td><td>598</td></tr></tbody></table></div>"
                        ],
                        "text/plain": [
                            "shape: (4, 2)\n",
                            "┌──────────┬──────┐\n",
                            "│ relation ┆ len  │\n",
                            "│ ---      ┆ ---  │\n",
                            "│ str      ┆ u32  │\n",
                            "╞══════════╪══════╡\n",
                            "│ RUST     ┆ 1349 │\n",
                            "│ PIP      ┆ 135  │\n",
                            "│ NPM      ┆ 7814 │\n",
                            "│ GO       ┆ 598  │\n",
                            "└──────────┴──────┘"
                        ]
                    },
                    "execution_count": 7,
                    "metadata": {},
                    "output_type": "execute_result"
                }
            ],
            "source": [
                "df.group_by(\"relation\").agg(pl.len()).sort(\"relation\", descending=True)"
            ]
        },
        {
            "cell_type": "code",
            "execution_count": 8,
            "metadata": {},
            "outputs": [
                {
                    "data": {
                        "text/html": [
                            "<div><style>\n",
                            ".dataframe > thead > tr,\n",
                            ".dataframe > tbody > tr {\n",
                            "  text-align: right;\n",
                            "  white-space: pre-wrap;\n",
                            "}\n",
                            "</style>\n",
                            "<small>shape: (10, 7)</small><table border=\"1\" class=\"dataframe\"><thead><tr><th>relation</th><th>source</th><th>target</th><th>source_organization</th><th>source_repository</th><th>target_organization</th><th>target_repository</th></tr><tr><td>str</td><td>str</td><td>str</td><td>str</td><td>str</td><td>str</td><td>str</td></tr></thead><tbody><tr><td>&quot;NPM&quot;</td><td>&quot;https://github.com/ethereum/remix-project&quot;</td><td>&quot;https://github.com/unjs/unstorage&quot;</td><td>&quot;ethereum&quot;</td><td>&quot;remix-project&quot;</td><td>&quot;unjs&quot;</td><td>&quot;unstorage&quot;</td></tr><tr><td>&quot;NPM&quot;</td><td>&quot;https://github.com/ethereum/remix-project&quot;</td><td>&quot;https://github.com/hughsk/ast-parents&quot;</td><td>&quot;ethereum&quot;</td><td>&quot;remix-project&quot;</td><td>&quot;hughsk&quot;</td><td>&quot;ast-parents&quot;</td></tr><tr><td>&quot;NPM&quot;</td><td>&quot;https://github.com/safe-global/safe-smart-account&quot;</td><td>&quot;https://github.com/ashtuchkin/iconv-lite&quot;</td><td>&quot;safe-global&quot;</td><td>&quot;safe-smart-account&quot;</td><td>&quot;ashtuchkin&quot;</td><td>&quot;iconv-lite&quot;</td></tr><tr><td>&quot;GO&quot;</td><td>&quot;https://github.com/prysmaticlabs/prysm&quot;</td><td>&quot;https://github.com/quic-go/quic-go&quot;</td><td>&quot;prysmaticlabs&quot;</td><td>&quot;prysm&quot;</td><td>&quot;quic-go&quot;</td><td>&quot;quic-go&quot;</td></tr><tr><td>&quot;GO&quot;</td><td>&quot;https://github.com/erigontech/erigon&quot;</td><td>&quot;https://github.com/grpc-ecosystem/go-grpc-middleware&quot;</td><td>&quot;erigontech&quot;</td><td>&quot;erigon&quot;</td><td>&quot;grpc-ecosystem&quot;</td><td>&quot;go-grpc-middleware&quot;</td></tr><tr><td>&quot;NPM&quot;</td><td>&quot;https://github.com/chainsafe/lodestar&quot;</td><td>&quot;https://github.com/chainsafe/blst-ts&quot;</td><td>&quot;chainsafe&quot;</td><td>&quot;lodestar&quot;</td><td>&quot;chainsafe&quot;</td><td>&quot;blst-ts&quot;</td></tr><tr><td>&quot;RUST&quot;</td><td>&quot;https://github.com/grandinetech/grandine&quot;</td><td>&quot;https://github.com/rust-cli/anstyle&quot;</td><td>&quot;grandinetech&quot;</td><td>&quot;grandine&quot;</td><td>&quot;rust-cli&quot;</td><td>&quot;anstyle&quot;</td></tr><tr><td>&quot;NPM&quot;</td><td>&quot;https://github.com/chainsafe/lodestar&quot;</td><td>&quot;https://github.com/webpack/enhanced-resolve&quot;</td><td>&quot;chainsafe&quot;</td><td>&quot;lodestar&quot;</td><td>&quot;webpack&quot;</td><td>&quot;enhanced-resolve&quot;</td></tr><tr><td>&quot;NPM&quot;</td><td>&quot;https://github.com/ethereum/remix-project&quot;</td><td>&quot;https://github.com/thlorenz/deep-is&quot;</td><td>&quot;ethereum&quot;</td><td>&quot;remix-project&quot;</td><td>&quot;thlorenz&quot;</td><td>&quot;deep-is&quot;</td></tr><tr><td>&quot;NPM&quot;</td><td>&quot;https://github.com/ethereum/remix-project&quot;</td><td>&quot;https://github.com/develar/fs-extra-p&quot;</td><td>&quot;ethereum&quot;</td><td>&quot;remix-project&quot;</td><td>&quot;develar&quot;</td><td>&quot;fs-extra-p&quot;</td></tr></tbody></table></div>"
                        ],
                        "text/plain": [
                            "shape: (10, 7)\n",
                            "┌──────────┬──────────────┬──────────────┬──────────────┬──────────────┬─────────────┬─────────────┐\n",
                            "│ relation ┆ source       ┆ target       ┆ source_organ ┆ source_repos ┆ target_orga ┆ target_repo │\n",
                            "│ ---      ┆ ---          ┆ ---          ┆ ization      ┆ itory        ┆ nization    ┆ sitory      │\n",
                            "│ str      ┆ str          ┆ str          ┆ ---          ┆ ---          ┆ ---         ┆ ---         │\n",
                            "│          ┆              ┆              ┆ str          ┆ str          ┆ str         ┆ str         │\n",
                            "╞══════════╪══════════════╪══════════════╪══════════════╪══════════════╪═════════════╪═════════════╡\n",
                            "│ NPM      ┆ https://gith ┆ https://gith ┆ ethereum     ┆ remix-projec ┆ unjs        ┆ unstorage   │\n",
                            "│          ┆ ub.com/ether ┆ ub.com/unjs/ ┆              ┆ t            ┆             ┆             │\n",
                            "│          ┆ eum/remix-pr ┆ unstorage    ┆              ┆              ┆             ┆             │\n",
                            "│          ┆ oject        ┆              ┆              ┆              ┆             ┆             │\n",
                            "│ NPM      ┆ https://gith ┆ https://gith ┆ ethereum     ┆ remix-projec ┆ hughsk      ┆ ast-parents │\n",
                            "│          ┆ ub.com/ether ┆ ub.com/hughs ┆              ┆ t            ┆             ┆             │\n",
                            "│          ┆ eum/remix-pr ┆ k/ast-parent ┆              ┆              ┆             ┆             │\n",
                            "│          ┆ oject        ┆ s            ┆              ┆              ┆             ┆             │\n",
                            "│ NPM      ┆ https://gith ┆ https://gith ┆ safe-global  ┆ safe-smart-a ┆ ashtuchkin  ┆ iconv-lite  │\n",
                            "│          ┆ ub.com/safe- ┆ ub.com/ashtu ┆              ┆ ccount       ┆             ┆             │\n",
                            "│          ┆ global/safe- ┆ chkin/iconv- ┆              ┆              ┆             ┆             │\n",
                            "│          ┆ smart-accoun ┆ lite         ┆              ┆              ┆             ┆             │\n",
                            "│          ┆ t            ┆              ┆              ┆              ┆             ┆             │\n",
                            "│ GO       ┆ https://gith ┆ https://gith ┆ prysmaticlab ┆ prysm        ┆ quic-go     ┆ quic-go     │\n",
                            "│          ┆ ub.com/prysm ┆ ub.com/quic- ┆ s            ┆              ┆             ┆             │\n",
                            "│          ┆ aticlabs/pry ┆ go/quic-go   ┆              ┆              ┆             ┆             │\n",
                            "│          ┆ sm           ┆              ┆              ┆              ┆             ┆             │\n",
                            "│ GO       ┆ https://gith ┆ https://gith ┆ erigontech   ┆ erigon       ┆ grpc-ecosys ┆ go-grpc-mid │\n",
                            "│          ┆ ub.com/erigo ┆ ub.com/grpc- ┆              ┆              ┆ tem         ┆ dleware     │\n",
                            "│          ┆ ntech/erigon ┆ ecosystem/go ┆              ┆              ┆             ┆             │\n",
                            "│          ┆              ┆ -grpc-middle ┆              ┆              ┆             ┆             │\n",
                            "│          ┆              ┆ ware         ┆              ┆              ┆             ┆             │\n",
                            "│ NPM      ┆ https://gith ┆ https://gith ┆ chainsafe    ┆ lodestar     ┆ chainsafe   ┆ blst-ts     │\n",
                            "│          ┆ ub.com/chain ┆ ub.com/chain ┆              ┆              ┆             ┆             │\n",
                            "│          ┆ safe/lodesta ┆ safe/blst-ts ┆              ┆              ┆             ┆             │\n",
                            "│          ┆ r            ┆              ┆              ┆              ┆             ┆             │\n",
                            "│ RUST     ┆ https://gith ┆ https://gith ┆ grandinetech ┆ grandine     ┆ rust-cli    ┆ anstyle     │\n",
                            "│          ┆ ub.com/grand ┆ ub.com/rust- ┆              ┆              ┆             ┆             │\n",
                            "│          ┆ inetech/gran ┆ cli/anstyle  ┆              ┆              ┆             ┆             │\n",
                            "│          ┆ dine         ┆              ┆              ┆              ┆             ┆             │\n",
                            "│ NPM      ┆ https://gith ┆ https://gith ┆ chainsafe    ┆ lodestar     ┆ webpack     ┆ enhanced-re │\n",
                            "│          ┆ ub.com/chain ┆ ub.com/webpa ┆              ┆              ┆             ┆ solve       │\n",
                            "│          ┆ safe/lodesta ┆ ck/enhanced- ┆              ┆              ┆             ┆             │\n",
                            "│          ┆ r            ┆ resolve      ┆              ┆              ┆             ┆             │\n",
                            "│ NPM      ┆ https://gith ┆ https://gith ┆ ethereum     ┆ remix-projec ┆ thlorenz    ┆ deep-is     │\n",
                            "│          ┆ ub.com/ether ┆ ub.com/thlor ┆              ┆ t            ┆             ┆             │\n",
                            "│          ┆ eum/remix-pr ┆ enz/deep-is  ┆              ┆              ┆             ┆             │\n",
                            "│          ┆ oject        ┆              ┆              ┆              ┆             ┆             │\n",
                            "│ NPM      ┆ https://gith ┆ https://gith ┆ ethereum     ┆ remix-projec ┆ develar     ┆ fs-extra-p  │\n",
                            "│          ┆ ub.com/ether ┆ ub.com/devel ┆              ┆ t            ┆             ┆             │\n",
                            "│          ┆ eum/remix-pr ┆ ar/fs-extra- ┆              ┆              ┆             ┆             │\n",
                            "│          ┆ oject        ┆ p            ┆              ┆              ┆             ┆             │\n",
                            "└──────────┴──────────────┴──────────────┴──────────────┴──────────────┴─────────────┴─────────────┘"
                        ]
                    },
                    "execution_count": 8,
                    "metadata": {},
                    "output_type": "execute_result"
                }
            ],
            "source": [
                "# Split source and target URLs into organization and repository components\n",
                "df = df.with_columns([\n",
                "    pl.col(\"source\").str.extract(r\"https://github.com/([^/]+)/([^/]+)$\", 1).alias(\"source_organization\"),\n",
                "    pl.col(\"source\").str.extract(r\"https://github.com/([^/]+)/([^/]+)$\", 2).alias(\"source_repository\"),\n",
                "    pl.col(\"target\").str.extract(r\"https://github.com/([^/]+)/([^/]+)$\", 1).alias(\"target_organization\"),\n",
                "    pl.col(\"target\").str.extract(r\"https://github.com/([^/]+)/([^/]+)$\", 2).alias(\"target_repository\")\n",
                "])\n",
                "\n",
                "df.sample(10)"
            ]
        },
        {
            "cell_type": "code",
            "execution_count": 9,
            "metadata": {},
            "outputs": [
                {
                    "data": {
                        "text/html": [
                            "<div><style>\n",
                            ".dataframe > thead > tr,\n",
                            ".dataframe > tbody > tr {\n",
                            "  text-align: right;\n",
                            "  white-space: pre-wrap;\n",
                            "}\n",
                            "</style>\n",
                            "<small>shape: (18, 2)</small><table border=\"1\" class=\"dataframe\"><thead><tr><th>source</th><th>target</th></tr><tr><td>str</td><td>u32</td></tr></thead><tbody><tr><td>&quot;https://github.com/ethereum/remix-project&quot;</td><td>2277</td></tr><tr><td>&quot;https://github.com/web3/web3.js&quot;</td><td>1709</td></tr><tr><td>&quot;https://github.com/chainsafe/lodestar&quot;</td><td>1514</td></tr><tr><td>&quot;https://github.com/eth-infinitism/account-abstraction&quot;</td><td>854</td></tr><tr><td>&quot;https://github.com/ethereumjs/ethereumjs-monorepo&quot;</td><td>796</td></tr><tr><td>&quot;https://github.com/safe-global/safe-smart-account&quot;</td><td>519</td></tr><tr><td>&quot;https://github.com/paradigmxyz/reth&quot;</td><td>463</td></tr><tr><td>&quot;https://github.com/sigp/lighthouse&quot;</td><td>451</td></tr><tr><td>&quot;https://github.com/grandinetech/grandine&quot;</td><td>435</td></tr><tr><td>&quot;https://github.com/erigontech/erigon&quot;</td><td>253</td></tr><tr><td>&quot;https://github.com/prysmaticlabs/prysm&quot;</td><td>244</td></tr><tr><td>&quot;https://github.com/consensys/teku&quot;</td><td>137</td></tr><tr><td>&quot;https://github.com/ethereum/go-ethereum&quot;</td><td>112</td></tr><tr><td>&quot;https://github.com/status-im/nimbus-eth2&quot;</td><td>96</td></tr><tr><td>&quot;https://github.com/ethereum/web3.py&quot;</td><td>13</td></tr><tr><td>&quot;https://github.com/ethereum/py-evm&quot;</td><td>11</td></tr><tr><td>&quot;https://github.com/vyperlang/vyper&quot;</td><td>9</td></tr><tr><td>&quot;https://github.com/ethereum/solidity&quot;</td><td>3</td></tr></tbody></table></div>"
                        ],
                        "text/plain": [
                            "shape: (18, 2)\n",
                            "┌───────────────────────────────────────────────────────┬────────┐\n",
                            "│ source                                                ┆ target │\n",
                            "│ ---                                                   ┆ ---    │\n",
                            "│ str                                                   ┆ u32    │\n",
                            "╞═══════════════════════════════════════════════════════╪════════╡\n",
                            "│ https://github.com/ethereum/remix-project             ┆ 2277   │\n",
                            "│ https://github.com/web3/web3.js                       ┆ 1709   │\n",
                            "│ https://github.com/chainsafe/lodestar                 ┆ 1514   │\n",
                            "│ https://github.com/eth-infinitism/account-abstraction ┆ 854    │\n",
                            "│ https://github.com/ethereumjs/ethereumjs-monorepo     ┆ 796    │\n",
                            "│ https://github.com/safe-global/safe-smart-account     ┆ 519    │\n",
                            "│ https://github.com/paradigmxyz/reth                   ┆ 463    │\n",
                            "│ https://github.com/sigp/lighthouse                    ┆ 451    │\n",
                            "│ https://github.com/grandinetech/grandine              ┆ 435    │\n",
                            "│ https://github.com/erigontech/erigon                  ┆ 253    │\n",
                            "│ https://github.com/prysmaticlabs/prysm                ┆ 244    │\n",
                            "│ https://github.com/consensys/teku                     ┆ 137    │\n",
                            "│ https://github.com/ethereum/go-ethereum               ┆ 112    │\n",
                            "│ https://github.com/status-im/nimbus-eth2              ┆ 96     │\n",
                            "│ https://github.com/ethereum/web3.py                   ┆ 13     │\n",
                            "│ https://github.com/ethereum/py-evm                    ┆ 11     │\n",
                            "│ https://github.com/vyperlang/vyper                    ┆ 9      │\n",
                            "│ https://github.com/ethereum/solidity                  ┆ 3      │\n",
                            "└───────────────────────────────────────────────────────┴────────┘"
                        ]
                    },
                    "execution_count": 9,
                    "metadata": {},
                    "output_type": "execute_result"
                }
            ],
            "source": [
                "df.group_by(\"source\").agg(pl.col(\"target\").n_unique()).sort(\"target\", descending=True)"
            ]
        },
        {
            "cell_type": "code",
            "execution_count": 10,
            "metadata": {},
            "outputs": [
                {
                    "data": {
                        "text/html": [
                            "<div><style>\n",
                            ".dataframe > thead > tr,\n",
                            ".dataframe > tbody > tr {\n",
                            "  text-align: right;\n",
                            "  white-space: pre-wrap;\n",
                            "}\n",
                            "</style>\n",
                            "<small>shape: (10, 2)</small><table border=\"1\" class=\"dataframe\"><thead><tr><th>target</th><th>source</th></tr><tr><td>str</td><td>u32</td></tr></thead><tbody><tr><td>&quot;https://github.com/sindresorhus/resolve-from&quot;</td><td>7</td></tr><tr><td>&quot;https://github.com/paulmillr/noble-curves&quot;</td><td>7</td></tr><tr><td>&quot;https://github.com/kevva/shebang-command&quot;</td><td>7</td></tr><tr><td>&quot;https://github.com/chalk/ansi-regex&quot;</td><td>7</td></tr><tr><td>&quot;https://github.com/ricmoo/aes-js&quot;</td><td>7</td></tr><tr><td>&quot;https://github.com/nodeca/js-yaml&quot;</td><td>7</td></tr><tr><td>&quot;https://github.com/substack/text-table&quot;</td><td>7</td></tr><tr><td>&quot;https://github.com/acornjs/acorn&quot;</td><td>7</td></tr><tr><td>&quot;https://github.com/garycourt/uri-js&quot;</td><td>7</td></tr><tr><td>&quot;https://github.com/lydell/js-tokens&quot;</td><td>7</td></tr></tbody></table></div>"
                        ],
                        "text/plain": [
                            "shape: (10, 2)\n",
                            "┌──────────────────────────────────────────────┬────────┐\n",
                            "│ target                                       ┆ source │\n",
                            "│ ---                                          ┆ ---    │\n",
                            "│ str                                          ┆ u32    │\n",
                            "╞══════════════════════════════════════════════╪════════╡\n",
                            "│ https://github.com/sindresorhus/resolve-from ┆ 7      │\n",
                            "│ https://github.com/paulmillr/noble-curves    ┆ 7      │\n",
                            "│ https://github.com/kevva/shebang-command     ┆ 7      │\n",
                            "│ https://github.com/chalk/ansi-regex          ┆ 7      │\n",
                            "│ https://github.com/ricmoo/aes-js             ┆ 7      │\n",
                            "│ https://github.com/nodeca/js-yaml            ┆ 7      │\n",
                            "│ https://github.com/substack/text-table       ┆ 7      │\n",
                            "│ https://github.com/acornjs/acorn             ┆ 7      │\n",
                            "│ https://github.com/garycourt/uri-js          ┆ 7      │\n",
                            "│ https://github.com/lydell/js-tokens          ┆ 7      │\n",
                            "└──────────────────────────────────────────────┴────────┘"
                        ]
                    },
                    "execution_count": 10,
                    "metadata": {},
                    "output_type": "execute_result"
                }
            ],
            "source": [
                "df.group_by(\"target\").agg(pl.col(\"source\").n_unique()).sort(\"source\", descending=True).head(10)"
            ]
        },
        {
            "cell_type": "code",
            "execution_count": 11,
            "metadata": {},
            "outputs": [
                {
                    "data": {
                        "text/html": [
                            "<div><style>\n",
                            ".dataframe > thead > tr,\n",
                            ".dataframe > tbody > tr {\n",
                            "  text-align: right;\n",
                            "  white-space: pre-wrap;\n",
                            "}\n",
                            "</style>\n",
                            "<small>shape: (10, 2)</small><table border=\"1\" class=\"dataframe\"><thead><tr><th>target_organization</th><th>target_repository</th></tr><tr><td>str</td><td>u32</td></tr></thead><tbody><tr><td>&quot;sindresorhus&quot;</td><td>253</td></tr><tr><td>&quot;jonschlinkert&quot;</td><td>104</td></tr><tr><td>&quot;npm&quot;</td><td>82</td></tr><tr><td>&quot;inspect-js&quot;</td><td>49</td></tr><tr><td>&quot;syntax-tree&quot;</td><td>46</td></tr><tr><td>&quot;isaacs&quot;</td><td>44</td></tr><tr><td>&quot;ljharb&quot;</td><td>43</td></tr><tr><td>&quot;gulpjs&quot;</td><td>42</td></tr><tr><td>&quot;wooorm&quot;</td><td>34</td></tr><tr><td>&quot;d3&quot;</td><td>32</td></tr></tbody></table></div>"
                        ],
                        "text/plain": [
                            "shape: (10, 2)\n",
                            "┌─────────────────────┬───────────────────┐\n",
                            "│ target_organization ┆ target_repository │\n",
                            "│ ---                 ┆ ---               │\n",
                            "│ str                 ┆ u32               │\n",
                            "╞═════════════════════╪═══════════════════╡\n",
                            "│ sindresorhus        ┆ 253               │\n",
                            "│ jonschlinkert       ┆ 104               │\n",
                            "│ npm                 ┆ 82                │\n",
                            "│ inspect-js          ┆ 49                │\n",
                            "│ syntax-tree         ┆ 46                │\n",
                            "│ isaacs              ┆ 44                │\n",
                            "│ ljharb              ┆ 43                │\n",
                            "│ gulpjs              ┆ 42                │\n",
                            "│ wooorm              ┆ 34                │\n",
                            "│ d3                  ┆ 32                │\n",
                            "└─────────────────────┴───────────────────┘"
                        ]
                    },
                    "execution_count": 11,
                    "metadata": {},
                    "output_type": "execute_result"
                }
            ],
            "source": [
                "df.group_by(\"target_organization\").agg(pl.col(\"target_repository\").n_unique()).sort(\"target_repository\", descending=True).head(10)"
            ]
        },
        {
            "cell_type": "markdown",
            "metadata": {},
            "source": [
                "## Baseline Model\n",
                "\n",
                "Let's work on a model that assigns the same weight to all dependencies. Source (`repo`) weights should sum to 1."
            ]
        },
        {
            "cell_type": "code",
            "execution_count": 12,
            "metadata": {},
            "outputs": [],
            "source": [
                "df = df.with_columns(\n",
                "    (1 / pl.col(\"target\").n_unique().over(\"source\")).alias(\"weight\")\n",
                ")"
            ]
        },
        {
            "cell_type": "code",
            "execution_count": 13,
            "metadata": {},
            "outputs": [
                {
                    "data": {
                        "text/html": [
                            "<div><style>\n",
                            ".dataframe > thead > tr,\n",
                            ".dataframe > tbody > tr {\n",
                            "  text-align: right;\n",
                            "  white-space: pre-wrap;\n",
                            "}\n",
                            "</style>\n",
                            "<small>shape: (10, 3)</small><table border=\"1\" class=\"dataframe\"><thead><tr><th>source</th><th>target</th><th>weight</th></tr><tr><td>str</td><td>str</td><td>f64</td></tr></thead><tbody><tr><td>&quot;https://github.com/chainsafe/lodestar&quot;</td><td>&quot;https://github.com/iarna/console-control-strings&quot;</td><td>0.000661</td></tr><tr><td>&quot;https://github.com/eth-infinitism/account-abstraction&quot;</td><td>&quot;https://github.com/juliangruber/isarray&quot;</td><td>0.001171</td></tr><tr><td>&quot;https://github.com/ethereumjs/ethereumjs-monorepo&quot;</td><td>&quot;https://github.com/feross/run-parallel-limit&quot;</td><td>0.001256</td></tr><tr><td>&quot;https://github.com/ethereum/remix-project&quot;</td><td>&quot;https://github.com/cryptocoinjs/keccak&quot;</td><td>0.000439</td></tr><tr><td>&quot;https://github.com/ethereum/remix-project&quot;</td><td>&quot;https://github.com/unjs/consola&quot;</td><td>0.000439</td></tr><tr><td>&quot;https://github.com/chainsafe/lodestar&quot;</td><td>&quot;https://github.com/qix-/color-convert&quot;</td><td>0.000661</td></tr><tr><td>&quot;https://github.com/web3/web3.js&quot;</td><td>&quot;https://github.com/justmoon/node-extend&quot;</td><td>0.000585</td></tr><tr><td>&quot;https://github.com/chainsafe/lodestar&quot;</td><td>&quot;https://github.com/mswjs/headers-polyfill&quot;</td><td>0.000661</td></tr><tr><td>&quot;https://github.com/ethereum/remix-project&quot;</td><td>&quot;https://github.com/winstonjs/winston&quot;</td><td>0.000439</td></tr><tr><td>&quot;https://github.com/ethereum/remix-project&quot;</td><td>&quot;https://github.com/andarist/react-textarea-autosize&quot;</td><td>0.000439</td></tr></tbody></table></div>"
                        ],
                        "text/plain": [
                            "shape: (10, 3)\n",
                            "┌───────────────────────────────────────────┬───────────────────────────────────────────┬──────────┐\n",
                            "│ source                                    ┆ target                                    ┆ weight   │\n",
                            "│ ---                                       ┆ ---                                       ┆ ---      │\n",
                            "│ str                                       ┆ str                                       ┆ f64      │\n",
                            "╞═══════════════════════════════════════════╪═══════════════════════════════════════════╪══════════╡\n",
                            "│ https://github.com/chainsafe/lodestar     ┆ https://github.com/iarna/console-control- ┆ 0.000661 │\n",
                            "│                                           ┆ strings                                   ┆          │\n",
                            "│ https://github.com/eth-infinitism/account ┆ https://github.com/juliangruber/isarray   ┆ 0.001171 │\n",
                            "│ -abstraction                              ┆                                           ┆          │\n",
                            "│ https://github.com/ethereumjs/ethereumjs- ┆ https://github.com/feross/run-parallel-li ┆ 0.001256 │\n",
                            "│ monorepo                                  ┆ mit                                       ┆          │\n",
                            "│ https://github.com/ethereum/remix-project ┆ https://github.com/cryptocoinjs/keccak    ┆ 0.000439 │\n",
                            "│ https://github.com/ethereum/remix-project ┆ https://github.com/unjs/consola           ┆ 0.000439 │\n",
                            "│ https://github.com/chainsafe/lodestar     ┆ https://github.com/qix-/color-convert     ┆ 0.000661 │\n",
                            "│ https://github.com/web3/web3.js           ┆ https://github.com/justmoon/node-extend   ┆ 0.000585 │\n",
                            "│ https://github.com/chainsafe/lodestar     ┆ https://github.com/mswjs/headers-polyfill ┆ 0.000661 │\n",
                            "│ https://github.com/ethereum/remix-project ┆ https://github.com/winstonjs/winston      ┆ 0.000439 │\n",
                            "│ https://github.com/ethereum/remix-project ┆ https://github.com/andarist/react-textare ┆ 0.000439 │\n",
                            "│                                           ┆ a-autosize                                ┆          │\n",
                            "└───────────────────────────────────────────┴───────────────────────────────────────────┴──────────┘"
                        ]
                    },
                    "execution_count": 13,
                    "metadata": {},
                    "output_type": "execute_result"
                }
            ],
            "source": [
                "df.select(\"source\", \"target\", \"weight\").sample(10)"
            ]
        },
        {
            "cell_type": "code",
            "execution_count": 14,
            "metadata": {},
            "outputs": [
                {
                    "data": {
                        "text/html": [
                            "<div><style>\n",
                            ".dataframe > thead > tr,\n",
                            ".dataframe > tbody > tr {\n",
                            "  text-align: right;\n",
                            "  white-space: pre-wrap;\n",
                            "}\n",
                            "</style>\n",
                            "<small>shape: (18, 2)</small><table border=\"1\" class=\"dataframe\"><thead><tr><th>source</th><th>weight</th></tr><tr><td>str</td><td>f64</td></tr></thead><tbody><tr><td>&quot;https://github.com/grandinetech/grandine&quot;</td><td>1.0</td></tr><tr><td>&quot;https://github.com/erigontech/erigon&quot;</td><td>1.0</td></tr><tr><td>&quot;https://github.com/ethereum/web3.py&quot;</td><td>1.0</td></tr><tr><td>&quot;https://github.com/chainsafe/lodestar&quot;</td><td>1.0</td></tr><tr><td>&quot;https://github.com/ethereum/py-evm&quot;</td><td>1.0</td></tr><tr><td>&quot;https://github.com/ethereum/go-ethereum&quot;</td><td>1.0</td></tr><tr><td>&quot;https://github.com/consensys/teku&quot;</td><td>1.0</td></tr><tr><td>&quot;https://github.com/ethereum/remix-project&quot;</td><td>1.0</td></tr><tr><td>&quot;https://github.com/web3/web3.js&quot;</td><td>1.0</td></tr><tr><td>&quot;https://github.com/vyperlang/vyper&quot;</td><td>1.0</td></tr><tr><td>&quot;https://github.com/ethereum/solidity&quot;</td><td>1.0</td></tr><tr><td>&quot;https://github.com/prysmaticlabs/prysm&quot;</td><td>1.0</td></tr><tr><td>&quot;https://github.com/eth-infinitism/account-abstraction&quot;</td><td>1.0</td></tr><tr><td>&quot;https://github.com/paradigmxyz/reth&quot;</td><td>1.0</td></tr><tr><td>&quot;https://github.com/ethereumjs/ethereumjs-monorepo&quot;</td><td>1.0</td></tr><tr><td>&quot;https://github.com/status-im/nimbus-eth2&quot;</td><td>1.0</td></tr><tr><td>&quot;https://github.com/sigp/lighthouse&quot;</td><td>1.0</td></tr><tr><td>&quot;https://github.com/safe-global/safe-smart-account&quot;</td><td>1.0</td></tr></tbody></table></div>"
                        ],
                        "text/plain": [
                            "shape: (18, 2)\n",
                            "┌───────────────────────────────────────────────────────┬────────┐\n",
                            "│ source                                                ┆ weight │\n",
                            "│ ---                                                   ┆ ---    │\n",
                            "│ str                                                   ┆ f64    │\n",
                            "╞═══════════════════════════════════════════════════════╪════════╡\n",
                            "│ https://github.com/grandinetech/grandine              ┆ 1.0    │\n",
                            "│ https://github.com/erigontech/erigon                  ┆ 1.0    │\n",
                            "│ https://github.com/ethereum/web3.py                   ┆ 1.0    │\n",
                            "│ https://github.com/chainsafe/lodestar                 ┆ 1.0    │\n",
                            "│ https://github.com/ethereum/py-evm                    ┆ 1.0    │\n",
                            "│ https://github.com/ethereum/go-ethereum               ┆ 1.0    │\n",
                            "│ https://github.com/consensys/teku                     ┆ 1.0    │\n",
                            "│ https://github.com/ethereum/remix-project             ┆ 1.0    │\n",
                            "│ https://github.com/web3/web3.js                       ┆ 1.0    │\n",
                            "│ https://github.com/vyperlang/vyper                    ┆ 1.0    │\n",
                            "│ https://github.com/ethereum/solidity                  ┆ 1.0    │\n",
                            "│ https://github.com/prysmaticlabs/prysm                ┆ 1.0    │\n",
                            "│ https://github.com/eth-infinitism/account-abstraction ┆ 1.0    │\n",
                            "│ https://github.com/paradigmxyz/reth                   ┆ 1.0    │\n",
                            "│ https://github.com/ethereumjs/ethereumjs-monorepo     ┆ 1.0    │\n",
                            "│ https://github.com/status-im/nimbus-eth2              ┆ 1.0    │\n",
                            "│ https://github.com/sigp/lighthouse                    ┆ 1.0    │\n",
                            "│ https://github.com/safe-global/safe-smart-account     ┆ 1.0    │\n",
                            "└───────────────────────────────────────────────────────┴────────┘"
                        ]
                    },
                    "execution_count": 14,
                    "metadata": {},
                    "output_type": "execute_result"
                }
            ],
            "source": [
                "df.group_by(\"source\").agg(pl.col(\"weight\").sum())"
            ]
        },
        {
            "cell_type": "markdown",
            "metadata": {},
            "source": [
                "## Heuristic Model\n",
                "\n",
                "Now, lets assign weights based on external data. In this case, we will get some data from GitHub for each package."
            ]
        },
        {
            "cell_type": "code",
            "execution_count": 25,
            "metadata": {},
            "outputs": [
                {
                    "data": {
                        "text/html": [
                            "<div><style>\n",
                            ".dataframe > thead > tr,\n",
                            ".dataframe > tbody > tr {\n",
                            "  text-align: right;\n",
                            "  white-space: pre-wrap;\n",
                            "}\n",
                            "</style>\n",
                            "<small>shape: (5, 13)</small><table border=\"1\" class=\"dataframe\"><thead><tr><th>target</th><th>stars</th><th>forks</th><th>created_at</th><th>updated_at</th><th>is_fork</th><th>open_issues</th><th>size</th><th>language</th><th>has_wiki</th><th>has_discussions</th><th>topics</th><th>description</th></tr><tr><td>str</td><td>i64</td><td>i64</td><td>datetime[μs, UTC]</td><td>datetime[μs, UTC]</td><td>bool</td><td>i64</td><td>i64</td><td>str</td><td>bool</td><td>bool</td><td>list[str]</td><td>str</td></tr></thead><tbody><tr><td>&quot;https://github.com/tootallnate/node-bindings&quot;</td><td>413</td><td>96</td><td>2012-01-28 20:26:06 UTC</td><td>2024-11-18 06:17:23 UTC</td><td>false</td><td>35</td><td>45</td><td>&quot;JavaScript&quot;</td><td>true</td><td>false</td><td>[]</td><td>&quot;Helper module for loading your native module&#x27;s `.node` file&quot;</td></tr><tr><td>&quot;https://github.com/jupyter/terminado&quot;</td><td>369</td><td>95</td><td>2014-09-29 23:44:25 UTC</td><td>2024-12-18 08:27:35 UTC</td><td>false</td><td>29</td><td>566</td><td>&quot;Python&quot;</td><td>true</td><td>false</td><td>[]</td><td>&quot;Terminals served by tornado websockets&quot;</td></tr><tr><td>&quot;https://github.com/rpetrich/babel-plugin-transform-async-to-promises&quot;</td><td>247</td><td>18</td><td>2018-01-06 23:27:25 UTC</td><td>2024-12-10 17:10:35 UTC</td><td>false</td><td>15</td><td>2465</td><td>&quot;TypeScript&quot;</td><td>false</td><td>false</td><td>[]</td><td>&quot;Transform async/await to somewhat idiomatic JavaScript promise chains&quot;</td></tr><tr><td>&quot;https://github.com/libp2p/go-nat&quot;</td><td>19</td><td>14</td><td>2018-09-12 19:04:30 UTC</td><td>2024-09-11 06:57:17 UTC</td><td>true</td><td>2</td><td>65</td><td>&quot;Go&quot;</td><td>true</td><td>false</td><td>[]</td><td>&quot;NAT port mapping library for Go&quot;</td></tr><tr><td>&quot;https://github.com/facebook/regenerator&quot;</td><td>3836</td><td>1159</td><td>2013-10-05 14:37:03 UTC</td><td>2024-12-17 20:23:40 UTC</td><td>false</td><td>82</td><td>8959</td><td>&quot;JavaScript&quot;</td><td>true</td><td>false</td><td>[]</td><td>&quot;Source transformer enabling ECMAScript 6 generator functions in JavaScript-of-today.&quot;</td></tr></tbody></table></div>"
                        ],
                        "text/plain": [
                            "shape: (5, 13)\n",
                            "┌─────────────┬───────┬───────┬─────────────┬───┬──────────┬─────────────┬───────────┬─────────────┐\n",
                            "│ target      ┆ stars ┆ forks ┆ created_at  ┆ … ┆ has_wiki ┆ has_discuss ┆ topics    ┆ description │\n",
                            "│ ---         ┆ ---   ┆ ---   ┆ ---         ┆   ┆ ---      ┆ ions        ┆ ---       ┆ ---         │\n",
                            "│ str         ┆ i64   ┆ i64   ┆ datetime[μs ┆   ┆ bool     ┆ ---         ┆ list[str] ┆ str         │\n",
                            "│             ┆       ┆       ┆ , UTC]      ┆   ┆          ┆ bool        ┆           ┆             │\n",
                            "╞═════════════╪═══════╪═══════╪═════════════╪═══╪══════════╪═════════════╪═══════════╪═════════════╡\n",
                            "│ https://git ┆ 413   ┆ 96    ┆ 2012-01-28  ┆ … ┆ true     ┆ false       ┆ []        ┆ Helper      │\n",
                            "│ hub.com/too ┆       ┆       ┆ 20:26:06    ┆   ┆          ┆             ┆           ┆ module for  │\n",
                            "│ tallnate/no ┆       ┆       ┆ UTC         ┆   ┆          ┆             ┆           ┆ loading     │\n",
                            "│ de-bindings ┆       ┆       ┆             ┆   ┆          ┆             ┆           ┆ your native │\n",
                            "│             ┆       ┆       ┆             ┆   ┆          ┆             ┆           ┆ module's    │\n",
                            "│             ┆       ┆       ┆             ┆   ┆          ┆             ┆           ┆ `.node`     │\n",
                            "│             ┆       ┆       ┆             ┆   ┆          ┆             ┆           ┆ file        │\n",
                            "│ https://git ┆ 369   ┆ 95    ┆ 2014-09-29  ┆ … ┆ true     ┆ false       ┆ []        ┆ Terminals   │\n",
                            "│ hub.com/jup ┆       ┆       ┆ 23:44:25    ┆   ┆          ┆             ┆           ┆ served by   │\n",
                            "│ yter/termin ┆       ┆       ┆ UTC         ┆   ┆          ┆             ┆           ┆ tornado     │\n",
                            "│ ado         ┆       ┆       ┆             ┆   ┆          ┆             ┆           ┆ websockets  │\n",
                            "│ https://git ┆ 247   ┆ 18    ┆ 2018-01-06  ┆ … ┆ false    ┆ false       ┆ []        ┆ Transform   │\n",
                            "│ hub.com/rpe ┆       ┆       ┆ 23:27:25    ┆   ┆          ┆             ┆           ┆ async/await │\n",
                            "│ trich/babel ┆       ┆       ┆ UTC         ┆   ┆          ┆             ┆           ┆ to somewhat │\n",
                            "│ -plugin-tra ┆       ┆       ┆             ┆   ┆          ┆             ┆           ┆ idiomatic   │\n",
                            "│ nsform-asyn ┆       ┆       ┆             ┆   ┆          ┆             ┆           ┆ JavaScript  │\n",
                            "│ c-to-promis ┆       ┆       ┆             ┆   ┆          ┆             ┆           ┆ promise     │\n",
                            "│ es          ┆       ┆       ┆             ┆   ┆          ┆             ┆           ┆ chains      │\n",
                            "│ https://git ┆ 19    ┆ 14    ┆ 2018-09-12  ┆ … ┆ true     ┆ false       ┆ []        ┆ NAT port    │\n",
                            "│ hub.com/lib ┆       ┆       ┆ 19:04:30    ┆   ┆          ┆             ┆           ┆ mapping     │\n",
                            "│ p2p/go-nat  ┆       ┆       ┆ UTC         ┆   ┆          ┆             ┆           ┆ library for │\n",
                            "│             ┆       ┆       ┆             ┆   ┆          ┆             ┆           ┆ Go          │\n",
                            "│ https://git ┆ 3836  ┆ 1159  ┆ 2013-10-05  ┆ … ┆ true     ┆ false       ┆ []        ┆ Source      │\n",
                            "│ hub.com/fac ┆       ┆       ┆ 14:37:03    ┆   ┆          ┆             ┆           ┆ transformer │\n",
                            "│ ebook/regen ┆       ┆       ┆ UTC         ┆   ┆          ┆             ┆           ┆ enabling    │\n",
                            "│ erator      ┆       ┆       ┆             ┆   ┆          ┆             ┆           ┆ ECMAScript  │\n",
                            "│             ┆       ┆       ┆             ┆   ┆          ┆             ┆           ┆ 6 generator │\n",
                            "│             ┆       ┆       ┆             ┆   ┆          ┆             ┆           ┆ functions   │\n",
                            "│             ┆       ┆       ┆             ┆   ┆          ┆             ┆           ┆ in JavaScri │\n",
                            "│             ┆       ┆       ┆             ┆   ┆          ┆             ┆           ┆ pt-of-today │\n",
                            "│             ┆       ┆       ┆             ┆   ┆          ┆             ┆           ┆ .           │\n",
                            "└─────────────┴───────┴───────┴─────────────┴───┴──────────┴─────────────┴───────────┴─────────────┘"
                        ]
                    },
                    "execution_count": 25,
                    "metadata": {},
                    "output_type": "execute_result"
                }
            ],
            "source": [
                "from github import Github, Auth\n",
                "import os\n",
                "\n",
                "auth = Auth.Token(str(os.getenv(\"GITHUB_TOKEN\")))\n",
                "g = Github(auth=auth)\n",
                "\n",
                "# Get data for all target repos\n",
                "target_repositories = df.select(pl.col(\"target\")).unique()\n",
                "\n",
                "# Initialize lists to store data\n",
                "repositories_stats = []\n",
                "\n",
                "# Process each repo URL\n",
                "for repository_url in target_repositories[\"target\"]:\n",
                "    try:\n",
                "        # Extract owner/repo from URL\n",
                "        _, _, _, owner, repo = repository_url.split('/')\n",
                "\n",
                "        # Get repo data from GitHub API\n",
                "        repo_obj = g.get_repo(f\"{owner}/{repo}\")\n",
                "\n",
                "        repositories_stats.append({\n",
                "            \"target\": repository_url,\n",
                "            \"stars\": repo_obj.stargazers_count,\n",
                "            \"forks\": repo_obj.forks_count,\n",
                "            \"created_at\": repo_obj.created_at,\n",
                "            \"updated_at\": repo_obj.updated_at,\n",
                "            \"is_fork\": repo_obj.fork,\n",
                "            \"open_issues\": repo_obj.open_issues_count,\n",
                "            \"size\": repo_obj.size,\n",
                "            \"language\": repo_obj.language,\n",
                "            \"has_wiki\": repo_obj.has_wiki,\n",
                "            \"has_discussions\": repo_obj.has_discussions,\n",
                "            \"topics\": repo_obj.topics,\n",
                "            \"description\": repo_obj.description\n",
                "        })\n",
                "\n",
                "    except Exception as e:\n",
                "        print(f\"Error getting data for {repository_url}: {e}\")\n",
                "        continue\n",
                "\n",
                "# Convert to polars DataFrame\n",
                "github_df = pl.DataFrame(repositories_stats)\n",
                "print(f\"Got data for {len(repositories_stats)} repos\")\n",
                "github_df.head()\n"
            ]
        },
        {
            "cell_type": "markdown",
            "metadata": {},
            "source": [
                "We can also get the data from OSO."
            ]
        },
        {
            "cell_type": "code",
            "execution_count": 13,
            "metadata": {},
            "outputs": [],
            "source": [
                "import polars as pl\n",
                "from google.cloud import bigquery\n",
                "\n",
                "client = bigquery.Client()"
            ]
        },
        {
            "cell_type": "code",
            "execution_count": 14,
            "metadata": {},
            "outputs": [],
            "source": [
                "package_list_string = df.select(pl.col(\"target\")).to_series().str.join(\"', '\")"
            ]
        },
        {
            "cell_type": "code",
            "execution_count": 15,
            "metadata": {},
            "outputs": [
                {
                    "name": "stdout",
                    "output_type": "stream",
                    "text": [
                        "Rows: 1439\n"
                    ]
                },
                {
                    "data": {
                        "text/html": [
                            "<div><style>\n",
                            ".dataframe > thead > tr,\n",
                            ".dataframe > tbody > tr {\n",
                            "  text-align: right;\n",
                            "  white-space: pre-wrap;\n",
                            "}\n",
                            "</style>\n",
                            "<small>shape: (5, 6)</small><table border=\"1\" class=\"dataframe\"><thead><tr><th>target</th><th>is_fork</th><th>star_count</th><th>fork_count</th><th>created_at</th><th>updated_at</th></tr><tr><td>str</td><td>bool</td><td>i64</td><td>i64</td><td>datetime[μs, UTC]</td><td>datetime[μs, UTC]</td></tr></thead><tbody><tr><td>&quot;https://github.com/npm/agent&quot;</td><td>false</td><td>7</td><td>5</td><td>2022-06-30 17:47:07 UTC</td><td>2024-09-06 23:49:51 UTC</td></tr><tr><td>&quot;https://github.com/npm/security-holder&quot;</td><td>false</td><td>157</td><td>58</td><td>2016-03-23 00:22:33 UTC</td><td>2024-12-11 17:50:51 UTC</td></tr><tr><td>&quot;https://github.com/jsdom/domexception&quot;</td><td>false</td><td>21</td><td>8</td><td>2017-08-14 03:04:01 UTC</td><td>2024-05-11 21:05:28 UTC</td></tr><tr><td>&quot;https://github.com/jsdom/abab&quot;</td><td>false</td><td>93</td><td>19</td><td>2015-08-29 03:21:16 UTC</td><td>2024-05-17 16:43:47 UTC</td></tr><tr><td>&quot;https://github.com/herumi/mcl-wasm&quot;</td><td>false</td><td>59</td><td>18</td><td>2017-11-20 06:46:44 UTC</td><td>2024-09-18 03:05:14 UTC</td></tr></tbody></table></div>"
                        ],
                        "text/plain": [
                            "shape: (5, 6)\n",
                            "┌────────────────────┬─────────┬────────────┬────────────┬────────────────────┬────────────────────┐\n",
                            "│ target             ┆ is_fork ┆ star_count ┆ fork_count ┆ created_at         ┆ updated_at         │\n",
                            "│ ---                ┆ ---     ┆ ---        ┆ ---        ┆ ---                ┆ ---                │\n",
                            "│ str                ┆ bool    ┆ i64        ┆ i64        ┆ datetime[μs, UTC]  ┆ datetime[μs, UTC]  │\n",
                            "╞════════════════════╪═════════╪════════════╪════════════╪════════════════════╪════════════════════╡\n",
                            "│ https://github.com ┆ false   ┆ 7          ┆ 5          ┆ 2022-06-30         ┆ 2024-09-06         │\n",
                            "│ /npm/agent         ┆         ┆            ┆            ┆ 17:47:07 UTC       ┆ 23:49:51 UTC       │\n",
                            "│ https://github.com ┆ false   ┆ 157        ┆ 58         ┆ 2016-03-23         ┆ 2024-12-11         │\n",
                            "│ /npm/security-hold ┆         ┆            ┆            ┆ 00:22:33 UTC       ┆ 17:50:51 UTC       │\n",
                            "│ er                 ┆         ┆            ┆            ┆                    ┆                    │\n",
                            "│ https://github.com ┆ false   ┆ 21         ┆ 8          ┆ 2017-08-14         ┆ 2024-05-11         │\n",
                            "│ /jsdom/domexceptio ┆         ┆            ┆            ┆ 03:04:01 UTC       ┆ 21:05:28 UTC       │\n",
                            "│ n                  ┆         ┆            ┆            ┆                    ┆                    │\n",
                            "│ https://github.com ┆ false   ┆ 93         ┆ 19         ┆ 2015-08-29         ┆ 2024-05-17         │\n",
                            "│ /jsdom/abab        ┆         ┆            ┆            ┆ 03:21:16 UTC       ┆ 16:43:47 UTC       │\n",
                            "│ https://github.com ┆ false   ┆ 59         ┆ 18         ┆ 2017-11-20         ┆ 2024-09-18         │\n",
                            "│ /herumi/mcl-wasm   ┆         ┆            ┆            ┆ 06:46:44 UTC       ┆ 03:05:14 UTC       │\n",
                            "└────────────────────┴─────────┴────────────┴────────────┴────────────────────┴────────────────────┘"
                        ]
                    },
                    "execution_count": 15,
                    "metadata": {},
                    "output_type": "execute_result"
                }
            ],
            "source": [
                "QUERY = f\"\"\"\n",
                "select\n",
                "  artifact_url as target,\n",
                "  is_fork,\n",
                "  star_count,\n",
                "  fork_count,\n",
                "  created_at,\n",
                "  updated_at\n",
                "from `opensource-observer.oso.repositories_v0`\n",
                "where artifact_url in ('{package_list_string[0]}')\n",
                "\"\"\"\n",
                "\n",
                "query_job = client.query(QUERY)\n",
                "rows = query_job.result()\n",
                "\n",
                "oso_df = pl.from_arrow(rows.to_arrow())\n",
                "\n",
                "print(f\"Rows: {oso_df.shape[0]}\")\n",
                "\n",
                "oso_df.head()"
            ]
        },
        {
            "cell_type": "code",
            "execution_count": 16,
            "metadata": {},
            "outputs": [
                {
                    "name": "stdout",
                    "output_type": "stream",
                    "text": [
                        "Number of missing targets: 2850\n",
                        "Number of targets in df: 4289\n",
                        "Number of targets in oso_df: 1439\n",
                        "Percentage of missing targets: 66.45%\n"
                    ]
                },
                {
                    "data": {
                        "text/html": [
                            "<div><style>\n",
                            ".dataframe > thead > tr,\n",
                            ".dataframe > tbody > tr {\n",
                            "  text-align: right;\n",
                            "  white-space: pre-wrap;\n",
                            "}\n",
                            "</style>\n",
                            "<small>shape: (10,)</small><table border=\"1\" class=\"dataframe\"><thead><tr><th>target</th></tr><tr><td>str</td></tr></thead><tbody><tr><td>&quot;https://github.com/wooorm/lowlight&quot;</td></tr><tr><td>&quot;https://github.com/isaacs/json-stringify-safe&quot;</td></tr><tr><td>&quot;https://github.com/yaacovcr/value-or-promise&quot;</td></tr><tr><td>&quot;https://github.com/syndtr/goleveldb&quot;</td></tr><tr><td>&quot;https://github.com/mariusvanderwijden/tx-fuzz&quot;</td></tr><tr><td>&quot;https://github.com/svg/sax&quot;</td></tr><tr><td>&quot;https://github.com/facebook/emitter&quot;</td></tr><tr><td>&quot;https://github.com/formidablelabs/prism-react-renderer&quot;</td></tr><tr><td>&quot;https://github.com/japaric/cast.rs&quot;</td></tr><tr><td>&quot;https://github.com/dai-shi/proxy-compare&quot;</td></tr></tbody></table></div>"
                        ],
                        "text/plain": [
                            "shape: (10,)\n",
                            "Series: 'target' [str]\n",
                            "[\n",
                            "\t\"https://github.com/wooorm/lowlight\"\n",
                            "\t\"https://github.com/isaacs/json-stringify-safe\"\n",
                            "\t\"https://github.com/yaacovcr/value-or-promise\"\n",
                            "\t\"https://github.com/syndtr/goleveldb\"\n",
                            "\t\"https://github.com/mariusvanderwijden/tx-fuzz\"\n",
                            "\t\"https://github.com/svg/sax\"\n",
                            "\t\"https://github.com/facebook/emitter\"\n",
                            "\t\"https://github.com/formidablelabs/prism-react-renderer\"\n",
                            "\t\"https://github.com/japaric/cast.rs\"\n",
                            "\t\"https://github.com/dai-shi/proxy-compare\"\n",
                            "]"
                        ]
                    },
                    "execution_count": 16,
                    "metadata": {},
                    "output_type": "execute_result"
                }
            ],
            "source": [
                "# Find targets in df that are not in oso_df\n",
                "missing_targets = df.filter(~df[\"target\"].is_in(oso_df[\"target\"]))[\"target\"].unique()\n",
                "print(f\"Number of missing targets: {len(missing_targets)}\")\n",
                "print(f\"Number of targets in df: {len(df['target'].unique())}\")\n",
                "print(f\"Number of targets in oso_df: {len(oso_df['target'].unique())}\")\n",
                "print(f\"Percentage of missing targets: {(len(missing_targets) / len(df['target'].unique())) * 100:.2f}%\")\n",
                "\n",
                "missing_targets.sample(10)\n"
            ]
        }
    ],
    "metadata": {
        "kernelspec": {
            "display_name": "Python 3",
            "language": "python",
            "name": "python3"
        },
        "language_info": {
            "codemirror_mode": {
                "name": "ipython",
                "version": 3
            },
            "file_extension": ".py",
            "mimetype": "text/x-python",
            "name": "python",
            "nbconvert_exporter": "python",
            "pygments_lexer": "ipython3",
            "version": "3.13.0"
        }
    },
    "nbformat": 4,
    "nbformat_minor": 2
}
