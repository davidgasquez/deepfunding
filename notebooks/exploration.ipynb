{
    "cells": [
        {
            "cell_type": "markdown",
            "metadata": {},
            "source": [
                "# Exploration\n",
                "\n",
                "A small exploration of the datasets to learn more about the data and the structure of the challenge."
            ]
        },
        {
            "cell_type": "markdown",
            "metadata": {},
            "source": [
                "## Data"
            ]
        },
        {
            "cell_type": "code",
            "execution_count": 1,
            "metadata": {},
            "outputs": [
                {
                    "name": "stdout",
                    "output_type": "stream",
                    "text": [
                        "Train rows: 2387\n",
                        "Test rows: 1023\n"
                    ]
                }
            ],
            "source": [
                "import polars as pl\n",
                "\n",
                "_ = pl.Config.set_tbl_rows(20)\n",
                "_ = pl.Config.set_fmt_str_lengths(100)\n",
                "\n",
                "df_train = pl.read_csv(\"https://raw.githubusercontent.com/deepfunding/mini-contest/refs/heads/main/dataset.csv\")\n",
                "df_test = pl.read_csv(\"https://raw.githubusercontent.com/deepfunding/mini-contest/refs/heads/main/test.csv\")\n",
                "\n",
                "print(f\"Train rows: {len(df_train)}\")\n",
                "print(f\"Test rows: {len(df_test)}\")\n"
            ]
        },
        {
            "cell_type": "code",
            "execution_count": 2,
            "metadata": {},
            "outputs": [
                {
                    "data": {
                        "text/html": [
                            "<div><style>\n",
                            ".dataframe > thead > tr,\n",
                            ".dataframe > tbody > tr {\n",
                            "  text-align: right;\n",
                            "  white-space: pre-wrap;\n",
                            "}\n",
                            "</style>\n",
                            "<small>shape: (5, 3)</small><table border=\"1\" class=\"dataframe\"><thead><tr><th>id</th><th>project_a</th><th>project_b</th></tr><tr><td>i64</td><td>str</td><td>str</td></tr></thead><tbody><tr><td>8</td><td>&quot;https://github.com/prettier-solidity/prettier-plugin-solidity&quot;</td><td>&quot;https://github.com/bluealloy/revm&quot;</td></tr><tr><td>2972</td><td>&quot;https://github.com/formatjs/formatjs&quot;</td><td>&quot;https://github.com/emotion-js/emotion&quot;</td></tr><tr><td>3327</td><td>&quot;https://github.com/safe-global/safe-smart-account&quot;</td><td>&quot;https://github.com/ethers-io/ethers.js&quot;</td></tr><tr><td>3369</td><td>&quot;https://github.com/libp2p/go-libp2p&quot;</td><td>&quot;https://github.com/bluealloy/revm&quot;</td></tr><tr><td>2837</td><td>&quot;https://github.com/streetsidesoftware/cspell&quot;</td><td>&quot;https://github.com/google/flatbuffers&quot;</td></tr></tbody></table></div>"
                        ],
                        "text/plain": [
                            "shape: (5, 3)\n",
                            "┌──────┬──────────────────────────────────────────────────┬────────────────────────────────────────┐\n",
                            "│ id   ┆ project_a                                        ┆ project_b                              │\n",
                            "│ ---  ┆ ---                                              ┆ ---                                    │\n",
                            "│ i64  ┆ str                                              ┆ str                                    │\n",
                            "╞══════╪══════════════════════════════════════════════════╪════════════════════════════════════════╡\n",
                            "│ 8    ┆ https://github.com/prettier-solidity/prettier-pl ┆ https://github.com/bluealloy/revm      │\n",
                            "│      ┆ ugin-solidity                                    ┆                                        │\n",
                            "│ 2972 ┆ https://github.com/formatjs/formatjs             ┆ https://github.com/emotion-js/emotion  │\n",
                            "│ 3327 ┆ https://github.com/safe-global/safe-smart-accoun ┆ https://github.com/ethers-io/ethers.js │\n",
                            "│      ┆ t                                                ┆                                        │\n",
                            "│ 3369 ┆ https://github.com/libp2p/go-libp2p              ┆ https://github.com/bluealloy/revm      │\n",
                            "│ 2837 ┆ https://github.com/streetsidesoftware/cspell     ┆ https://github.com/google/flatbuffers  │\n",
                            "└──────┴──────────────────────────────────────────────────┴────────────────────────────────────────┘"
                        ]
                    },
                    "execution_count": 2,
                    "metadata": {},
                    "output_type": "execute_result"
                }
            ],
            "source": [
                "df_test.sample(5)"
            ]
        },
        {
            "cell_type": "code",
            "execution_count": 3,
            "metadata": {},
            "outputs": [],
            "source": [
                "df_train = df_train.with_columns(\n",
                "    pl.col(\"project_a\").str.split(\"github.com/\").list.last().alias(\"project_a\"),\n",
                "    pl.col(\"project_b\").str.split(\"github.com/\").list.last().alias(\"project_b\"),\n",
                ")\n",
                "\n",
                "df_test = df_test.with_columns(\n",
                "    pl.col(\"project_a\").str.split(\"github.com/\").list.last().alias(\"project_a\"),\n",
                "    pl.col(\"project_b\").str.split(\"github.com/\").list.last().alias(\"project_b\"),\n",
                ")"
            ]
        },
        {
            "cell_type": "code",
            "execution_count": 4,
            "metadata": {},
            "outputs": [
                {
                    "name": "stdout",
                    "output_type": "stream",
                    "text": [
                        "Total projects: 117\n"
                    ]
                }
            ],
            "source": [
                "projects = pl.concat([\n",
                "    df_train.get_column(\"project_a\"),\n",
                "    df_train.get_column(\"project_b\"),\n",
                "    df_test.get_column(\"project_a\"),\n",
                "    df_test.get_column(\"project_b\")\n",
                "]).unique().to_list()\n",
                "\n",
                "print(f\"Total projects: {len(projects)}\")"
            ]
        },
        {
            "cell_type": "code",
            "execution_count": 5,
            "metadata": {},
            "outputs": [],
            "source": [
                "from typing import Dict\n",
                "import httpx\n",
                "import os\n",
                "\n",
                "\n",
                "def get_repository_info(repository_id: str, client: httpx.Client) -> Dict:\n",
                "    \"\"\"\n",
                "    Fetch repository information from GitHub API for a given repo URL.\n",
                "\n",
                "    Args:\n",
                "        repo_url: GitHub repository URL\n",
                "        client: httpx.Client instance to use for requests\n",
                "\n",
                "    Returns:\n",
                "        Dict containing repository information or empty dict if request fails\n",
                "    \"\"\"\n",
                "    api_url = f\"https://api.github.com/repos/{repository_id}\"\n",
                "\n",
                "    headers = {\n",
                "        \"Accept\": \"application/vnd.github+json\",\n",
                "        \"Authorization\": f\"Bearer {os.getenv('GITHUB_TOKEN')}\",\n",
                "        \"X-GitHub-Api-Version\": \"2022-11-28\",\n",
                "    }\n",
                "\n",
                "    try:\n",
                "        response = client.get(api_url, headers=headers)\n",
                "        response.raise_for_status()\n",
                "        return response.json()\n",
                "    except httpx.HTTPError:\n",
                "        print(f\"Error fetching data for {repository_id}\")\n",
                "        print(response.text)\n",
                "        return {}\n"
            ]
        },
        {
            "cell_type": "code",
            "execution_count": 6,
            "metadata": {},
            "outputs": [
                {
                    "name": "stderr",
                    "output_type": "stream",
                    "text": [
                        "Fetching project information: 100%|██████████| 117/117 [00:32<00:00,  3.59it/s]\n"
                    ]
                }
            ],
            "source": [
                "from tqdm import tqdm\n",
                "\n",
                "data = []\n",
                "\n",
                "with httpx.Client(\n",
                "    transport=httpx.HTTPTransport(retries=5, verify=False),\n",
                "    follow_redirects=True,\n",
                "    limits=httpx.Limits(max_keepalive_connections=5, max_connections=10),\n",
                ") as client:\n",
                "    for project_id in tqdm(projects, desc=\"Fetching project information\"):\n",
                "        info = get_repository_info(project_id, client)\n",
                "        if info:\n",
                "            data.append(info)\n",
                "\n",
                "df_projects = pl.DataFrame(data)"
            ]
        },
        {
            "cell_type": "markdown",
            "metadata": {},
            "source": [
                "Let's pick only a subset of the columns to start with."
            ]
        },
        {
            "cell_type": "code",
            "execution_count": 7,
            "metadata": {},
            "outputs": [],
            "source": [
                "df_projects_data = df_projects.select(\n",
                "    pl.col(\"full_name\").str.to_lowercase().alias(\"project_id\"),\n",
                "    pl.col(\"stargazers_count\").alias(\"stars\"),\n",
                "    pl.col(\"watchers_count\").alias(\"watchers\"),\n",
                "    pl.col(\"forks_count\").alias(\"forks\"),\n",
                "    pl.col(\"open_issues_count\").alias(\"open_issues\"),\n",
                "    pl.col(\"size\"),\n",
                "    pl.col(\"language\"),\n",
                "    pl.col(\"description\"),\n",
                ")"
            ]
        },
        {
            "cell_type": "code",
            "execution_count": 8,
            "metadata": {},
            "outputs": [],
            "source": [
                "df_train_data = (df_train\n",
                "    .join(\n",
                "    df_projects_data, left_on=\"project_a\", right_on=\"project_id\", how=\"left\")\n",
                "    .join(df_projects_data, left_on=\"project_b\", right_on=\"project_id\", how=\"left\", suffix=\"_b\")\n",
                ")"
            ]
        },
        {
            "cell_type": "code",
            "execution_count": 9,
            "metadata": {},
            "outputs": [],
            "source": [
                "df_train_data = df_train_data.with_columns(\n",
                "    (pl.col(\"stars\") / (pl.col(\"stars\") + pl.col(\"stars_b\"))).alias(\"stars_ratio\"),\n",
                "    (pl.col(\"watchers\") / (pl.col(\"watchers\") + pl.col(\"watchers_b\"))).alias(\"watchers_ratio\"),\n",
                "    (pl.col(\"forks\") / (pl.col(\"forks\") + pl.col(\"forks_b\"))).alias(\"forks_ratio\"),\n",
                "    (pl.col(\"size\") / (pl.col(\"size\") + pl.col(\"size_b\"))).alias(\"size_ratio\")\n",
                ")"
            ]
        },
        {
            "cell_type": "markdown",
            "metadata": {},
            "source": [
                "We can see how well each ratio does in the \"train\" dataset."
            ]
        },
        {
            "cell_type": "code",
            "execution_count": 10,
            "metadata": {},
            "outputs": [
                {
                    "name": "stdout",
                    "output_type": "stream",
                    "text": [
                        "Stars MSE: 0.19531818587976274\n",
                        "Watchers MSE: 0.19531818587976274\n",
                        "Forks MSE: 0.1873469186282249\n",
                        "Size MSE: 0.24181621061342762\n"
                    ]
                }
            ],
            "source": [
                "from sklearn.metrics import mean_squared_error\n",
                "\n",
                "print(f\"Stars MSE: {mean_squared_error(df_train_data['weight_a'], df_train_data['stars_ratio'])}\")\n",
                "print(f\"Watchers MSE: {mean_squared_error(df_train_data['weight_a'], df_train_data['watchers_ratio'])}\")\n",
                "print(f\"Forks MSE: {mean_squared_error(df_train_data['weight_a'], df_train_data['forks_ratio'])}\")\n",
                "print(f\"Size MSE: {mean_squared_error(df_train_data['weight_a'], df_train_data['size_ratio'])}\")"
            ]
        },
        {
            "cell_type": "markdown",
            "metadata": {},
            "source": [
                "Do the same for the test dataset."
            ]
        },
        {
            "cell_type": "code",
            "execution_count": 11,
            "metadata": {},
            "outputs": [],
            "source": [
                "df_test_data = df_test.join(df_projects_data, left_on=\"project_a\", right_on=\"project_id\", how=\"left\")\n",
                "df_test_data = df_test_data.join(df_projects_data, left_on=\"project_b\", right_on=\"project_id\", how=\"left\", suffix=\"_b\")\n",
                "df_test_data = df_test_data.with_columns(\n",
                "    (pl.col(\"stars\") / (pl.col(\"stars\") + pl.col(\"stars_b\"))).alias(\"stars_ratio\"),\n",
                "    (pl.col(\"watchers\") / (pl.col(\"watchers\") + pl.col(\"watchers_b\"))).alias(\"watchers_ratio\"),\n",
                "    (pl.col(\"forks\") / (pl.col(\"forks\") + pl.col(\"forks_b\"))).alias(\"forks_ratio\"),\n",
                "    (pl.col(\"size\") / (pl.col(\"size\") + pl.col(\"size_b\"))).alias(\"size_ratio\"),\n",
                ")"
            ]
        },
        {
            "cell_type": "markdown",
            "metadata": {},
            "source": [
                "Generate a submission file."
            ]
        },
        {
            "cell_type": "code",
            "execution_count": 13,
            "metadata": {},
            "outputs": [],
            "source": [
                "weight_column = \"stars_ratio\"\n",
                "y_pred = df_test_data.select(pl.col(\"id\"), pl.col(weight_column).alias(\"pred\"))"
            ]
        },
        {
            "cell_type": "code",
            "execution_count": 14,
            "metadata": {},
            "outputs": [],
            "source": [
                "y_pred.write_csv('../data/submissions/baseline-stars-ratio-2024-12-25-10-28.csv')"
            ]
        }
    ],
    "metadata": {
        "kernelspec": {
            "display_name": "Python 3",
            "language": "python",
            "name": "python3"
        },
        "language_info": {
            "codemirror_mode": {
                "name": "ipython",
                "version": 3
            },
            "file_extension": ".py",
            "mimetype": "text/x-python",
            "name": "python",
            "nbconvert_exporter": "python",
            "pygments_lexer": "ipython3",
            "version": "3.13.0"
        }
    },
    "nbformat": 4,
    "nbformat_minor": 2
}
