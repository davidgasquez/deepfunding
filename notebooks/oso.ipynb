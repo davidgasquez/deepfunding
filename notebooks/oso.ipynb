{
    "cells": [
        {
            "cell_type": "markdown",
            "metadata": {},
            "source": [
                "# OSO"
            ]
        },
        {
            "cell_type": "code",
            "execution_count": 1,
            "metadata": {},
            "outputs": [],
            "source": [
                "import polars as pl\n",
                "from google.cloud import bigquery\n",
                "\n",
                "client = bigquery.Client()"
            ]
        },
        {
            "cell_type": "code",
            "execution_count": 2,
            "metadata": {},
            "outputs": [
                {
                    "name": "stdout",
                    "output_type": "stream",
                    "text": [
                        "Rows: 1\n"
                    ]
                },
                {
                    "data": {
                        "text/html": [
                            "<div><style>\n",
                            ".dataframe > thead > tr,\n",
                            ".dataframe > tbody > tr {\n",
                            "  text-align: right;\n",
                            "  white-space: pre-wrap;\n",
                            "}\n",
                            "</style>\n",
                            "<small>shape: (1, 6)</small><table border=\"1\" class=\"dataframe\"><thead><tr><th>target</th><th>is_fork</th><th>star_count</th><th>fork_count</th><th>created_at</th><th>updated_at</th></tr><tr><td>str</td><td>bool</td><td>i64</td><td>i64</td><td>datetime[μs, UTC]</td><td>datetime[μs, UTC]</td></tr></thead><tbody><tr><td>&quot;https://github.com/libp2p/go-l…</td><td>false</td><td>6140</td><td>1088</td><td>2015-09-30 23:24:32 UTC</td><td>2024-12-19 18:46:49 UTC</td></tr></tbody></table></div>"
                        ],
                        "text/plain": [
                            "shape: (1, 6)\n",
                            "┌────────────────────┬─────────┬────────────┬────────────┬────────────────────┬────────────────────┐\n",
                            "│ target             ┆ is_fork ┆ star_count ┆ fork_count ┆ created_at         ┆ updated_at         │\n",
                            "│ ---                ┆ ---     ┆ ---        ┆ ---        ┆ ---                ┆ ---                │\n",
                            "│ str                ┆ bool    ┆ i64        ┆ i64        ┆ datetime[μs, UTC]  ┆ datetime[μs, UTC]  │\n",
                            "╞════════════════════╪═════════╪════════════╪════════════╪════════════════════╪════════════════════╡\n",
                            "│ https://github.com ┆ false   ┆ 6140       ┆ 1088       ┆ 2015-09-30         ┆ 2024-12-19         │\n",
                            "│ /libp2p/go-l…      ┆         ┆            ┆            ┆ 23:24:32 UTC       ┆ 18:46:49 UTC       │\n",
                            "└────────────────────┴─────────┴────────────┴────────────┴────────────────────┴────────────────────┘"
                        ]
                    },
                    "execution_count": 2,
                    "metadata": {},
                    "output_type": "execute_result"
                }
            ],
            "source": [
                "QUERY = \"\"\"\n",
                "select\n",
                "  artifact_url as target,\n",
                "  is_fork,\n",
                "  star_count,\n",
                "  fork_count,\n",
                "  created_at,\n",
                "  updated_at\n",
                "from `opensource-observer.oso.repositories_v0`\n",
                "where artifact_url in ('https://github.com/libp2p/go-libp2p')\n",
                "\"\"\"\n",
                "\n",
                "query_job = client.query(QUERY)\n",
                "rows = query_job.result()\n",
                "\n",
                "oso_df = pl.from_arrow(rows.to_arrow())\n",
                "\n",
                "print(f\"Rows: {oso_df.shape[0]}\")\n",
                "\n",
                "oso_df.head()"
            ]
        }
    ],
    "metadata": {
        "kernelspec": {
            "display_name": "Python 3",
            "language": "python",
            "name": "python3"
        },
        "language_info": {
            "codemirror_mode": {
                "name": "ipython",
                "version": 3
            },
            "file_extension": ".py",
            "mimetype": "text/x-python",
            "name": "python",
            "nbconvert_exporter": "python",
            "pygments_lexer": "ipython3",
            "version": "3.13.0"
        }
    },
    "nbformat": 4,
    "nbformat_minor": 2
}
