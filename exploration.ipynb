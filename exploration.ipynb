{
 "cells": [
  {
   "cell_type": "markdown",
   "metadata": {},
   "source": [
    "# Exploring the Graph of Dependencies\n",
    "\n",
    "A small exploration of the graph of dependencies to understand the data and the structure of the graph."
   ]
  },
  {
   "cell_type": "markdown",
   "metadata": {},
   "source": [
    "## Data"
   ]
  },
  {
   "cell_type": "code",
   "execution_count": 36,
   "metadata": {},
   "outputs": [],
   "source": [
    "import json\n",
    "import urllib.request\n",
    "\n",
    "url = \"https://raw.githubusercontent.com/deepfunding/dependency-graph/refs/heads/main/graph/unweighted_graph.json\"\n",
    "with urllib.request.urlopen(url) as response:\n",
    "    graph_data = json.loads(response.read())\n"
   ]
  },
  {
   "cell_type": "code",
   "execution_count": 37,
   "metadata": {},
   "outputs": [
    {
     "data": {
      "text/html": [
       "<div><style>\n",
       ".dataframe > thead > tr,\n",
       ".dataframe > tbody > tr {\n",
       "  text-align: right;\n",
       "  white-space: pre-wrap;\n",
       "}\n",
       "</style>\n",
       "<small>shape: (10, 6)</small><table border=\"1\" class=\"dataframe\"><thead><tr><th>seed_repo_owner</th><th>seed_repo_name</th><th>package_name</th><th>package_repo_owner</th><th>package_repo_name</th><th>package_source</th></tr><tr><td>str</td><td>str</td><td>str</td><td>str</td><td>str</td><td>str</td></tr></thead><tbody><tr><td>&quot;ethereum&quot;</td><td>&quot;remix-project&quot;</td><td>&quot;@remixproject/plugin-ws&quot;</td><td>&quot;ethereum&quot;</td><td>&quot;remix-plugin&quot;</td><td>&quot;NPM&quot;</td></tr><tr><td>&quot;web3&quot;</td><td>&quot;web3.js&quot;</td><td>&quot;github-build&quot;</td><td>&quot;siddharthkp&quot;</td><td>&quot;github-build&quot;</td><td>&quot;NPM&quot;</td></tr><tr><td>&quot;web3&quot;</td><td>&quot;web3.js&quot;</td><td>&quot;inflight&quot;</td><td>&quot;npm&quot;</td><td>&quot;inflight&quot;</td><td>&quot;NPM&quot;</td></tr><tr><td>&quot;safe-global&quot;</td><td>&quot;safe-smart-account&quot;</td><td>&quot;@types/concat-stream&quot;</td><td>&quot;definitelytyped&quot;</td><td>&quot;definitelytyped&quot;</td><td>&quot;NPM&quot;</td></tr><tr><td>&quot;web3&quot;</td><td>&quot;web3.js&quot;</td><td>&quot;webpack-sources&quot;</td><td>&quot;webpack&quot;</td><td>&quot;webpack-sources&quot;</td><td>&quot;NPM&quot;</td></tr><tr><td>&quot;grandinetech&quot;</td><td>&quot;grandine&quot;</td><td>&quot;hex_fmt&quot;</td><td>&quot;poanetwork&quot;</td><td>&quot;hex_fmt&quot;</td><td>&quot;RUST&quot;</td></tr><tr><td>&quot;chainsafe&quot;</td><td>&quot;lodestar&quot;</td><td>&quot;babel-loader&quot;</td><td>&quot;babel&quot;</td><td>&quot;babel-loader&quot;</td><td>&quot;NPM&quot;</td></tr><tr><td>&quot;ethereumjs&quot;</td><td>&quot;ethereumjs-monorepo&quot;</td><td>&quot;p-timeout&quot;</td><td>&quot;sindresorhus&quot;</td><td>&quot;p-timeout&quot;</td><td>&quot;NPM&quot;</td></tr><tr><td>&quot;ethereum&quot;</td><td>&quot;remix-project&quot;</td><td>&quot;p-retry&quot;</td><td>&quot;sindresorhus&quot;</td><td>&quot;p-retry&quot;</td><td>&quot;NPM&quot;</td></tr><tr><td>&quot;eth-infinitism&quot;</td><td>&quot;account-abstraction&quot;</td><td>&quot;jsesc&quot;</td><td>&quot;mathiasbynens&quot;</td><td>&quot;jsesc&quot;</td><td>&quot;NPM&quot;</td></tr></tbody></table></div>"
      ],
      "text/plain": [
       "shape: (10, 6)\n",
       "┌────────────────┬────────────────┬────────────────┬───────────────┬───────────────┬───────────────┐\n",
       "│ seed_repo_owne ┆ seed_repo_name ┆ package_name   ┆ package_repo_ ┆ package_repo_ ┆ package_sourc │\n",
       "│ r              ┆ ---            ┆ ---            ┆ owner         ┆ name          ┆ e             │\n",
       "│ ---            ┆ str            ┆ str            ┆ ---           ┆ ---           ┆ ---           │\n",
       "│ str            ┆                ┆                ┆ str           ┆ str           ┆ str           │\n",
       "╞════════════════╪════════════════╪════════════════╪═══════════════╪═══════════════╪═══════════════╡\n",
       "│ ethereum       ┆ remix-project  ┆ @remixproject/ ┆ ethereum      ┆ remix-plugin  ┆ NPM           │\n",
       "│                ┆                ┆ plugin-ws      ┆               ┆               ┆               │\n",
       "│ web3           ┆ web3.js        ┆ github-build   ┆ siddharthkp   ┆ github-build  ┆ NPM           │\n",
       "│ web3           ┆ web3.js        ┆ inflight       ┆ npm           ┆ inflight      ┆ NPM           │\n",
       "│ safe-global    ┆ safe-smart-acc ┆ @types/concat- ┆ definitelytyp ┆ definitelytyp ┆ NPM           │\n",
       "│                ┆ ount           ┆ stream         ┆ ed            ┆ ed            ┆               │\n",
       "│ web3           ┆ web3.js        ┆ webpack-source ┆ webpack       ┆ webpack-sourc ┆ NPM           │\n",
       "│                ┆                ┆ s              ┆               ┆ es            ┆               │\n",
       "│ grandinetech   ┆ grandine       ┆ hex_fmt        ┆ poanetwork    ┆ hex_fmt       ┆ RUST          │\n",
       "│ chainsafe      ┆ lodestar       ┆ babel-loader   ┆ babel         ┆ babel-loader  ┆ NPM           │\n",
       "│ ethereumjs     ┆ ethereumjs-mon ┆ p-timeout      ┆ sindresorhus  ┆ p-timeout     ┆ NPM           │\n",
       "│                ┆ orepo          ┆                ┆               ┆               ┆               │\n",
       "│ ethereum       ┆ remix-project  ┆ p-retry        ┆ sindresorhus  ┆ p-retry       ┆ NPM           │\n",
       "│ eth-infinitism ┆ account-abstra ┆ jsesc          ┆ mathiasbynens ┆ jsesc         ┆ NPM           │\n",
       "│                ┆ ction          ┆                ┆               ┆               ┆               │\n",
       "└────────────────┴────────────────┴────────────────┴───────────────┴───────────────┴───────────────┘"
      ]
     },
     "execution_count": 37,
     "metadata": {},
     "output_type": "execute_result"
    }
   ],
   "source": [
    "import polars as pl\n",
    "\n",
    "pl.Config.set_tbl_rows(20)\n",
    "\n",
    "df = pl.read_csv('https://raw.githubusercontent.com/deepfunding/dependency-graph/refs/heads/main/graph/unweighted_graph.csv')\n",
    "df.sample(10)"
   ]
  },
  {
   "cell_type": "code",
   "execution_count": 38,
   "metadata": {},
   "outputs": [
    {
     "data": {
      "text/plain": [
       "(13536, 6)"
      ]
     },
     "execution_count": 38,
     "metadata": {},
     "output_type": "execute_result"
    }
   ],
   "source": [
    "df.shape"
   ]
  },
  {
   "cell_type": "markdown",
   "metadata": {},
   "source": [
    "The CSV data is the definition of a graph. The source is `seed_repo_owner/seed_repo_name` and the target is `package_repo_owner/package_repo_name/package_name`. There is also a source for the package, which is `package_source`."
   ]
  },
  {
   "cell_type": "code",
   "execution_count": 39,
   "metadata": {},
   "outputs": [
    {
     "data": {
      "text/html": [
       "<div><style>\n",
       ".dataframe > thead > tr,\n",
       ".dataframe > tbody > tr {\n",
       "  text-align: right;\n",
       "  white-space: pre-wrap;\n",
       "}\n",
       "</style>\n",
       "<small>shape: (3, 6)</small><table border=\"1\" class=\"dataframe\"><thead><tr><th>seed_repo_owner</th><th>seed_repo_name</th><th>package_name</th><th>package_repo_owner</th><th>package_repo_name</th><th>package_source</th></tr><tr><td>str</td><td>str</td><td>str</td><td>str</td><td>str</td><td>str</td></tr></thead><tbody><tr><td>&quot;ethereum&quot;</td><td>&quot;solidity&quot;</td><td>&quot;sphinx-a4doc&quot;</td><td>&quot;taminomara&quot;</td><td>&quot;sphinx-a4doc&quot;</td><td>&quot;PIP&quot;</td></tr><tr><td>&quot;ethereum&quot;</td><td>&quot;solidity&quot;</td><td>&quot;sphinx&quot;</td><td>&quot;sphinx-doc&quot;</td><td>&quot;sphinx&quot;</td><td>&quot;PIP&quot;</td></tr><tr><td>&quot;ethereum&quot;</td><td>&quot;solidity&quot;</td><td>&quot;sphinx-rtd-theme&quot;</td><td>&quot;readthedocs&quot;</td><td>&quot;sphinx_rtd_theme&quot;</td><td>&quot;PIP&quot;</td></tr></tbody></table></div>"
      ],
      "text/plain": [
       "shape: (3, 6)\n",
       "┌────────────────┬────────────────┬────────────────┬───────────────┬───────────────┬───────────────┐\n",
       "│ seed_repo_owne ┆ seed_repo_name ┆ package_name   ┆ package_repo_ ┆ package_repo_ ┆ package_sourc │\n",
       "│ r              ┆ ---            ┆ ---            ┆ owner         ┆ name          ┆ e             │\n",
       "│ ---            ┆ str            ┆ str            ┆ ---           ┆ ---           ┆ ---           │\n",
       "│ str            ┆                ┆                ┆ str           ┆ str           ┆ str           │\n",
       "╞════════════════╪════════════════╪════════════════╪═══════════════╪═══════════════╪═══════════════╡\n",
       "│ ethereum       ┆ solidity       ┆ sphinx-a4doc   ┆ taminomara    ┆ sphinx-a4doc  ┆ PIP           │\n",
       "│ ethereum       ┆ solidity       ┆ sphinx         ┆ sphinx-doc    ┆ sphinx        ┆ PIP           │\n",
       "│ ethereum       ┆ solidity       ┆ sphinx-rtd-the ┆ readthedocs   ┆ sphinx_rtd_th ┆ PIP           │\n",
       "│                ┆                ┆ me             ┆               ┆ eme           ┆               │\n",
       "└────────────────┴────────────────┴────────────────┴───────────────┴───────────────┴───────────────┘"
      ]
     },
     "execution_count": 39,
     "metadata": {},
     "output_type": "execute_result"
    }
   ],
   "source": [
    "df.filter(\n",
    "    (pl.col(\"seed_repo_owner\") == \"ethereum\") &\n",
    "    (pl.col(\"seed_repo_name\") == \"solidity\")\n",
    ")"
   ]
  },
  {
   "cell_type": "code",
   "execution_count": 40,
   "metadata": {},
   "outputs": [
    {
     "data": {
      "text/html": [
       "<div><style>\n",
       ".dataframe > thead > tr,\n",
       ".dataframe > tbody > tr {\n",
       "  text-align: right;\n",
       "  white-space: pre-wrap;\n",
       "}\n",
       "</style>\n",
       "<small>shape: (4, 2)</small><table border=\"1\" class=\"dataframe\"><thead><tr><th>package_source</th><th>len</th></tr><tr><td>str</td><td>u32</td></tr></thead><tbody><tr><td>&quot;RUST&quot;</td><td>2024</td></tr><tr><td>&quot;NPM&quot;</td><td>10746</td></tr><tr><td>&quot;GO&quot;</td><td>631</td></tr><tr><td>&quot;PIP&quot;</td><td>135</td></tr></tbody></table></div>"
      ],
      "text/plain": [
       "shape: (4, 2)\n",
       "┌────────────────┬───────┐\n",
       "│ package_source ┆ len   │\n",
       "│ ---            ┆ ---   │\n",
       "│ str            ┆ u32   │\n",
       "╞════════════════╪═══════╡\n",
       "│ RUST           ┆ 2024  │\n",
       "│ NPM            ┆ 10746 │\n",
       "│ GO             ┆ 631   │\n",
       "│ PIP            ┆ 135   │\n",
       "└────────────────┴───────┘"
      ]
     },
     "execution_count": 40,
     "metadata": {},
     "output_type": "execute_result"
    }
   ],
   "source": [
    "df.group_by(\"package_source\").agg(pl.len())"
   ]
  },
  {
   "cell_type": "code",
   "execution_count": 41,
   "metadata": {},
   "outputs": [],
   "source": [
    "df = df.with_columns(\n",
    "    pl.concat_str(\n",
    "        [\n",
    "            pl.col(\"seed_repo_owner\"),\n",
    "            pl.col(\"seed_repo_name\"),\n",
    "        ],\n",
    "        separator=\"/\"\n",
    "    ).alias(\"repo\"),\n",
    "    pl.concat_str(\n",
    "        [\n",
    "            pl.col(\"package_repo_owner\"),\n",
    "            pl.col(\"package_repo_name\"),\n",
    "            pl.col(\"package_name\"),\n",
    "        ],\n",
    "        separator=\"/\"\n",
    "    ).alias(\"package_repo\"),\n",
    ")"
   ]
  },
  {
   "cell_type": "code",
   "execution_count": 42,
   "metadata": {},
   "outputs": [
    {
     "data": {
      "text/html": [
       "<div><style>\n",
       ".dataframe > thead > tr,\n",
       ".dataframe > tbody > tr {\n",
       "  text-align: right;\n",
       "  white-space: pre-wrap;\n",
       "}\n",
       "</style>\n",
       "<small>shape: (18, 2)</small><table border=\"1\" class=\"dataframe\"><thead><tr><th>repo</th><th>package_repo</th></tr><tr><td>str</td><td>u32</td></tr></thead><tbody><tr><td>&quot;ethereum/remix-project&quot;</td><td>3230</td></tr><tr><td>&quot;web3/web3.js&quot;</td><td>2389</td></tr><tr><td>&quot;chainsafe/lodestar&quot;</td><td>2213</td></tr><tr><td>&quot;ethereumjs/ethereumjs-monorepo&quot;</td><td>1081</td></tr><tr><td>&quot;eth-infinitism/account-abstrac…</td><td>1048</td></tr><tr><td>&quot;paradigmxyz/reth&quot;</td><td>728</td></tr><tr><td>&quot;sigp/lighthouse&quot;</td><td>653</td></tr><tr><td>&quot;grandinetech/grandine&quot;</td><td>643</td></tr><tr><td>&quot;safe-global/safe-smart-account&quot;</td><td>636</td></tr><tr><td>&quot;erigontech/erigon&quot;</td><td>265</td></tr><tr><td>&quot;prysmaticlabs/prysm&quot;</td><td>252</td></tr><tr><td>&quot;consensys/teku&quot;</td><td>141</td></tr><tr><td>&quot;ethereum/go-ethereum&quot;</td><td>125</td></tr><tr><td>&quot;status-im/nimbus-eth2&quot;</td><td>96</td></tr><tr><td>&quot;ethereum/web3.py&quot;</td><td>13</td></tr><tr><td>&quot;ethereum/py-evm&quot;</td><td>11</td></tr><tr><td>&quot;vyperlang/vyper&quot;</td><td>9</td></tr><tr><td>&quot;ethereum/solidity&quot;</td><td>3</td></tr></tbody></table></div>"
      ],
      "text/plain": [
       "shape: (18, 2)\n",
       "┌─────────────────────────────────┬──────────────┐\n",
       "│ repo                            ┆ package_repo │\n",
       "│ ---                             ┆ ---          │\n",
       "│ str                             ┆ u32          │\n",
       "╞═════════════════════════════════╪══════════════╡\n",
       "│ ethereum/remix-project          ┆ 3230         │\n",
       "│ web3/web3.js                    ┆ 2389         │\n",
       "│ chainsafe/lodestar              ┆ 2213         │\n",
       "│ ethereumjs/ethereumjs-monorepo  ┆ 1081         │\n",
       "│ eth-infinitism/account-abstrac… ┆ 1048         │\n",
       "│ paradigmxyz/reth                ┆ 728          │\n",
       "│ sigp/lighthouse                 ┆ 653          │\n",
       "│ grandinetech/grandine           ┆ 643          │\n",
       "│ safe-global/safe-smart-account  ┆ 636          │\n",
       "│ erigontech/erigon               ┆ 265          │\n",
       "│ prysmaticlabs/prysm             ┆ 252          │\n",
       "│ consensys/teku                  ┆ 141          │\n",
       "│ ethereum/go-ethereum            ┆ 125          │\n",
       "│ status-im/nimbus-eth2           ┆ 96           │\n",
       "│ ethereum/web3.py                ┆ 13           │\n",
       "│ ethereum/py-evm                 ┆ 11           │\n",
       "│ vyperlang/vyper                 ┆ 9            │\n",
       "│ ethereum/solidity               ┆ 3            │\n",
       "└─────────────────────────────────┴──────────────┘"
      ]
     },
     "execution_count": 42,
     "metadata": {},
     "output_type": "execute_result"
    }
   ],
   "source": [
    "df.group_by(\"repo\").agg(pl.col(\"package_repo\").n_unique()).sort(\"package_repo\", descending=True)"
   ]
  },
  {
   "cell_type": "code",
   "execution_count": 43,
   "metadata": {},
   "outputs": [
    {
     "data": {
      "text/html": [
       "<div><style>\n",
       ".dataframe > thead > tr,\n",
       ".dataframe > tbody > tr {\n",
       "  text-align: right;\n",
       "  white-space: pre-wrap;\n",
       "}\n",
       "</style>\n",
       "<small>shape: (6_211, 2)</small><table border=\"1\" class=\"dataframe\"><thead><tr><th>package_repo</th><th>repo</th></tr><tr><td>str</td><td>u32</td></tr></thead><tbody><tr><td>&quot;chalk/chalk/chalk&quot;</td><td>7</td></tr><tr><td>&quot;sindresorhus/locate-path/locat…</td><td>7</td></tr><tr><td>&quot;alexei/sprintf.js/sprintf-js&quot;</td><td>7</td></tr><tr><td>&quot;isaacs/node-graceful-fs/gracef…</td><td>7</td></tr><tr><td>&quot;mathiasbynens/punycode.js/puny…</td><td>7</td></tr><tr><td>&quot;sindresorhus/p-locate/p-locate&quot;</td><td>7</td></tr><tr><td>&quot;isaacs/inherits/inherits&quot;</td><td>7</td></tr><tr><td>&quot;sindresorhus/callsites/callsit…</td><td>7</td></tr><tr><td>&quot;epoberezkin/fast-deep-equal/fa…</td><td>7</td></tr><tr><td>&quot;tj/commander.js/commander&quot;</td><td>7</td></tr><tr><td>&hellip;</td><td>&hellip;</td></tr><tr><td>&quot;doowb/append-buffer/append-buf…</td><td>1</td></tr><tr><td>&quot;level/level-js/level-js&quot;</td><td>1</td></tr><tr><td>&quot;brooooooklyn/snappy/@napi-rs/s…</td><td>1</td></tr><tr><td>&quot;trufflesuite/uws-js-unofficial…</td><td>1</td></tr><tr><td>&quot;nrwl/nx/@nrwl/cypress&quot;</td><td>1</td></tr><tr><td>&quot;anacrolix/missinggo/github.com…</td><td>1</td></tr><tr><td>&quot;bjornstar/blob-polyfill/blob-p…</td><td>1</td></tr><tr><td>&quot;walletconnect/walletconnect-ut…</td><td>1</td></tr><tr><td>&quot;brightspace/node-ecdsa-sig-for…</td><td>1</td></tr><tr><td>&quot;agronholm/cbor2/cbor2&quot;</td><td>1</td></tr></tbody></table></div>"
      ],
      "text/plain": [
       "shape: (6_211, 2)\n",
       "┌─────────────────────────────────┬──────┐\n",
       "│ package_repo                    ┆ repo │\n",
       "│ ---                             ┆ ---  │\n",
       "│ str                             ┆ u32  │\n",
       "╞═════════════════════════════════╪══════╡\n",
       "│ chalk/chalk/chalk               ┆ 7    │\n",
       "│ sindresorhus/locate-path/locat… ┆ 7    │\n",
       "│ alexei/sprintf.js/sprintf-js    ┆ 7    │\n",
       "│ isaacs/node-graceful-fs/gracef… ┆ 7    │\n",
       "│ mathiasbynens/punycode.js/puny… ┆ 7    │\n",
       "│ sindresorhus/p-locate/p-locate  ┆ 7    │\n",
       "│ isaacs/inherits/inherits        ┆ 7    │\n",
       "│ sindresorhus/callsites/callsit… ┆ 7    │\n",
       "│ epoberezkin/fast-deep-equal/fa… ┆ 7    │\n",
       "│ tj/commander.js/commander       ┆ 7    │\n",
       "│ …                               ┆ …    │\n",
       "│ doowb/append-buffer/append-buf… ┆ 1    │\n",
       "│ level/level-js/level-js         ┆ 1    │\n",
       "│ brooooooklyn/snappy/@napi-rs/s… ┆ 1    │\n",
       "│ trufflesuite/uws-js-unofficial… ┆ 1    │\n",
       "│ nrwl/nx/@nrwl/cypress           ┆ 1    │\n",
       "│ anacrolix/missinggo/github.com… ┆ 1    │\n",
       "│ bjornstar/blob-polyfill/blob-p… ┆ 1    │\n",
       "│ walletconnect/walletconnect-ut… ┆ 1    │\n",
       "│ brightspace/node-ecdsa-sig-for… ┆ 1    │\n",
       "│ agronholm/cbor2/cbor2           ┆ 1    │\n",
       "└─────────────────────────────────┴──────┘"
      ]
     },
     "execution_count": 43,
     "metadata": {},
     "output_type": "execute_result"
    }
   ],
   "source": [
    "df.group_by(\"package_repo\").agg(pl.col(\"repo\").n_unique()).sort(\"repo\", descending=True)"
   ]
  },
  {
   "cell_type": "code",
   "execution_count": 46,
   "metadata": {},
   "outputs": [
    {
     "data": {
      "text/plain": [
       "6211"
      ]
     },
     "execution_count": 46,
     "metadata": {},
     "output_type": "execute_result"
    }
   ],
   "source": [
    "df.select(\"package_repo\").n_unique()"
   ]
  },
  {
   "cell_type": "code",
   "execution_count": 47,
   "metadata": {},
   "outputs": [
    {
     "data": {
      "text/plain": [
       "18"
      ]
     },
     "execution_count": 47,
     "metadata": {},
     "output_type": "execute_result"
    }
   ],
   "source": [
    "df.select(\"repo\").n_unique()"
   ]
  },
  {
   "cell_type": "code",
   "execution_count": 49,
   "metadata": {},
   "outputs": [
    {
     "data": {
      "text/plain": [
       "4289"
      ]
     },
     "execution_count": 49,
     "metadata": {},
     "output_type": "execute_result"
    }
   ],
   "source": [
    "df.select(pl.col(\"package_repo_owner\"), pl.col(\"package_repo_name\")).n_unique()"
   ]
  },
  {
   "cell_type": "markdown",
   "metadata": {},
   "source": [
    "## Baseline Model\n",
    "\n",
    "Let's work on a model that assigns the same weight to all dependencies. Source (`repo`) weights should sum to 1."
   ]
  },
  {
   "cell_type": "code",
   "execution_count": 17,
   "metadata": {},
   "outputs": [],
   "source": [
    "df = df.with_columns(\n",
    "    (1 / pl.col(\"package_repo\").n_unique().over(\"repo\")).alias(\"weight\")\n",
    ")"
   ]
  },
  {
   "cell_type": "code",
   "execution_count": 18,
   "metadata": {},
   "outputs": [
    {
     "data": {
      "text/html": [
       "<div><style>\n",
       ".dataframe > thead > tr,\n",
       ".dataframe > tbody > tr {\n",
       "  text-align: right;\n",
       "  white-space: pre-wrap;\n",
       "}\n",
       "</style>\n",
       "<small>shape: (10, 3)</small><table border=\"1\" class=\"dataframe\"><thead><tr><th>repo</th><th>package_repo</th><th>weight</th></tr><tr><td>str</td><td>str</td><td>f64</td></tr></thead><tbody><tr><td>&quot;ethereumjs/ethereumjs-monorepo&quot;</td><td>&quot;paulmillr/scure-bip39/@scure/b…</td><td>0.000925</td></tr><tr><td>&quot;ethereum/remix-project&quot;</td><td>&quot;isaacs/json-stringify-safe/jso…</td><td>0.00031</td></tr><tr><td>&quot;ethereum/remix-project&quot;</td><td>&quot;mattgperry/motion/motion&quot;</td><td>0.00031</td></tr><tr><td>&quot;ethereum/remix-project&quot;</td><td>&quot;babel/babel/@babel/helper-func…</td><td>0.00031</td></tr><tr><td>&quot;grandinetech/grandine&quot;</td><td>&quot;nix-rust/nix/nix&quot;</td><td>0.001555</td></tr><tr><td>&quot;chainsafe/lodestar&quot;</td><td>&quot;tootallnate/proxy-agents/degen…</td><td>0.000452</td></tr><tr><td>&quot;eth-infinitism/account-abstrac…</td><td>&quot;cryptocoinjs/secp256k1-node/se…</td><td>0.000954</td></tr><tr><td>&quot;web3/web3.js&quot;</td><td>&quot;kitten/use-editable/use-editab…</td><td>0.000419</td></tr><tr><td>&quot;ethereum/remix-project&quot;</td><td>&quot;troygoode/node-require-directo…</td><td>0.00031</td></tr><tr><td>&quot;paradigmxyz/reth&quot;</td><td>&quot;sagebind/castaway/castaway&quot;</td><td>0.001374</td></tr></tbody></table></div>"
      ],
      "text/plain": [
       "shape: (10, 3)\n",
       "┌─────────────────────────────────┬─────────────────────────────────┬──────────┐\n",
       "│ repo                            ┆ package_repo                    ┆ weight   │\n",
       "│ ---                             ┆ ---                             ┆ ---      │\n",
       "│ str                             ┆ str                             ┆ f64      │\n",
       "╞═════════════════════════════════╪═════════════════════════════════╪══════════╡\n",
       "│ ethereumjs/ethereumjs-monorepo  ┆ paulmillr/scure-bip39/@scure/b… ┆ 0.000925 │\n",
       "│ ethereum/remix-project          ┆ isaacs/json-stringify-safe/jso… ┆ 0.00031  │\n",
       "│ ethereum/remix-project          ┆ mattgperry/motion/motion        ┆ 0.00031  │\n",
       "│ ethereum/remix-project          ┆ babel/babel/@babel/helper-func… ┆ 0.00031  │\n",
       "│ grandinetech/grandine           ┆ nix-rust/nix/nix                ┆ 0.001555 │\n",
       "│ chainsafe/lodestar              ┆ tootallnate/proxy-agents/degen… ┆ 0.000452 │\n",
       "│ eth-infinitism/account-abstrac… ┆ cryptocoinjs/secp256k1-node/se… ┆ 0.000954 │\n",
       "│ web3/web3.js                    ┆ kitten/use-editable/use-editab… ┆ 0.000419 │\n",
       "│ ethereum/remix-project          ┆ troygoode/node-require-directo… ┆ 0.00031  │\n",
       "│ paradigmxyz/reth                ┆ sagebind/castaway/castaway      ┆ 0.001374 │\n",
       "└─────────────────────────────────┴─────────────────────────────────┴──────────┘"
      ]
     },
     "execution_count": 18,
     "metadata": {},
     "output_type": "execute_result"
    }
   ],
   "source": [
    "df.select(\"repo\", \"package_repo\", \"weight\").sample(10)"
   ]
  },
  {
   "cell_type": "code",
   "execution_count": 19,
   "metadata": {},
   "outputs": [
    {
     "data": {
      "text/html": [
       "<div><style>\n",
       ".dataframe > thead > tr,\n",
       ".dataframe > tbody > tr {\n",
       "  text-align: right;\n",
       "  white-space: pre-wrap;\n",
       "}\n",
       "</style>\n",
       "<small>shape: (18, 2)</small><table border=\"1\" class=\"dataframe\"><thead><tr><th>repo</th><th>weight</th></tr><tr><td>str</td><td>f64</td></tr></thead><tbody><tr><td>&quot;sigp/lighthouse&quot;</td><td>1.0</td></tr><tr><td>&quot;status-im/nimbus-eth2&quot;</td><td>1.0</td></tr><tr><td>&quot;chainsafe/lodestar&quot;</td><td>1.0</td></tr><tr><td>&quot;web3/web3.js&quot;</td><td>1.0</td></tr><tr><td>&quot;ethereum/py-evm&quot;</td><td>1.0</td></tr><tr><td>&quot;eth-infinitism/account-abstrac…</td><td>1.0</td></tr><tr><td>&quot;consensys/teku&quot;</td><td>1.0</td></tr><tr><td>&quot;ethereumjs/ethereumjs-monorepo&quot;</td><td>1.0</td></tr><tr><td>&quot;paradigmxyz/reth&quot;</td><td>1.0</td></tr><tr><td>&quot;grandinetech/grandine&quot;</td><td>1.0</td></tr><tr><td>&quot;safe-global/safe-smart-account&quot;</td><td>1.0</td></tr><tr><td>&quot;prysmaticlabs/prysm&quot;</td><td>1.0</td></tr><tr><td>&quot;ethereum/web3.py&quot;</td><td>1.0</td></tr><tr><td>&quot;vyperlang/vyper&quot;</td><td>1.0</td></tr><tr><td>&quot;ethereum/go-ethereum&quot;</td><td>1.0</td></tr><tr><td>&quot;erigontech/erigon&quot;</td><td>1.0</td></tr><tr><td>&quot;ethereum/remix-project&quot;</td><td>1.0</td></tr><tr><td>&quot;ethereum/solidity&quot;</td><td>1.0</td></tr></tbody></table></div>"
      ],
      "text/plain": [
       "shape: (18, 2)\n",
       "┌─────────────────────────────────┬────────┐\n",
       "│ repo                            ┆ weight │\n",
       "│ ---                             ┆ ---    │\n",
       "│ str                             ┆ f64    │\n",
       "╞═════════════════════════════════╪════════╡\n",
       "│ sigp/lighthouse                 ┆ 1.0    │\n",
       "│ status-im/nimbus-eth2           ┆ 1.0    │\n",
       "│ chainsafe/lodestar              ┆ 1.0    │\n",
       "│ web3/web3.js                    ┆ 1.0    │\n",
       "│ ethereum/py-evm                 ┆ 1.0    │\n",
       "│ eth-infinitism/account-abstrac… ┆ 1.0    │\n",
       "│ consensys/teku                  ┆ 1.0    │\n",
       "│ ethereumjs/ethereumjs-monorepo  ┆ 1.0    │\n",
       "│ paradigmxyz/reth                ┆ 1.0    │\n",
       "│ grandinetech/grandine           ┆ 1.0    │\n",
       "│ safe-global/safe-smart-account  ┆ 1.0    │\n",
       "│ prysmaticlabs/prysm             ┆ 1.0    │\n",
       "│ ethereum/web3.py                ┆ 1.0    │\n",
       "│ vyperlang/vyper                 ┆ 1.0    │\n",
       "│ ethereum/go-ethereum            ┆ 1.0    │\n",
       "│ erigontech/erigon               ┆ 1.0    │\n",
       "│ ethereum/remix-project          ┆ 1.0    │\n",
       "│ ethereum/solidity               ┆ 1.0    │\n",
       "└─────────────────────────────────┴────────┘"
      ]
     },
     "execution_count": 19,
     "metadata": {},
     "output_type": "execute_result"
    }
   ],
   "source": [
    "df.group_by(\"repo\").agg(pl.col(\"weight\").sum())"
   ]
  },
  {
   "cell_type": "markdown",
   "metadata": {},
   "source": [
    "## Heuristic Model\n",
    "\n",
    "Now, lets assign weights based on external data. In this case, we will use the number of stars on GitHub for each package. Data can be obtained from GitHub API, [GitHub Archive](https://www.gharchive.org/), or, my prefered way, using [Open Source Observer public datasets on BigQuery](https://www.opensource.observer/)."
   ]
  },
  {
   "cell_type": "code",
   "execution_count": 20,
   "metadata": {},
   "outputs": [],
   "source": [
    "import polars as pl\n",
    "from google.cloud import bigquery\n",
    "\n",
    "client = bigquery.Client()"
   ]
  },
  {
   "cell_type": "code",
   "execution_count": 22,
   "metadata": {},
   "outputs": [],
   "source": [
    "package_list_string = \"'\" + df.select(\n",
    "    pl.concat_str(pl.lit(\"https://github.com/\"), pl.col(\"package_repo_owner\"), pl.lit(\"/\"), pl.col(\"package_repo_name\"))\n",
    ").to_series().str.join(\"', '\") + \"'\""
   ]
  },
  {
   "cell_type": "code",
   "execution_count": 52,
   "metadata": {},
   "outputs": [
    {
     "data": {
      "text/html": [
       "<div><style>\n",
       ".dataframe > thead > tr,\n",
       ".dataframe > tbody > tr {\n",
       "  text-align: right;\n",
       "  white-space: pre-wrap;\n",
       "}\n",
       "</style>\n",
       "<small>shape: (5, 6)</small><table border=\"1\" class=\"dataframe\"><thead><tr><th>url</th><th>is_fork</th><th>star_count</th><th>fork_count</th><th>created_at</th><th>updated_at</th></tr><tr><td>str</td><td>bool</td><td>i64</td><td>i64</td><td>datetime[μs, UTC]</td><td>datetime[μs, UTC]</td></tr></thead><tbody><tr><td>&quot;https://github.com/npm/agent&quot;</td><td>false</td><td>7</td><td>5</td><td>2022-06-30 17:47:07 UTC</td><td>2024-09-06 23:49:51 UTC</td></tr><tr><td>&quot;https://github.com/npm/securit…</td><td>false</td><td>157</td><td>58</td><td>2016-03-23 00:22:33 UTC</td><td>2024-12-11 17:50:51 UTC</td></tr><tr><td>&quot;https://github.com/jsdom/domex…</td><td>false</td><td>21</td><td>8</td><td>2017-08-14 03:04:01 UTC</td><td>2024-05-11 21:05:28 UTC</td></tr><tr><td>&quot;https://github.com/jsdom/abab&quot;</td><td>false</td><td>93</td><td>19</td><td>2015-08-29 03:21:16 UTC</td><td>2024-05-17 16:43:47 UTC</td></tr><tr><td>&quot;https://github.com/herumi/mcl-…</td><td>false</td><td>59</td><td>18</td><td>2017-11-20 06:46:44 UTC</td><td>2024-09-18 03:05:14 UTC</td></tr></tbody></table></div>"
      ],
      "text/plain": [
       "shape: (5, 6)\n",
       "┌────────────────────┬─────────┬────────────┬────────────┬────────────────────┬────────────────────┐\n",
       "│ url                ┆ is_fork ┆ star_count ┆ fork_count ┆ created_at         ┆ updated_at         │\n",
       "│ ---                ┆ ---     ┆ ---        ┆ ---        ┆ ---                ┆ ---                │\n",
       "│ str                ┆ bool    ┆ i64        ┆ i64        ┆ datetime[μs, UTC]  ┆ datetime[μs, UTC]  │\n",
       "╞════════════════════╪═════════╪════════════╪════════════╪════════════════════╪════════════════════╡\n",
       "│ https://github.com ┆ false   ┆ 7          ┆ 5          ┆ 2022-06-30         ┆ 2024-09-06         │\n",
       "│ /npm/agent         ┆         ┆            ┆            ┆ 17:47:07 UTC       ┆ 23:49:51 UTC       │\n",
       "│ https://github.com ┆ false   ┆ 157        ┆ 58         ┆ 2016-03-23         ┆ 2024-12-11         │\n",
       "│ /npm/securit…      ┆         ┆            ┆            ┆ 00:22:33 UTC       ┆ 17:50:51 UTC       │\n",
       "│ https://github.com ┆ false   ┆ 21         ┆ 8          ┆ 2017-08-14         ┆ 2024-05-11         │\n",
       "│ /jsdom/domex…      ┆         ┆            ┆            ┆ 03:04:01 UTC       ┆ 21:05:28 UTC       │\n",
       "│ https://github.com ┆ false   ┆ 93         ┆ 19         ┆ 2015-08-29         ┆ 2024-05-17         │\n",
       "│ /jsdom/abab        ┆         ┆            ┆            ┆ 03:21:16 UTC       ┆ 16:43:47 UTC       │\n",
       "│ https://github.com ┆ false   ┆ 59         ┆ 18         ┆ 2017-11-20         ┆ 2024-09-18         │\n",
       "│ /herumi/mcl-…      ┆         ┆            ┆            ┆ 06:46:44 UTC       ┆ 03:05:14 UTC       │\n",
       "└────────────────────┴─────────┴────────────┴────────────┴────────────────────┴────────────────────┘"
      ]
     },
     "execution_count": 52,
     "metadata": {},
     "output_type": "execute_result"
    }
   ],
   "source": [
    "QUERY = f\"\"\"\n",
    "select\n",
    "  artifact_url as url,\n",
    "  is_fork,\n",
    "  star_count,\n",
    "  fork_count,\n",
    "  created_at,\n",
    "  updated_at\n",
    "from `opensource-observer.oso.repositories_v0`\n",
    "where artifact_url in ({package_list_string[0]})\n",
    "\"\"\"\n",
    "\n",
    "query_job = client.query(QUERY)\n",
    "rows = query_job.result()\n",
    "\n",
    "oso_df = pl.from_arrow(rows.to_arrow())\n",
    "oso_df.head()"
   ]
  },
  {
   "cell_type": "code",
   "execution_count": 53,
   "metadata": {},
   "outputs": [
    {
     "data": {
      "text/plain": [
       "(1439, 6)"
      ]
     },
     "execution_count": 53,
     "metadata": {},
     "output_type": "execute_result"
    }
   ],
   "source": [
    "oso_df.shape"
   ]
  }
 ],
 "metadata": {
  "kernelspec": {
   "display_name": "Python 3",
   "language": "python",
   "name": "python3"
  },
  "language_info": {
   "codemirror_mode": {
    "name": "ipython",
    "version": 3
   },
   "file_extension": ".py",
   "mimetype": "text/x-python",
   "name": "python",
   "nbconvert_exporter": "python",
   "pygments_lexer": "ipython3",
   "version": "3.13.0"
  }
 },
 "nbformat": 4,
 "nbformat_minor": 2
}
