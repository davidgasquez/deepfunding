{
 "cells": [
  {
   "cell_type": "code",
   "execution_count": 3,
   "metadata": {},
   "outputs": [
    {
     "data": {
      "text/html": [
       "<div><style>\n",
       ".dataframe > thead > tr,\n",
       ".dataframe > tbody > tr {\n",
       "  text-align: right;\n",
       "  white-space: pre-wrap;\n",
       "}\n",
       "</style>\n",
       "<small>shape: (10, 6)</small><table border=\"1\" class=\"dataframe\"><thead><tr><th>seed_repo_owner</th><th>seed_repo_name</th><th>package_name</th><th>package_repo_owner</th><th>package_repo_name</th><th>package_source</th></tr><tr><td>str</td><td>str</td><td>str</td><td>str</td><td>str</td><td>str</td></tr></thead><tbody><tr><td>&quot;grandinetech&quot;</td><td>&quot;grandine&quot;</td><td>&quot;x25519-dalek&quot;</td><td>&quot;dalek-cryptography&quot;</td><td>&quot;x25519-dalek&quot;</td><td>&quot;RUST&quot;</td></tr><tr><td>&quot;paradigmxyz&quot;</td><td>&quot;reth&quot;</td><td>&quot;num-conv&quot;</td><td>&quot;jhpratt&quot;</td><td>&quot;num-conv&quot;</td><td>&quot;RUST&quot;</td></tr><tr><td>&quot;chainsafe&quot;</td><td>&quot;lodestar&quot;</td><td>&quot;is-ssh&quot;</td><td>&quot;ionicabizau&quot;</td><td>&quot;node-is-ssh&quot;</td><td>&quot;NPM&quot;</td></tr><tr><td>&quot;web3&quot;</td><td>&quot;web3.js&quot;</td><td>&quot;backoff&quot;</td><td>&quot;mathieuturcotte&quot;</td><td>&quot;node-backoff&quot;</td><td>&quot;NPM&quot;</td></tr><tr><td>&quot;ethereum&quot;</td><td>&quot;remix-project&quot;</td><td>&quot;@esbuild/linux-arm64&quot;</td><td>&quot;evanw&quot;</td><td>&quot;esbuild&quot;</td><td>&quot;NPM&quot;</td></tr><tr><td>&quot;web3&quot;</td><td>&quot;web3.js&quot;</td><td>&quot;acorn-class-fields&quot;</td><td>&quot;acornjs&quot;</td><td>&quot;acorn-class-fields&quot;</td><td>&quot;NPM&quot;</td></tr><tr><td>&quot;eth-infinitism&quot;</td><td>&quot;account-abstraction&quot;</td><td>&quot;@typescript-eslint/type-utils&quot;</td><td>&quot;typescript-eslint&quot;</td><td>&quot;typescript-eslint&quot;</td><td>&quot;NPM&quot;</td></tr><tr><td>&quot;chainsafe&quot;</td><td>&quot;lodestar&quot;</td><td>&quot;@babel/plugin-transform-unicod…</td><td>&quot;babel&quot;</td><td>&quot;babel&quot;</td><td>&quot;NPM&quot;</td></tr><tr><td>&quot;chainsafe&quot;</td><td>&quot;lodestar&quot;</td><td>&quot;async&quot;</td><td>&quot;caolan&quot;</td><td>&quot;async&quot;</td><td>&quot;NPM&quot;</td></tr><tr><td>&quot;paradigmxyz&quot;</td><td>&quot;reth&quot;</td><td>&quot;futures-timer&quot;</td><td>&quot;async-rs&quot;</td><td>&quot;futures-timer&quot;</td><td>&quot;RUST&quot;</td></tr></tbody></table></div>"
      ],
      "text/plain": [
       "shape: (10, 6)\n",
       "┌────────────────┬────────────────┬────────────────┬───────────────┬───────────────┬───────────────┐\n",
       "│ seed_repo_owne ┆ seed_repo_name ┆ package_name   ┆ package_repo_ ┆ package_repo_ ┆ package_sourc │\n",
       "│ r              ┆ ---            ┆ ---            ┆ owner         ┆ name          ┆ e             │\n",
       "│ ---            ┆ str            ┆ str            ┆ ---           ┆ ---           ┆ ---           │\n",
       "│ str            ┆                ┆                ┆ str           ┆ str           ┆ str           │\n",
       "╞════════════════╪════════════════╪════════════════╪═══════════════╪═══════════════╪═══════════════╡\n",
       "│ grandinetech   ┆ grandine       ┆ x25519-dalek   ┆ dalek-cryptog ┆ x25519-dalek  ┆ RUST          │\n",
       "│                ┆                ┆                ┆ raphy         ┆               ┆               │\n",
       "│ paradigmxyz    ┆ reth           ┆ num-conv       ┆ jhpratt       ┆ num-conv      ┆ RUST          │\n",
       "│ chainsafe      ┆ lodestar       ┆ is-ssh         ┆ ionicabizau   ┆ node-is-ssh   ┆ NPM           │\n",
       "│ web3           ┆ web3.js        ┆ backoff        ┆ mathieuturcot ┆ node-backoff  ┆ NPM           │\n",
       "│                ┆                ┆                ┆ te            ┆               ┆               │\n",
       "│ ethereum       ┆ remix-project  ┆ @esbuild/linux ┆ evanw         ┆ esbuild       ┆ NPM           │\n",
       "│                ┆                ┆ -arm64         ┆               ┆               ┆               │\n",
       "│ web3           ┆ web3.js        ┆ acorn-class-fi ┆ acornjs       ┆ acorn-class-f ┆ NPM           │\n",
       "│                ┆                ┆ elds           ┆               ┆ ields         ┆               │\n",
       "│ eth-infinitism ┆ account-abstra ┆ @typescript-es ┆ typescript-es ┆ typescript-es ┆ NPM           │\n",
       "│                ┆ ction          ┆ lint/type-util ┆ lint          ┆ lint          ┆               │\n",
       "│                ┆                ┆ s              ┆               ┆               ┆               │\n",
       "│ chainsafe      ┆ lodestar       ┆ @babel/plugin- ┆ babel         ┆ babel         ┆ NPM           │\n",
       "│                ┆                ┆ transform-unic ┆               ┆               ┆               │\n",
       "│                ┆                ┆ od…            ┆               ┆               ┆               │\n",
       "│ chainsafe      ┆ lodestar       ┆ async          ┆ caolan        ┆ async         ┆ NPM           │\n",
       "│ paradigmxyz    ┆ reth           ┆ futures-timer  ┆ async-rs      ┆ futures-timer ┆ RUST          │\n",
       "└────────────────┴────────────────┴────────────────┴───────────────┴───────────────┴───────────────┘"
      ]
     },
     "execution_count": 3,
     "metadata": {},
     "output_type": "execute_result"
    }
   ],
   "source": [
    "import polars as pl\n",
    "\n",
    "df = pl.read_csv('https://github.com/deepfunding/dependency-graph/raw/refs/heads/main/data/unweighted_graph.csv')\n",
    "df.sample(10)"
   ]
  },
  {
   "cell_type": "code",
   "execution_count": 2,
   "metadata": {},
   "outputs": [
    {
     "data": {
      "text/html": [
       "<div><style>\n",
       ".dataframe > thead > tr,\n",
       ".dataframe > tbody > tr {\n",
       "  text-align: right;\n",
       "  white-space: pre-wrap;\n",
       "}\n",
       "</style>\n",
       "<small>shape: (3, 6)</small><table border=\"1\" class=\"dataframe\"><thead><tr><th>seed_repo_owner</th><th>seed_repo_name</th><th>package_name</th><th>package_repo_owner</th><th>package_repo_name</th><th>package_source</th></tr><tr><td>str</td><td>str</td><td>str</td><td>str</td><td>str</td><td>str</td></tr></thead><tbody><tr><td>&quot;ethereum&quot;</td><td>&quot;solidity&quot;</td><td>&quot;sphinx-a4doc&quot;</td><td>&quot;taminomara&quot;</td><td>&quot;sphinx-a4doc&quot;</td><td>&quot;PIP&quot;</td></tr><tr><td>&quot;ethereum&quot;</td><td>&quot;solidity&quot;</td><td>&quot;sphinx&quot;</td><td>&quot;sphinx-doc&quot;</td><td>&quot;sphinx&quot;</td><td>&quot;PIP&quot;</td></tr><tr><td>&quot;ethereum&quot;</td><td>&quot;solidity&quot;</td><td>&quot;sphinx-rtd-theme&quot;</td><td>&quot;readthedocs&quot;</td><td>&quot;sphinx_rtd_theme&quot;</td><td>&quot;PIP&quot;</td></tr></tbody></table></div>"
      ],
      "text/plain": [
       "shape: (3, 6)\n",
       "┌────────────────┬────────────────┬────────────────┬───────────────┬───────────────┬───────────────┐\n",
       "│ seed_repo_owne ┆ seed_repo_name ┆ package_name   ┆ package_repo_ ┆ package_repo_ ┆ package_sourc │\n",
       "│ r              ┆ ---            ┆ ---            ┆ owner         ┆ name          ┆ e             │\n",
       "│ ---            ┆ str            ┆ str            ┆ ---           ┆ ---           ┆ ---           │\n",
       "│ str            ┆                ┆                ┆ str           ┆ str           ┆ str           │\n",
       "╞════════════════╪════════════════╪════════════════╪═══════════════╪═══════════════╪═══════════════╡\n",
       "│ ethereum       ┆ solidity       ┆ sphinx-a4doc   ┆ taminomara    ┆ sphinx-a4doc  ┆ PIP           │\n",
       "│ ethereum       ┆ solidity       ┆ sphinx         ┆ sphinx-doc    ┆ sphinx        ┆ PIP           │\n",
       "│ ethereum       ┆ solidity       ┆ sphinx-rtd-the ┆ readthedocs   ┆ sphinx_rtd_th ┆ PIP           │\n",
       "│                ┆                ┆ me             ┆               ┆ eme           ┆               │\n",
       "└────────────────┴────────────────┴────────────────┴───────────────┴───────────────┴───────────────┘"
      ]
     },
     "execution_count": 2,
     "metadata": {},
     "output_type": "execute_result"
    }
   ],
   "source": [
    "df.filter(\n",
    "    (pl.col(\"seed_repo_owner\") == \"ethereum\") &\n",
    "    (pl.col(\"seed_repo_name\") == \"solidity\")\n",
    ")"
   ]
  }
 ],
 "metadata": {
  "kernelspec": {
   "display_name": "Python 3",
   "language": "python",
   "name": "python3"
  },
  "language_info": {
   "codemirror_mode": {
    "name": "ipython",
    "version": 3
   },
   "file_extension": ".py",
   "mimetype": "text/x-python",
   "name": "python",
   "nbconvert_exporter": "python",
   "pygments_lexer": "ipython3",
   "version": "3.13.0"
  }
 },
 "nbformat": 4,
 "nbformat_minor": 2
}
