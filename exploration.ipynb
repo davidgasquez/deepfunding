{
 "cells": [
  {
   "cell_type": "markdown",
   "metadata": {},
   "source": [
    "# Exploring the Graph of Dependencies\n",
    "\n",
    "A small exploration of the graph of dependencies to understand the data and the structure of the graph."
   ]
  },
  {
   "cell_type": "markdown",
   "metadata": {},
   "source": [
    "## Data"
   ]
  },
  {
   "cell_type": "code",
   "execution_count": 60,
   "metadata": {},
   "outputs": [],
   "source": [
    "import json\n",
    "import urllib.request\n",
    "\n",
    "url = \"https://raw.githubusercontent.com/deepfunding/dependency-graph/refs/heads/main/graph/unweighted_graph.json\"\n",
    "with urllib.request.urlopen(url) as response:\n",
    "    graph_data = json.loads(response.read())\n"
   ]
  },
  {
   "cell_type": "code",
   "execution_count": 61,
   "metadata": {},
   "outputs": [
    {
     "data": {
      "text/html": [
       "<div><style>\n",
       ".dataframe > thead > tr,\n",
       ".dataframe > tbody > tr {\n",
       "  text-align: right;\n",
       "  white-space: pre-wrap;\n",
       "}\n",
       "</style>\n",
       "<small>shape: (10, 6)</small><table border=\"1\" class=\"dataframe\"><thead><tr><th>seed_repo_owner</th><th>seed_repo_name</th><th>package_name</th><th>package_repo_owner</th><th>package_repo_name</th><th>package_source</th></tr><tr><td>str</td><td>str</td><td>str</td><td>str</td><td>str</td><td>str</td></tr></thead><tbody><tr><td>&quot;chainsafe&quot;</td><td>&quot;lodestar&quot;</td><td>&quot;hast-util-from-parse5&quot;</td><td>&quot;syntax-tree&quot;</td><td>&quot;hast-util-from-parse5&quot;</td><td>&quot;NPM&quot;</td></tr><tr><td>&quot;eth-infinitism&quot;</td><td>&quot;account-abstraction&quot;</td><td>&quot;recursive-readdir&quot;</td><td>&quot;jergason&quot;</td><td>&quot;recursive-readdir&quot;</td><td>&quot;NPM&quot;</td></tr><tr><td>&quot;web3&quot;</td><td>&quot;web3.js&quot;</td><td>&quot;deep-is&quot;</td><td>&quot;thlorenz&quot;</td><td>&quot;deep-is&quot;</td><td>&quot;NPM&quot;</td></tr><tr><td>&quot;prysmaticlabs&quot;</td><td>&quot;prysm&quot;</td><td>&quot;github.com/klauspost/compress&quot;</td><td>&quot;klauspost&quot;</td><td>&quot;compress&quot;</td><td>&quot;GO&quot;</td></tr><tr><td>&quot;safe-global&quot;</td><td>&quot;safe-smart-account&quot;</td><td>&quot;@nomicfoundation/edr-darwin-x6…</td><td>&quot;nomicfoundation&quot;</td><td>&quot;edr&quot;</td><td>&quot;NPM&quot;</td></tr><tr><td>&quot;sigp&quot;</td><td>&quot;lighthouse&quot;</td><td>&quot;anstyle&quot;</td><td>&quot;rust-cli&quot;</td><td>&quot;anstyle&quot;</td><td>&quot;RUST&quot;</td></tr><tr><td>&quot;eth-infinitism&quot;</td><td>&quot;account-abstraction&quot;</td><td>&quot;typedarray-to-buffer&quot;</td><td>&quot;feross&quot;</td><td>&quot;typedarray-to-buffer&quot;</td><td>&quot;NPM&quot;</td></tr><tr><td>&quot;web3&quot;</td><td>&quot;web3.js&quot;</td><td>&quot;@yarnpkg/parsers&quot;</td><td>&quot;yarnpkg&quot;</td><td>&quot;berry&quot;</td><td>&quot;NPM&quot;</td></tr><tr><td>&quot;safe-global&quot;</td><td>&quot;safe-smart-account&quot;</td><td>&quot;asn1&quot;</td><td>&quot;joyent&quot;</td><td>&quot;node-asn1&quot;</td><td>&quot;NPM&quot;</td></tr><tr><td>&quot;safe-global&quot;</td><td>&quot;safe-smart-account&quot;</td><td>&quot;is-arrayish&quot;</td><td>&quot;qix-&quot;</td><td>&quot;node-is-arrayish&quot;</td><td>&quot;NPM&quot;</td></tr></tbody></table></div>"
      ],
      "text/plain": [
       "shape: (10, 6)\n",
       "┌────────────────┬────────────────┬────────────────┬───────────────┬───────────────┬───────────────┐\n",
       "│ seed_repo_owne ┆ seed_repo_name ┆ package_name   ┆ package_repo_ ┆ package_repo_ ┆ package_sourc │\n",
       "│ r              ┆ ---            ┆ ---            ┆ owner         ┆ name          ┆ e             │\n",
       "│ ---            ┆ str            ┆ str            ┆ ---           ┆ ---           ┆ ---           │\n",
       "│ str            ┆                ┆                ┆ str           ┆ str           ┆ str           │\n",
       "╞════════════════╪════════════════╪════════════════╪═══════════════╪═══════════════╪═══════════════╡\n",
       "│ chainsafe      ┆ lodestar       ┆ hast-util-from ┆ syntax-tree   ┆ hast-util-fro ┆ NPM           │\n",
       "│                ┆                ┆ -parse5        ┆               ┆ m-parse5      ┆               │\n",
       "│ eth-infinitism ┆ account-abstra ┆ recursive-read ┆ jergason      ┆ recursive-rea ┆ NPM           │\n",
       "│                ┆ ction          ┆ dir            ┆               ┆ ddir          ┆               │\n",
       "│ web3           ┆ web3.js        ┆ deep-is        ┆ thlorenz      ┆ deep-is       ┆ NPM           │\n",
       "│ prysmaticlabs  ┆ prysm          ┆ github.com/kla ┆ klauspost     ┆ compress      ┆ GO            │\n",
       "│                ┆                ┆ uspost/compres ┆               ┆               ┆               │\n",
       "│                ┆                ┆ s              ┆               ┆               ┆               │\n",
       "│ safe-global    ┆ safe-smart-acc ┆ @nomicfoundati ┆ nomicfoundati ┆ edr           ┆ NPM           │\n",
       "│                ┆ ount           ┆ on/edr-darwin- ┆ on            ┆               ┆               │\n",
       "│                ┆                ┆ x6…            ┆               ┆               ┆               │\n",
       "│ sigp           ┆ lighthouse     ┆ anstyle        ┆ rust-cli      ┆ anstyle       ┆ RUST          │\n",
       "│ eth-infinitism ┆ account-abstra ┆ typedarray-to- ┆ feross        ┆ typedarray-to ┆ NPM           │\n",
       "│                ┆ ction          ┆ buffer         ┆               ┆ -buffer       ┆               │\n",
       "│ web3           ┆ web3.js        ┆ @yarnpkg/parse ┆ yarnpkg       ┆ berry         ┆ NPM           │\n",
       "│                ┆                ┆ rs             ┆               ┆               ┆               │\n",
       "│ safe-global    ┆ safe-smart-acc ┆ asn1           ┆ joyent        ┆ node-asn1     ┆ NPM           │\n",
       "│                ┆ ount           ┆                ┆               ┆               ┆               │\n",
       "│ safe-global    ┆ safe-smart-acc ┆ is-arrayish    ┆ qix-          ┆ node-is-array ┆ NPM           │\n",
       "│                ┆ ount           ┆                ┆               ┆ ish           ┆               │\n",
       "└────────────────┴────────────────┴────────────────┴───────────────┴───────────────┴───────────────┘"
      ]
     },
     "execution_count": 61,
     "metadata": {},
     "output_type": "execute_result"
    }
   ],
   "source": [
    "import polars as pl\n",
    "\n",
    "pl.Config.set_tbl_rows(20)\n",
    "\n",
    "df = pl.read_csv('https://raw.githubusercontent.com/deepfunding/dependency-graph/refs/heads/main/graph/unweighted_graph.csv')\n",
    "df.sample(10)"
   ]
  },
  {
   "cell_type": "code",
   "execution_count": 62,
   "metadata": {},
   "outputs": [
    {
     "data": {
      "text/plain": [
       "(13536, 6)"
      ]
     },
     "execution_count": 62,
     "metadata": {},
     "output_type": "execute_result"
    }
   ],
   "source": [
    "df.shape"
   ]
  },
  {
   "cell_type": "markdown",
   "metadata": {},
   "source": [
    "The CSV data is the definition of a graph. The source is `seed_repo_owner/seed_repo_name` and the target is `package_repo_owner/package_repo_name/package_name`. There is also a source for the package, which is `package_source`."
   ]
  },
  {
   "cell_type": "code",
   "execution_count": 63,
   "metadata": {},
   "outputs": [
    {
     "data": {
      "text/html": [
       "<div><style>\n",
       ".dataframe > thead > tr,\n",
       ".dataframe > tbody > tr {\n",
       "  text-align: right;\n",
       "  white-space: pre-wrap;\n",
       "}\n",
       "</style>\n",
       "<small>shape: (3, 6)</small><table border=\"1\" class=\"dataframe\"><thead><tr><th>seed_repo_owner</th><th>seed_repo_name</th><th>package_name</th><th>package_repo_owner</th><th>package_repo_name</th><th>package_source</th></tr><tr><td>str</td><td>str</td><td>str</td><td>str</td><td>str</td><td>str</td></tr></thead><tbody><tr><td>&quot;ethereum&quot;</td><td>&quot;solidity&quot;</td><td>&quot;sphinx-a4doc&quot;</td><td>&quot;taminomara&quot;</td><td>&quot;sphinx-a4doc&quot;</td><td>&quot;PIP&quot;</td></tr><tr><td>&quot;ethereum&quot;</td><td>&quot;solidity&quot;</td><td>&quot;sphinx&quot;</td><td>&quot;sphinx-doc&quot;</td><td>&quot;sphinx&quot;</td><td>&quot;PIP&quot;</td></tr><tr><td>&quot;ethereum&quot;</td><td>&quot;solidity&quot;</td><td>&quot;sphinx-rtd-theme&quot;</td><td>&quot;readthedocs&quot;</td><td>&quot;sphinx_rtd_theme&quot;</td><td>&quot;PIP&quot;</td></tr></tbody></table></div>"
      ],
      "text/plain": [
       "shape: (3, 6)\n",
       "┌────────────────┬────────────────┬────────────────┬───────────────┬───────────────┬───────────────┐\n",
       "│ seed_repo_owne ┆ seed_repo_name ┆ package_name   ┆ package_repo_ ┆ package_repo_ ┆ package_sourc │\n",
       "│ r              ┆ ---            ┆ ---            ┆ owner         ┆ name          ┆ e             │\n",
       "│ ---            ┆ str            ┆ str            ┆ ---           ┆ ---           ┆ ---           │\n",
       "│ str            ┆                ┆                ┆ str           ┆ str           ┆ str           │\n",
       "╞════════════════╪════════════════╪════════════════╪═══════════════╪═══════════════╪═══════════════╡\n",
       "│ ethereum       ┆ solidity       ┆ sphinx-a4doc   ┆ taminomara    ┆ sphinx-a4doc  ┆ PIP           │\n",
       "│ ethereum       ┆ solidity       ┆ sphinx         ┆ sphinx-doc    ┆ sphinx        ┆ PIP           │\n",
       "│ ethereum       ┆ solidity       ┆ sphinx-rtd-the ┆ readthedocs   ┆ sphinx_rtd_th ┆ PIP           │\n",
       "│                ┆                ┆ me             ┆               ┆ eme           ┆               │\n",
       "└────────────────┴────────────────┴────────────────┴───────────────┴───────────────┴───────────────┘"
      ]
     },
     "execution_count": 63,
     "metadata": {},
     "output_type": "execute_result"
    }
   ],
   "source": [
    "df.filter(\n",
    "    (pl.col(\"seed_repo_owner\") == \"ethereum\") &\n",
    "    (pl.col(\"seed_repo_name\") == \"solidity\")\n",
    ")"
   ]
  },
  {
   "cell_type": "code",
   "execution_count": 64,
   "metadata": {},
   "outputs": [
    {
     "data": {
      "text/html": [
       "<div><style>\n",
       ".dataframe > thead > tr,\n",
       ".dataframe > tbody > tr {\n",
       "  text-align: right;\n",
       "  white-space: pre-wrap;\n",
       "}\n",
       "</style>\n",
       "<small>shape: (4, 2)</small><table border=\"1\" class=\"dataframe\"><thead><tr><th>package_source</th><th>len</th></tr><tr><td>str</td><td>u32</td></tr></thead><tbody><tr><td>&quot;NPM&quot;</td><td>10746</td></tr><tr><td>&quot;RUST&quot;</td><td>2024</td></tr><tr><td>&quot;PIP&quot;</td><td>135</td></tr><tr><td>&quot;GO&quot;</td><td>631</td></tr></tbody></table></div>"
      ],
      "text/plain": [
       "shape: (4, 2)\n",
       "┌────────────────┬───────┐\n",
       "│ package_source ┆ len   │\n",
       "│ ---            ┆ ---   │\n",
       "│ str            ┆ u32   │\n",
       "╞════════════════╪═══════╡\n",
       "│ NPM            ┆ 10746 │\n",
       "│ RUST           ┆ 2024  │\n",
       "│ PIP            ┆ 135   │\n",
       "│ GO             ┆ 631   │\n",
       "└────────────────┴───────┘"
      ]
     },
     "execution_count": 64,
     "metadata": {},
     "output_type": "execute_result"
    }
   ],
   "source": [
    "df.group_by(\"package_source\").agg(pl.len())"
   ]
  },
  {
   "cell_type": "code",
   "execution_count": 65,
   "metadata": {},
   "outputs": [],
   "source": [
    "df = df.with_columns(\n",
    "    pl.concat_str(\n",
    "        [\n",
    "            pl.col(\"seed_repo_owner\"),\n",
    "            pl.col(\"seed_repo_name\"),\n",
    "        ],\n",
    "        separator=\"/\"\n",
    "    ).alias(\"repo\"),\n",
    "    pl.concat_str(\n",
    "        [\n",
    "            pl.col(\"package_repo_owner\"),\n",
    "            pl.col(\"package_repo_name\"),\n",
    "            pl.col(\"package_name\"),\n",
    "        ],\n",
    "        separator=\"/\"\n",
    "    ).alias(\"package_repo\"),\n",
    ")"
   ]
  },
  {
   "cell_type": "code",
   "execution_count": 66,
   "metadata": {},
   "outputs": [
    {
     "data": {
      "text/html": [
       "<div><style>\n",
       ".dataframe > thead > tr,\n",
       ".dataframe > tbody > tr {\n",
       "  text-align: right;\n",
       "  white-space: pre-wrap;\n",
       "}\n",
       "</style>\n",
       "<small>shape: (18, 2)</small><table border=\"1\" class=\"dataframe\"><thead><tr><th>repo</th><th>package_repo</th></tr><tr><td>str</td><td>u32</td></tr></thead><tbody><tr><td>&quot;ethereum/remix-project&quot;</td><td>3230</td></tr><tr><td>&quot;web3/web3.js&quot;</td><td>2389</td></tr><tr><td>&quot;chainsafe/lodestar&quot;</td><td>2213</td></tr><tr><td>&quot;ethereumjs/ethereumjs-monorepo&quot;</td><td>1081</td></tr><tr><td>&quot;eth-infinitism/account-abstrac…</td><td>1048</td></tr><tr><td>&quot;paradigmxyz/reth&quot;</td><td>728</td></tr><tr><td>&quot;sigp/lighthouse&quot;</td><td>653</td></tr><tr><td>&quot;grandinetech/grandine&quot;</td><td>643</td></tr><tr><td>&quot;safe-global/safe-smart-account&quot;</td><td>636</td></tr><tr><td>&quot;erigontech/erigon&quot;</td><td>265</td></tr><tr><td>&quot;prysmaticlabs/prysm&quot;</td><td>252</td></tr><tr><td>&quot;consensys/teku&quot;</td><td>141</td></tr><tr><td>&quot;ethereum/go-ethereum&quot;</td><td>125</td></tr><tr><td>&quot;status-im/nimbus-eth2&quot;</td><td>96</td></tr><tr><td>&quot;ethereum/web3.py&quot;</td><td>13</td></tr><tr><td>&quot;ethereum/py-evm&quot;</td><td>11</td></tr><tr><td>&quot;vyperlang/vyper&quot;</td><td>9</td></tr><tr><td>&quot;ethereum/solidity&quot;</td><td>3</td></tr></tbody></table></div>"
      ],
      "text/plain": [
       "shape: (18, 2)\n",
       "┌─────────────────────────────────┬──────────────┐\n",
       "│ repo                            ┆ package_repo │\n",
       "│ ---                             ┆ ---          │\n",
       "│ str                             ┆ u32          │\n",
       "╞═════════════════════════════════╪══════════════╡\n",
       "│ ethereum/remix-project          ┆ 3230         │\n",
       "│ web3/web3.js                    ┆ 2389         │\n",
       "│ chainsafe/lodestar              ┆ 2213         │\n",
       "│ ethereumjs/ethereumjs-monorepo  ┆ 1081         │\n",
       "│ eth-infinitism/account-abstrac… ┆ 1048         │\n",
       "│ paradigmxyz/reth                ┆ 728          │\n",
       "│ sigp/lighthouse                 ┆ 653          │\n",
       "│ grandinetech/grandine           ┆ 643          │\n",
       "│ safe-global/safe-smart-account  ┆ 636          │\n",
       "│ erigontech/erigon               ┆ 265          │\n",
       "│ prysmaticlabs/prysm             ┆ 252          │\n",
       "│ consensys/teku                  ┆ 141          │\n",
       "│ ethereum/go-ethereum            ┆ 125          │\n",
       "│ status-im/nimbus-eth2           ┆ 96           │\n",
       "│ ethereum/web3.py                ┆ 13           │\n",
       "│ ethereum/py-evm                 ┆ 11           │\n",
       "│ vyperlang/vyper                 ┆ 9            │\n",
       "│ ethereum/solidity               ┆ 3            │\n",
       "└─────────────────────────────────┴──────────────┘"
      ]
     },
     "execution_count": 66,
     "metadata": {},
     "output_type": "execute_result"
    }
   ],
   "source": [
    "df.group_by(\"repo\").agg(pl.col(\"package_repo\").n_unique()).sort(\"package_repo\", descending=True)"
   ]
  },
  {
   "cell_type": "code",
   "execution_count": 67,
   "metadata": {},
   "outputs": [
    {
     "data": {
      "text/html": [
       "<div><style>\n",
       ".dataframe > thead > tr,\n",
       ".dataframe > tbody > tr {\n",
       "  text-align: right;\n",
       "  white-space: pre-wrap;\n",
       "}\n",
       "</style>\n",
       "<small>shape: (6_211, 2)</small><table border=\"1\" class=\"dataframe\"><thead><tr><th>package_repo</th><th>repo</th></tr><tr><td>str</td><td>u32</td></tr></thead><tbody><tr><td>&quot;sindresorhus/globby/globby&quot;</td><td>7</td></tr><tr><td>&quot;vercel/ms/ms&quot;</td><td>7</td></tr><tr><td>&quot;sindresorhus/escape-string-reg…</td><td>7</td></tr><tr><td>&quot;sindresorhus/p-try/p-try&quot;</td><td>7</td></tr><tr><td>&quot;epoberezkin/json-schema-traver…</td><td>7</td></tr><tr><td>&quot;acornjs/acorn-jsx/acorn-jsx&quot;</td><td>7</td></tr><tr><td>&quot;sindresorhus/array-union/array…</td><td>7</td></tr><tr><td>&quot;npm/node-which/which&quot;</td><td>7</td></tr><tr><td>&quot;lydell/js-tokens/js-tokens&quot;</td><td>7</td></tr><tr><td>&quot;sindresorhus/parent-module/par…</td><td>7</td></tr><tr><td>&hellip;</td><td>&hellip;</td></tr><tr><td>&quot;aws/smithy-go/github.com/aws/s…</td><td>1</td></tr><tr><td>&quot;dtolnay/enumn/enumn&quot;</td><td>1</td></tr><tr><td>&quot;paritytech/jsonrpsee/jsonrpsee…</td><td>1</td></tr><tr><td>&quot;peculiarventures/json-schema/@…</td><td>1</td></tr><tr><td>&quot;jonschlinkert/array-slice/arra…</td><td>1</td></tr><tr><td>&quot;azure/azure-sdk-for-go/github.…</td><td>1</td></tr><tr><td>&quot;ljharb/data-view-byte-length/d…</td><td>1</td></tr><tr><td>&quot;js-sdsl/js-sdsl/@js-sdsl/order…</td><td>1</td></tr><tr><td>&quot;definitelytyped/definitelytype…</td><td>1</td></tr><tr><td>&quot;syntax-tree/hast-util-to-html/…</td><td>1</td></tr></tbody></table></div>"
      ],
      "text/plain": [
       "shape: (6_211, 2)\n",
       "┌─────────────────────────────────┬──────┐\n",
       "│ package_repo                    ┆ repo │\n",
       "│ ---                             ┆ ---  │\n",
       "│ str                             ┆ u32  │\n",
       "╞═════════════════════════════════╪══════╡\n",
       "│ sindresorhus/globby/globby      ┆ 7    │\n",
       "│ vercel/ms/ms                    ┆ 7    │\n",
       "│ sindresorhus/escape-string-reg… ┆ 7    │\n",
       "│ sindresorhus/p-try/p-try        ┆ 7    │\n",
       "│ epoberezkin/json-schema-traver… ┆ 7    │\n",
       "│ acornjs/acorn-jsx/acorn-jsx     ┆ 7    │\n",
       "│ sindresorhus/array-union/array… ┆ 7    │\n",
       "│ npm/node-which/which            ┆ 7    │\n",
       "│ lydell/js-tokens/js-tokens      ┆ 7    │\n",
       "│ sindresorhus/parent-module/par… ┆ 7    │\n",
       "│ …                               ┆ …    │\n",
       "│ aws/smithy-go/github.com/aws/s… ┆ 1    │\n",
       "│ dtolnay/enumn/enumn             ┆ 1    │\n",
       "│ paritytech/jsonrpsee/jsonrpsee… ┆ 1    │\n",
       "│ peculiarventures/json-schema/@… ┆ 1    │\n",
       "│ jonschlinkert/array-slice/arra… ┆ 1    │\n",
       "│ azure/azure-sdk-for-go/github.… ┆ 1    │\n",
       "│ ljharb/data-view-byte-length/d… ┆ 1    │\n",
       "│ js-sdsl/js-sdsl/@js-sdsl/order… ┆ 1    │\n",
       "│ definitelytyped/definitelytype… ┆ 1    │\n",
       "│ syntax-tree/hast-util-to-html/… ┆ 1    │\n",
       "└─────────────────────────────────┴──────┘"
      ]
     },
     "execution_count": 67,
     "metadata": {},
     "output_type": "execute_result"
    }
   ],
   "source": [
    "df.group_by(\"package_repo\").agg(pl.col(\"repo\").n_unique()).sort(\"repo\", descending=True)"
   ]
  },
  {
   "cell_type": "markdown",
   "metadata": {},
   "source": [
    "## Baseline Model\n",
    "\n",
    "Let's work on a model that assigns the same weight to all dependencies. Source (`repo`) weights should sum to 1."
   ]
  },
  {
   "cell_type": "code",
   "execution_count": 68,
   "metadata": {},
   "outputs": [],
   "source": [
    "df = df.with_columns(\n",
    "    (1 / pl.col(\"package_repo\").n_unique().over(\"repo\")).alias(\"weight\")\n",
    ")"
   ]
  },
  {
   "cell_type": "code",
   "execution_count": 69,
   "metadata": {},
   "outputs": [
    {
     "data": {
      "text/html": [
       "<div><style>\n",
       ".dataframe > thead > tr,\n",
       ".dataframe > tbody > tr {\n",
       "  text-align: right;\n",
       "  white-space: pre-wrap;\n",
       "}\n",
       "</style>\n",
       "<small>shape: (10, 3)</small><table border=\"1\" class=\"dataframe\"><thead><tr><th>repo</th><th>package_repo</th><th>weight</th></tr><tr><td>str</td><td>str</td><td>f64</td></tr></thead><tbody><tr><td>&quot;sigp/lighthouse&quot;</td><td>&quot;rust-lang/futures-rs/futures-i…</td><td>0.001531</td></tr><tr><td>&quot;ethereum/remix-project&quot;</td><td>&quot;bendrucker/builtin-status-code…</td><td>0.00031</td></tr><tr><td>&quot;sigp/lighthouse&quot;</td><td>&quot;dtolnay/quote/quote&quot;</td><td>0.001531</td></tr><tr><td>&quot;ethereumjs/ethereumjs-monorepo&quot;</td><td>&quot;npm/ini/ini&quot;</td><td>0.000925</td></tr><tr><td>&quot;ethereum/remix-project&quot;</td><td>&quot;es-shims/function.prototype.na…</td><td>0.00031</td></tr><tr><td>&quot;grandinetech/grandine&quot;</td><td>&quot;frozenlib/parse-display/parse-…</td><td>0.001555</td></tr><tr><td>&quot;ethereumjs/ethereumjs-monorepo&quot;</td><td>&quot;moment/moment/moment&quot;</td><td>0.000925</td></tr><tr><td>&quot;ethereum/remix-project&quot;</td><td>&quot;alanshaw/it-concat/it-concat&quot;</td><td>0.00031</td></tr><tr><td>&quot;chainsafe/lodestar&quot;</td><td>&quot;syntax-tree/mdast-util-frontma…</td><td>0.000452</td></tr><tr><td>&quot;chainsafe/lodestar&quot;</td><td>&quot;facebook/docusaurus/@docusauru…</td><td>0.000452</td></tr></tbody></table></div>"
      ],
      "text/plain": [
       "shape: (10, 3)\n",
       "┌────────────────────────────────┬─────────────────────────────────┬──────────┐\n",
       "│ repo                           ┆ package_repo                    ┆ weight   │\n",
       "│ ---                            ┆ ---                             ┆ ---      │\n",
       "│ str                            ┆ str                             ┆ f64      │\n",
       "╞════════════════════════════════╪═════════════════════════════════╪══════════╡\n",
       "│ sigp/lighthouse                ┆ rust-lang/futures-rs/futures-i… ┆ 0.001531 │\n",
       "│ ethereum/remix-project         ┆ bendrucker/builtin-status-code… ┆ 0.00031  │\n",
       "│ sigp/lighthouse                ┆ dtolnay/quote/quote             ┆ 0.001531 │\n",
       "│ ethereumjs/ethereumjs-monorepo ┆ npm/ini/ini                     ┆ 0.000925 │\n",
       "│ ethereum/remix-project         ┆ es-shims/function.prototype.na… ┆ 0.00031  │\n",
       "│ grandinetech/grandine          ┆ frozenlib/parse-display/parse-… ┆ 0.001555 │\n",
       "│ ethereumjs/ethereumjs-monorepo ┆ moment/moment/moment            ┆ 0.000925 │\n",
       "│ ethereum/remix-project         ┆ alanshaw/it-concat/it-concat    ┆ 0.00031  │\n",
       "│ chainsafe/lodestar             ┆ syntax-tree/mdast-util-frontma… ┆ 0.000452 │\n",
       "│ chainsafe/lodestar             ┆ facebook/docusaurus/@docusauru… ┆ 0.000452 │\n",
       "└────────────────────────────────┴─────────────────────────────────┴──────────┘"
      ]
     },
     "execution_count": 69,
     "metadata": {},
     "output_type": "execute_result"
    }
   ],
   "source": [
    "df.select(\"repo\", \"package_repo\", \"weight\").sample(10)"
   ]
  },
  {
   "cell_type": "code",
   "execution_count": 70,
   "metadata": {},
   "outputs": [
    {
     "data": {
      "text/html": [
       "<div><style>\n",
       ".dataframe > thead > tr,\n",
       ".dataframe > tbody > tr {\n",
       "  text-align: right;\n",
       "  white-space: pre-wrap;\n",
       "}\n",
       "</style>\n",
       "<small>shape: (18, 2)</small><table border=\"1\" class=\"dataframe\"><thead><tr><th>repo</th><th>weight</th></tr><tr><td>str</td><td>f64</td></tr></thead><tbody><tr><td>&quot;safe-global/safe-smart-account&quot;</td><td>1.0</td></tr><tr><td>&quot;ethereumjs/ethereumjs-monorepo&quot;</td><td>1.0</td></tr><tr><td>&quot;vyperlang/vyper&quot;</td><td>1.0</td></tr><tr><td>&quot;paradigmxyz/reth&quot;</td><td>1.0</td></tr><tr><td>&quot;sigp/lighthouse&quot;</td><td>1.0</td></tr><tr><td>&quot;consensys/teku&quot;</td><td>1.0</td></tr><tr><td>&quot;ethereum/web3.py&quot;</td><td>1.0</td></tr><tr><td>&quot;web3/web3.js&quot;</td><td>1.0</td></tr><tr><td>&quot;chainsafe/lodestar&quot;</td><td>1.0</td></tr><tr><td>&quot;grandinetech/grandine&quot;</td><td>1.0</td></tr><tr><td>&quot;eth-infinitism/account-abstrac…</td><td>1.0</td></tr><tr><td>&quot;ethereum/py-evm&quot;</td><td>1.0</td></tr><tr><td>&quot;ethereum/solidity&quot;</td><td>1.0</td></tr><tr><td>&quot;erigontech/erigon&quot;</td><td>1.0</td></tr><tr><td>&quot;prysmaticlabs/prysm&quot;</td><td>1.0</td></tr><tr><td>&quot;ethereum/remix-project&quot;</td><td>1.0</td></tr><tr><td>&quot;status-im/nimbus-eth2&quot;</td><td>1.0</td></tr><tr><td>&quot;ethereum/go-ethereum&quot;</td><td>1.0</td></tr></tbody></table></div>"
      ],
      "text/plain": [
       "shape: (18, 2)\n",
       "┌─────────────────────────────────┬────────┐\n",
       "│ repo                            ┆ weight │\n",
       "│ ---                             ┆ ---    │\n",
       "│ str                             ┆ f64    │\n",
       "╞═════════════════════════════════╪════════╡\n",
       "│ safe-global/safe-smart-account  ┆ 1.0    │\n",
       "│ ethereumjs/ethereumjs-monorepo  ┆ 1.0    │\n",
       "│ vyperlang/vyper                 ┆ 1.0    │\n",
       "│ paradigmxyz/reth                ┆ 1.0    │\n",
       "│ sigp/lighthouse                 ┆ 1.0    │\n",
       "│ consensys/teku                  ┆ 1.0    │\n",
       "│ ethereum/web3.py                ┆ 1.0    │\n",
       "│ web3/web3.js                    ┆ 1.0    │\n",
       "│ chainsafe/lodestar              ┆ 1.0    │\n",
       "│ grandinetech/grandine           ┆ 1.0    │\n",
       "│ eth-infinitism/account-abstrac… ┆ 1.0    │\n",
       "│ ethereum/py-evm                 ┆ 1.0    │\n",
       "│ ethereum/solidity               ┆ 1.0    │\n",
       "│ erigontech/erigon               ┆ 1.0    │\n",
       "│ prysmaticlabs/prysm             ┆ 1.0    │\n",
       "│ ethereum/remix-project          ┆ 1.0    │\n",
       "│ status-im/nimbus-eth2           ┆ 1.0    │\n",
       "│ ethereum/go-ethereum            ┆ 1.0    │\n",
       "└─────────────────────────────────┴────────┘"
      ]
     },
     "execution_count": 70,
     "metadata": {},
     "output_type": "execute_result"
    }
   ],
   "source": [
    "df.group_by(\"repo\").agg(pl.col(\"weight\").sum())\n"
   ]
  }
 ],
 "metadata": {
  "kernelspec": {
   "display_name": "Python 3",
   "language": "python",
   "name": "python3"
  },
  "language_info": {
   "codemirror_mode": {
    "name": "ipython",
    "version": 3
   },
   "file_extension": ".py",
   "mimetype": "text/x-python",
   "name": "python",
   "nbconvert_exporter": "python",
   "pygments_lexer": "ipython3",
   "version": "3.13.0"
  }
 },
 "nbformat": 4,
 "nbformat_minor": 2
}
