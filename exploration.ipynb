{
 "cells": [
  {
   "cell_type": "markdown",
   "metadata": {},
   "source": [
    "# Exploring the Graph of Dependencies\n",
    "\n",
    "A small exploration of the graph of dependencies to understand the data and the structure of the graph."
   ]
  },
  {
   "cell_type": "markdown",
   "metadata": {},
   "source": [
    "## Data"
   ]
  },
  {
   "cell_type": "code",
   "execution_count": 1,
   "metadata": {},
   "outputs": [],
   "source": [
    "import polars as pl\n",
    "\n",
    "_ = pl.Config.set_tbl_rows(20)\n",
    "_ = pl.Config.set_fmt_str_lengths(100)"
   ]
  },
  {
   "cell_type": "code",
   "execution_count": 4,
   "metadata": {},
   "outputs": [
    {
     "name": "stdout",
     "output_type": "stream",
     "text": [
      "Rows: 9896\n",
      "Columns: 3\n",
      "Unique sources: 18\n",
      "Unique targets: 4289\n"
     ]
    },
    {
     "data": {
      "text/html": [
       "<div><style>\n",
       ".dataframe > thead > tr,\n",
       ".dataframe > tbody > tr {\n",
       "  text-align: right;\n",
       "  white-space: pre-wrap;\n",
       "}\n",
       "</style>\n",
       "<small>shape: (10, 3)</small><table border=\"1\" class=\"dataframe\"><thead><tr><th>relation</th><th>source</th><th>target</th></tr><tr><td>str</td><td>str</td><td>str</td></tr></thead><tbody><tr><td>&quot;NPM&quot;</td><td>&quot;https://github.com/web3/web3.js&quot;</td><td>&quot;https://github.com/naugtur/xhr&quot;</td></tr><tr><td>&quot;NPM&quot;</td><td>&quot;https://github.com/web3/web3.js&quot;</td><td>&quot;https://github.com/metamask/json-rpc-engine&quot;</td></tr><tr><td>&quot;NPM&quot;</td><td>&quot;https://github.com/chainsafe/lodestar&quot;</td><td>&quot;https://github.com/sindresorhus/matcher&quot;</td></tr><tr><td>&quot;NPM&quot;</td><td>&quot;https://github.com/chainsafe/lodestar&quot;</td><td>&quot;https://github.com/mafintosh/generate-object-property&quot;</td></tr><tr><td>&quot;NPM&quot;</td><td>&quot;https://github.com/eth-infinitism/account-abstraction&quot;</td><td>&quot;https://github.com/sindresorhus/os-homedir&quot;</td></tr><tr><td>&quot;NPM&quot;</td><td>&quot;https://github.com/ethereum/remix-project&quot;</td><td>&quot;https://github.com/ljharb/call-bind&quot;</td></tr><tr><td>&quot;NPM&quot;</td><td>&quot;https://github.com/consensys/teku&quot;</td><td>&quot;https://github.com/sindresorhus/locate-path&quot;</td></tr><tr><td>&quot;NPM&quot;</td><td>&quot;https://github.com/ethereum/remix-project&quot;</td><td>&quot;https://github.com/omgovich/colord&quot;</td></tr><tr><td>&quot;NPM&quot;</td><td>&quot;https://github.com/web3/web3.js&quot;</td><td>&quot;https://github.com/remarkablemark/style-to-object&quot;</td></tr><tr><td>&quot;NPM&quot;</td><td>&quot;https://github.com/chainsafe/lodestar&quot;</td><td>&quot;https://github.com/visionmedia/batch&quot;</td></tr></tbody></table></div>"
      ],
      "text/plain": [
       "shape: (10, 3)\n",
       "┌──────────┬───────────────────────────────────────────┬───────────────────────────────────────────┐\n",
       "│ relation ┆ source                                    ┆ target                                    │\n",
       "│ ---      ┆ ---                                       ┆ ---                                       │\n",
       "│ str      ┆ str                                       ┆ str                                       │\n",
       "╞══════════╪═══════════════════════════════════════════╪═══════════════════════════════════════════╡\n",
       "│ NPM      ┆ https://github.com/web3/web3.js           ┆ https://github.com/naugtur/xhr            │\n",
       "│ NPM      ┆ https://github.com/web3/web3.js           ┆ https://github.com/metamask/json-rpc-engi │\n",
       "│          ┆                                           ┆ ne                                        │\n",
       "│ NPM      ┆ https://github.com/chainsafe/lodestar     ┆ https://github.com/sindresorhus/matcher   │\n",
       "│ NPM      ┆ https://github.com/chainsafe/lodestar     ┆ https://github.com/mafintosh/generate-obj │\n",
       "│          ┆                                           ┆ ect-property                              │\n",
       "│ NPM      ┆ https://github.com/eth-infinitism/account ┆ https://github.com/sindresorhus/os-homedi │\n",
       "│          ┆ -abstraction                              ┆ r                                         │\n",
       "│ NPM      ┆ https://github.com/ethereum/remix-project ┆ https://github.com/ljharb/call-bind       │\n",
       "│ NPM      ┆ https://github.com/consensys/teku         ┆ https://github.com/sindresorhus/locate-pa │\n",
       "│          ┆                                           ┆ th                                        │\n",
       "│ NPM      ┆ https://github.com/ethereum/remix-project ┆ https://github.com/omgovich/colord        │\n",
       "│ NPM      ┆ https://github.com/web3/web3.js           ┆ https://github.com/remarkablemark/style-t │\n",
       "│          ┆                                           ┆ o-object                                  │\n",
       "│ NPM      ┆ https://github.com/chainsafe/lodestar     ┆ https://github.com/visionmedia/batch      │\n",
       "└──────────┴───────────────────────────────────────────┴───────────────────────────────────────────┘"
      ]
     },
     "execution_count": 4,
     "metadata": {},
     "output_type": "execute_result"
    }
   ],
   "source": [
    "import json\n",
    "import urllib.request\n",
    "\n",
    "url = \"https://raw.githubusercontent.com/deepfunding/dependency-graph/refs/heads/main/graph/unweighted_graph.json\"\n",
    "with urllib.request.urlopen(url) as response:\n",
    "    graph_data = json.loads(response.read())\n",
    "\n",
    "df = pl.DataFrame(graph_data.get(\"links\"))\n",
    "\n",
    "# Drop the weight column\n",
    "df = df.drop(\"weight\")\n",
    "\n",
    "rows, cols = df.shape\n",
    "print(f\"Rows: {rows}\")\n",
    "print(f\"Columns: {cols}\")\n",
    "\n",
    "# Get unique sources and targets\n",
    "sources = df.get_column(\"source\").unique()\n",
    "targets = df.get_column(\"target\").unique()\n",
    "\n",
    "print(\"Unique sources:\", len(sources))\n",
    "print(\"Unique targets:\", len(targets))\n",
    "\n",
    "df.sample(10)\n"
   ]
  },
  {
   "cell_type": "code",
   "execution_count": 6,
   "metadata": {},
   "outputs": [
    {
     "data": {
      "text/html": [
       "<div><style>\n",
       ".dataframe > thead > tr,\n",
       ".dataframe > tbody > tr {\n",
       "  text-align: right;\n",
       "  white-space: pre-wrap;\n",
       "}\n",
       "</style>\n",
       "<small>shape: (3, 3)</small><table border=\"1\" class=\"dataframe\"><thead><tr><th>relation</th><th>source</th><th>target</th></tr><tr><td>str</td><td>str</td><td>str</td></tr></thead><tbody><tr><td>&quot;PIP&quot;</td><td>&quot;https://github.com/ethereum/solidity&quot;</td><td>&quot;https://github.com/taminomara/sphinx-a4doc&quot;</td></tr><tr><td>&quot;PIP&quot;</td><td>&quot;https://github.com/ethereum/solidity&quot;</td><td>&quot;https://github.com/sphinx-doc/sphinx&quot;</td></tr><tr><td>&quot;PIP&quot;</td><td>&quot;https://github.com/ethereum/solidity&quot;</td><td>&quot;https://github.com/readthedocs/sphinx_rtd_theme&quot;</td></tr></tbody></table></div>"
      ],
      "text/plain": [
       "shape: (3, 3)\n",
       "┌──────────┬──────────────────────────────────────┬────────────────────────────────────────────────┐\n",
       "│ relation ┆ source                               ┆ target                                         │\n",
       "│ ---      ┆ ---                                  ┆ ---                                            │\n",
       "│ str      ┆ str                                  ┆ str                                            │\n",
       "╞══════════╪══════════════════════════════════════╪════════════════════════════════════════════════╡\n",
       "│ PIP      ┆ https://github.com/ethereum/solidity ┆ https://github.com/taminomara/sphinx-a4doc     │\n",
       "│ PIP      ┆ https://github.com/ethereum/solidity ┆ https://github.com/sphinx-doc/sphinx           │\n",
       "│ PIP      ┆ https://github.com/ethereum/solidity ┆ https://github.com/readthedocs/sphinx_rtd_them │\n",
       "│          ┆                                      ┆ e                                              │\n",
       "└──────────┴──────────────────────────────────────┴────────────────────────────────────────────────┘"
      ]
     },
     "execution_count": 6,
     "metadata": {},
     "output_type": "execute_result"
    }
   ],
   "source": [
    "df.filter(pl.col(\"source\") == \"https://github.com/ethereum/solidity\")"
   ]
  },
  {
   "cell_type": "code",
   "execution_count": 8,
   "metadata": {},
   "outputs": [
    {
     "data": {
      "text/html": [
       "<div><style>\n",
       ".dataframe > thead > tr,\n",
       ".dataframe > tbody > tr {\n",
       "  text-align: right;\n",
       "  white-space: pre-wrap;\n",
       "}\n",
       "</style>\n",
       "<small>shape: (4, 2)</small><table border=\"1\" class=\"dataframe\"><thead><tr><th>relation</th><th>len</th></tr><tr><td>str</td><td>u32</td></tr></thead><tbody><tr><td>&quot;RUST&quot;</td><td>1349</td></tr><tr><td>&quot;PIP&quot;</td><td>135</td></tr><tr><td>&quot;NPM&quot;</td><td>7814</td></tr><tr><td>&quot;GO&quot;</td><td>598</td></tr></tbody></table></div>"
      ],
      "text/plain": [
       "shape: (4, 2)\n",
       "┌──────────┬──────┐\n",
       "│ relation ┆ len  │\n",
       "│ ---      ┆ ---  │\n",
       "│ str      ┆ u32  │\n",
       "╞══════════╪══════╡\n",
       "│ RUST     ┆ 1349 │\n",
       "│ PIP      ┆ 135  │\n",
       "│ NPM      ┆ 7814 │\n",
       "│ GO       ┆ 598  │\n",
       "└──────────┴──────┘"
      ]
     },
     "execution_count": 8,
     "metadata": {},
     "output_type": "execute_result"
    }
   ],
   "source": [
    "df.group_by(\"relation\").agg(pl.len()).sort(\"relation\", descending=True)"
   ]
  },
  {
   "cell_type": "code",
   "execution_count": 10,
   "metadata": {},
   "outputs": [
    {
     "data": {
      "text/html": [
       "<div><style>\n",
       ".dataframe > thead > tr,\n",
       ".dataframe > tbody > tr {\n",
       "  text-align: right;\n",
       "  white-space: pre-wrap;\n",
       "}\n",
       "</style>\n",
       "<small>shape: (10, 7)</small><table border=\"1\" class=\"dataframe\"><thead><tr><th>relation</th><th>source</th><th>target</th><th>source_organization</th><th>source_repository</th><th>target_organization</th><th>target_repository</th></tr><tr><td>str</td><td>str</td><td>str</td><td>str</td><td>str</td><td>str</td><td>str</td></tr></thead><tbody><tr><td>&quot;GO&quot;</td><td>&quot;https://github.com/prysmaticlabs/prysm&quot;</td><td>&quot;https://github.com/marten-seemann/tcp&quot;</td><td>&quot;prysmaticlabs&quot;</td><td>&quot;prysm&quot;</td><td>&quot;marten-seemann&quot;</td><td>&quot;tcp&quot;</td></tr><tr><td>&quot;RUST&quot;</td><td>&quot;https://github.com/grandinetech/grandine&quot;</td><td>&quot;https://github.com/strawlab/iana-time-zone&quot;</td><td>&quot;grandinetech&quot;</td><td>&quot;grandine&quot;</td><td>&quot;strawlab&quot;</td><td>&quot;iana-time-zone&quot;</td></tr><tr><td>&quot;NPM&quot;</td><td>&quot;https://github.com/web3/web3.js&quot;</td><td>&quot;https://github.com/grncdr/merge-stream&quot;</td><td>&quot;web3&quot;</td><td>&quot;web3.js&quot;</td><td>&quot;grncdr&quot;</td><td>&quot;merge-stream&quot;</td></tr><tr><td>&quot;NPM&quot;</td><td>&quot;https://github.com/ethereum/remix-project&quot;</td><td>&quot;https://github.com/mafintosh/pumpify&quot;</td><td>&quot;ethereum&quot;</td><td>&quot;remix-project&quot;</td><td>&quot;mafintosh&quot;</td><td>&quot;pumpify&quot;</td></tr><tr><td>&quot;NPM&quot;</td><td>&quot;https://github.com/ethereum/remix-project&quot;</td><td>&quot;https://github.com/maxogden/concat-stream&quot;</td><td>&quot;ethereum&quot;</td><td>&quot;remix-project&quot;</td><td>&quot;maxogden&quot;</td><td>&quot;concat-stream&quot;</td></tr><tr><td>&quot;GO&quot;</td><td>&quot;https://github.com/erigontech/erigon&quot;</td><td>&quot;https://github.com/pion/ice&quot;</td><td>&quot;erigontech&quot;</td><td>&quot;erigon&quot;</td><td>&quot;pion&quot;</td><td>&quot;ice&quot;</td></tr><tr><td>&quot;RUST&quot;</td><td>&quot;https://github.com/paradigmxyz/reth&quot;</td><td>&quot;https://github.com/rust-lang/regex&quot;</td><td>&quot;paradigmxyz&quot;</td><td>&quot;reth&quot;</td><td>&quot;rust-lang&quot;</td><td>&quot;regex&quot;</td></tr><tr><td>&quot;NPM&quot;</td><td>&quot;https://github.com/safe-global/safe-smart-account&quot;</td><td>&quot;https://github.com/mafintosh/mkdirp-classic&quot;</td><td>&quot;safe-global&quot;</td><td>&quot;safe-smart-account&quot;</td><td>&quot;mafintosh&quot;</td><td>&quot;mkdirp-classic&quot;</td></tr><tr><td>&quot;NPM&quot;</td><td>&quot;https://github.com/ethereum/remix-project&quot;</td><td>&quot;https://github.com/ajv-validator/ajv-formats&quot;</td><td>&quot;ethereum&quot;</td><td>&quot;remix-project&quot;</td><td>&quot;ajv-validator&quot;</td><td>&quot;ajv-formats&quot;</td></tr><tr><td>&quot;GO&quot;</td><td>&quot;https://github.com/prysmaticlabs/prysm&quot;</td><td>&quot;https://github.com/pborman/uuid&quot;</td><td>&quot;prysmaticlabs&quot;</td><td>&quot;prysm&quot;</td><td>&quot;pborman&quot;</td><td>&quot;uuid&quot;</td></tr></tbody></table></div>"
      ],
      "text/plain": [
       "shape: (10, 7)\n",
       "┌──────────┬──────────────┬──────────────┬──────────────┬──────────────┬─────────────┬─────────────┐\n",
       "│ relation ┆ source       ┆ target       ┆ source_organ ┆ source_repos ┆ target_orga ┆ target_repo │\n",
       "│ ---      ┆ ---          ┆ ---          ┆ ization      ┆ itory        ┆ nization    ┆ sitory      │\n",
       "│ str      ┆ str          ┆ str          ┆ ---          ┆ ---          ┆ ---         ┆ ---         │\n",
       "│          ┆              ┆              ┆ str          ┆ str          ┆ str         ┆ str         │\n",
       "╞══════════╪══════════════╪══════════════╪══════════════╪══════════════╪═════════════╪═════════════╡\n",
       "│ GO       ┆ https://gith ┆ https://gith ┆ prysmaticlab ┆ prysm        ┆ marten-seem ┆ tcp         │\n",
       "│          ┆ ub.com/prysm ┆ ub.com/marte ┆ s            ┆              ┆ ann         ┆             │\n",
       "│          ┆ aticlabs/pry ┆ n-seemann/tc ┆              ┆              ┆             ┆             │\n",
       "│          ┆ sm           ┆ p            ┆              ┆              ┆             ┆             │\n",
       "│ RUST     ┆ https://gith ┆ https://gith ┆ grandinetech ┆ grandine     ┆ strawlab    ┆ iana-time-z │\n",
       "│          ┆ ub.com/grand ┆ ub.com/straw ┆              ┆              ┆             ┆ one         │\n",
       "│          ┆ inetech/gran ┆ lab/iana-tim ┆              ┆              ┆             ┆             │\n",
       "│          ┆ dine         ┆ e-zone       ┆              ┆              ┆             ┆             │\n",
       "│ NPM      ┆ https://gith ┆ https://gith ┆ web3         ┆ web3.js      ┆ grncdr      ┆ merge-strea │\n",
       "│          ┆ ub.com/web3/ ┆ ub.com/grncd ┆              ┆              ┆             ┆ m           │\n",
       "│          ┆ web3.js      ┆ r/merge-stre ┆              ┆              ┆             ┆             │\n",
       "│          ┆              ┆ am           ┆              ┆              ┆             ┆             │\n",
       "│ NPM      ┆ https://gith ┆ https://gith ┆ ethereum     ┆ remix-projec ┆ mafintosh   ┆ pumpify     │\n",
       "│          ┆ ub.com/ether ┆ ub.com/mafin ┆              ┆ t            ┆             ┆             │\n",
       "│          ┆ eum/remix-pr ┆ tosh/pumpify ┆              ┆              ┆             ┆             │\n",
       "│          ┆ oject        ┆              ┆              ┆              ┆             ┆             │\n",
       "│ NPM      ┆ https://gith ┆ https://gith ┆ ethereum     ┆ remix-projec ┆ maxogden    ┆ concat-stre │\n",
       "│          ┆ ub.com/ether ┆ ub.com/maxog ┆              ┆ t            ┆             ┆ am          │\n",
       "│          ┆ eum/remix-pr ┆ den/concat-s ┆              ┆              ┆             ┆             │\n",
       "│          ┆ oject        ┆ tream        ┆              ┆              ┆             ┆             │\n",
       "│ GO       ┆ https://gith ┆ https://gith ┆ erigontech   ┆ erigon       ┆ pion        ┆ ice         │\n",
       "│          ┆ ub.com/erigo ┆ ub.com/pion/ ┆              ┆              ┆             ┆             │\n",
       "│          ┆ ntech/erigon ┆ ice          ┆              ┆              ┆             ┆             │\n",
       "│ RUST     ┆ https://gith ┆ https://gith ┆ paradigmxyz  ┆ reth         ┆ rust-lang   ┆ regex       │\n",
       "│          ┆ ub.com/parad ┆ ub.com/rust- ┆              ┆              ┆             ┆             │\n",
       "│          ┆ igmxyz/reth  ┆ lang/regex   ┆              ┆              ┆             ┆             │\n",
       "│ NPM      ┆ https://gith ┆ https://gith ┆ safe-global  ┆ safe-smart-a ┆ mafintosh   ┆ mkdirp-clas │\n",
       "│          ┆ ub.com/safe- ┆ ub.com/mafin ┆              ┆ ccount       ┆             ┆ sic         │\n",
       "│          ┆ global/safe- ┆ tosh/mkdirp- ┆              ┆              ┆             ┆             │\n",
       "│          ┆ smart-accoun ┆ classic      ┆              ┆              ┆             ┆             │\n",
       "│          ┆ t            ┆              ┆              ┆              ┆             ┆             │\n",
       "│ NPM      ┆ https://gith ┆ https://gith ┆ ethereum     ┆ remix-projec ┆ ajv-validat ┆ ajv-formats │\n",
       "│          ┆ ub.com/ether ┆ ub.com/ajv-v ┆              ┆ t            ┆ or          ┆             │\n",
       "│          ┆ eum/remix-pr ┆ alidator/ajv ┆              ┆              ┆             ┆             │\n",
       "│          ┆ oject        ┆ -formats     ┆              ┆              ┆             ┆             │\n",
       "│ GO       ┆ https://gith ┆ https://gith ┆ prysmaticlab ┆ prysm        ┆ pborman     ┆ uuid        │\n",
       "│          ┆ ub.com/prysm ┆ ub.com/pborm ┆ s            ┆              ┆             ┆             │\n",
       "│          ┆ aticlabs/pry ┆ an/uuid      ┆              ┆              ┆             ┆             │\n",
       "│          ┆ sm           ┆              ┆              ┆              ┆             ┆             │\n",
       "└──────────┴──────────────┴──────────────┴──────────────┴──────────────┴─────────────┴─────────────┘"
      ]
     },
     "execution_count": 10,
     "metadata": {},
     "output_type": "execute_result"
    }
   ],
   "source": [
    "# Split source and target URLs into organization and repository components\n",
    "df = df.with_columns([\n",
    "    pl.col(\"source\").str.extract(r\"https://github.com/([^/]+)/([^/]+)$\", 1).alias(\"source_organization\"),\n",
    "    pl.col(\"source\").str.extract(r\"https://github.com/([^/]+)/([^/]+)$\", 2).alias(\"source_repository\"),\n",
    "    pl.col(\"target\").str.extract(r\"https://github.com/([^/]+)/([^/]+)$\", 1).alias(\"target_organization\"),\n",
    "    pl.col(\"target\").str.extract(r\"https://github.com/([^/]+)/([^/]+)$\", 2).alias(\"target_repository\")\n",
    "])\n",
    "\n",
    "df.sample(10)"
   ]
  },
  {
   "cell_type": "code",
   "execution_count": 14,
   "metadata": {},
   "outputs": [
    {
     "data": {
      "text/html": [
       "<div><style>\n",
       ".dataframe > thead > tr,\n",
       ".dataframe > tbody > tr {\n",
       "  text-align: right;\n",
       "  white-space: pre-wrap;\n",
       "}\n",
       "</style>\n",
       "<small>shape: (18, 2)</small><table border=\"1\" class=\"dataframe\"><thead><tr><th>source</th><th>target</th></tr><tr><td>str</td><td>u32</td></tr></thead><tbody><tr><td>&quot;https://github.com/ethereum/remix-project&quot;</td><td>2277</td></tr><tr><td>&quot;https://github.com/web3/web3.js&quot;</td><td>1709</td></tr><tr><td>&quot;https://github.com/chainsafe/lodestar&quot;</td><td>1514</td></tr><tr><td>&quot;https://github.com/eth-infinitism/account-abstraction&quot;</td><td>854</td></tr><tr><td>&quot;https://github.com/ethereumjs/ethereumjs-monorepo&quot;</td><td>796</td></tr><tr><td>&quot;https://github.com/safe-global/safe-smart-account&quot;</td><td>519</td></tr><tr><td>&quot;https://github.com/paradigmxyz/reth&quot;</td><td>463</td></tr><tr><td>&quot;https://github.com/sigp/lighthouse&quot;</td><td>451</td></tr><tr><td>&quot;https://github.com/grandinetech/grandine&quot;</td><td>435</td></tr><tr><td>&quot;https://github.com/erigontech/erigon&quot;</td><td>253</td></tr><tr><td>&quot;https://github.com/prysmaticlabs/prysm&quot;</td><td>244</td></tr><tr><td>&quot;https://github.com/consensys/teku&quot;</td><td>137</td></tr><tr><td>&quot;https://github.com/ethereum/go-ethereum&quot;</td><td>112</td></tr><tr><td>&quot;https://github.com/status-im/nimbus-eth2&quot;</td><td>96</td></tr><tr><td>&quot;https://github.com/ethereum/web3.py&quot;</td><td>13</td></tr><tr><td>&quot;https://github.com/ethereum/py-evm&quot;</td><td>11</td></tr><tr><td>&quot;https://github.com/vyperlang/vyper&quot;</td><td>9</td></tr><tr><td>&quot;https://github.com/ethereum/solidity&quot;</td><td>3</td></tr></tbody></table></div>"
      ],
      "text/plain": [
       "shape: (18, 2)\n",
       "┌───────────────────────────────────────────────────────┬────────┐\n",
       "│ source                                                ┆ target │\n",
       "│ ---                                                   ┆ ---    │\n",
       "│ str                                                   ┆ u32    │\n",
       "╞═══════════════════════════════════════════════════════╪════════╡\n",
       "│ https://github.com/ethereum/remix-project             ┆ 2277   │\n",
       "│ https://github.com/web3/web3.js                       ┆ 1709   │\n",
       "│ https://github.com/chainsafe/lodestar                 ┆ 1514   │\n",
       "│ https://github.com/eth-infinitism/account-abstraction ┆ 854    │\n",
       "│ https://github.com/ethereumjs/ethereumjs-monorepo     ┆ 796    │\n",
       "│ https://github.com/safe-global/safe-smart-account     ┆ 519    │\n",
       "│ https://github.com/paradigmxyz/reth                   ┆ 463    │\n",
       "│ https://github.com/sigp/lighthouse                    ┆ 451    │\n",
       "│ https://github.com/grandinetech/grandine              ┆ 435    │\n",
       "│ https://github.com/erigontech/erigon                  ┆ 253    │\n",
       "│ https://github.com/prysmaticlabs/prysm                ┆ 244    │\n",
       "│ https://github.com/consensys/teku                     ┆ 137    │\n",
       "│ https://github.com/ethereum/go-ethereum               ┆ 112    │\n",
       "│ https://github.com/status-im/nimbus-eth2              ┆ 96     │\n",
       "│ https://github.com/ethereum/web3.py                   ┆ 13     │\n",
       "│ https://github.com/ethereum/py-evm                    ┆ 11     │\n",
       "│ https://github.com/vyperlang/vyper                    ┆ 9      │\n",
       "│ https://github.com/ethereum/solidity                  ┆ 3      │\n",
       "└───────────────────────────────────────────────────────┴────────┘"
      ]
     },
     "execution_count": 14,
     "metadata": {},
     "output_type": "execute_result"
    }
   ],
   "source": [
    "df.group_by(\"source\").agg(pl.col(\"target\").n_unique()).sort(\"target\", descending=True)"
   ]
  },
  {
   "cell_type": "code",
   "execution_count": 16,
   "metadata": {},
   "outputs": [
    {
     "data": {
      "text/html": [
       "<div><style>\n",
       ".dataframe > thead > tr,\n",
       ".dataframe > tbody > tr {\n",
       "  text-align: right;\n",
       "  white-space: pre-wrap;\n",
       "}\n",
       "</style>\n",
       "<small>shape: (10, 2)</small><table border=\"1\" class=\"dataframe\"><thead><tr><th>target</th><th>source</th></tr><tr><td>str</td><td>u32</td></tr></thead><tbody><tr><td>&quot;https://github.com/sindresorhus/type-fest&quot;</td><td>7</td></tr><tr><td>&quot;https://github.com/garycourt/uri-js&quot;</td><td>7</td></tr><tr><td>&quot;https://github.com/isaacs/isexe&quot;</td><td>7</td></tr><tr><td>&quot;https://github.com/sindresorhus/path-is-absolute&quot;</td><td>7</td></tr><tr><td>&quot;https://github.com/sindresorhus/path-key&quot;</td><td>7</td></tr><tr><td>&quot;https://github.com/sindresorhus/parent-module&quot;</td><td>7</td></tr><tr><td>&quot;https://github.com/sindresorhus/string-width&quot;</td><td>7</td></tr><tr><td>&quot;https://github.com/estools/esrecurse&quot;</td><td>7</td></tr><tr><td>&quot;https://github.com/mathiasbynens/emoji-regex&quot;</td><td>7</td></tr><tr><td>&quot;https://github.com/sindresorhus/array-union&quot;</td><td>7</td></tr></tbody></table></div>"
      ],
      "text/plain": [
       "shape: (10, 2)\n",
       "┌──────────────────────────────────────────────────┬────────┐\n",
       "│ target                                           ┆ source │\n",
       "│ ---                                              ┆ ---    │\n",
       "│ str                                              ┆ u32    │\n",
       "╞══════════════════════════════════════════════════╪════════╡\n",
       "│ https://github.com/sindresorhus/type-fest        ┆ 7      │\n",
       "│ https://github.com/garycourt/uri-js              ┆ 7      │\n",
       "│ https://github.com/isaacs/isexe                  ┆ 7      │\n",
       "│ https://github.com/sindresorhus/path-is-absolute ┆ 7      │\n",
       "│ https://github.com/sindresorhus/path-key         ┆ 7      │\n",
       "│ https://github.com/sindresorhus/parent-module    ┆ 7      │\n",
       "│ https://github.com/sindresorhus/string-width     ┆ 7      │\n",
       "│ https://github.com/estools/esrecurse             ┆ 7      │\n",
       "│ https://github.com/mathiasbynens/emoji-regex     ┆ 7      │\n",
       "│ https://github.com/sindresorhus/array-union      ┆ 7      │\n",
       "└──────────────────────────────────────────────────┴────────┘"
      ]
     },
     "execution_count": 16,
     "metadata": {},
     "output_type": "execute_result"
    }
   ],
   "source": [
    "df.group_by(\"target\").agg(pl.col(\"source\").n_unique()).sort(\"source\", descending=True).head(10)"
   ]
  },
  {
   "cell_type": "code",
   "execution_count": 19,
   "metadata": {},
   "outputs": [
    {
     "data": {
      "text/html": [
       "<div><style>\n",
       ".dataframe > thead > tr,\n",
       ".dataframe > tbody > tr {\n",
       "  text-align: right;\n",
       "  white-space: pre-wrap;\n",
       "}\n",
       "</style>\n",
       "<small>shape: (10, 2)</small><table border=\"1\" class=\"dataframe\"><thead><tr><th>target_organization</th><th>target_repository</th></tr><tr><td>str</td><td>u32</td></tr></thead><tbody><tr><td>&quot;sindresorhus&quot;</td><td>253</td></tr><tr><td>&quot;jonschlinkert&quot;</td><td>104</td></tr><tr><td>&quot;npm&quot;</td><td>82</td></tr><tr><td>&quot;inspect-js&quot;</td><td>49</td></tr><tr><td>&quot;syntax-tree&quot;</td><td>46</td></tr><tr><td>&quot;isaacs&quot;</td><td>44</td></tr><tr><td>&quot;ljharb&quot;</td><td>43</td></tr><tr><td>&quot;gulpjs&quot;</td><td>42</td></tr><tr><td>&quot;wooorm&quot;</td><td>34</td></tr><tr><td>&quot;d3&quot;</td><td>32</td></tr></tbody></table></div>"
      ],
      "text/plain": [
       "shape: (10, 2)\n",
       "┌─────────────────────┬───────────────────┐\n",
       "│ target_organization ┆ target_repository │\n",
       "│ ---                 ┆ ---               │\n",
       "│ str                 ┆ u32               │\n",
       "╞═════════════════════╪═══════════════════╡\n",
       "│ sindresorhus        ┆ 253               │\n",
       "│ jonschlinkert       ┆ 104               │\n",
       "│ npm                 ┆ 82                │\n",
       "│ inspect-js          ┆ 49                │\n",
       "│ syntax-tree         ┆ 46                │\n",
       "│ isaacs              ┆ 44                │\n",
       "│ ljharb              ┆ 43                │\n",
       "│ gulpjs              ┆ 42                │\n",
       "│ wooorm              ┆ 34                │\n",
       "│ d3                  ┆ 32                │\n",
       "└─────────────────────┴───────────────────┘"
      ]
     },
     "execution_count": 19,
     "metadata": {},
     "output_type": "execute_result"
    }
   ],
   "source": [
    "df.group_by(\"target_organization\").agg(pl.col(\"target_repository\").n_unique()).sort(\"target_repository\", descending=True).head(10)"
   ]
  },
  {
   "cell_type": "markdown",
   "metadata": {},
   "source": [
    "## Baseline Model\n",
    "\n",
    "Let's work on a model that assigns the same weight to all dependencies. Source (`repo`) weights should sum to 1."
   ]
  },
  {
   "cell_type": "code",
   "execution_count": 20,
   "metadata": {},
   "outputs": [],
   "source": [
    "df = df.with_columns(\n",
    "    (1 / pl.col(\"target\").n_unique().over(\"source\")).alias(\"weight\")\n",
    ")"
   ]
  },
  {
   "cell_type": "code",
   "execution_count": 21,
   "metadata": {},
   "outputs": [
    {
     "data": {
      "text/html": [
       "<div><style>\n",
       ".dataframe > thead > tr,\n",
       ".dataframe > tbody > tr {\n",
       "  text-align: right;\n",
       "  white-space: pre-wrap;\n",
       "}\n",
       "</style>\n",
       "<small>shape: (10, 3)</small><table border=\"1\" class=\"dataframe\"><thead><tr><th>source</th><th>target</th><th>weight</th></tr><tr><td>str</td><td>str</td><td>f64</td></tr></thead><tbody><tr><td>&quot;https://github.com/web3/web3.js&quot;</td><td>&quot;https://github.com/sindresorhus/read-pkg&quot;</td><td>0.000585</td></tr><tr><td>&quot;https://github.com/ethereum/remix-project&quot;</td><td>&quot;https://github.com/jquery/esprima&quot;</td><td>0.000439</td></tr><tr><td>&quot;https://github.com/prysmaticlabs/prysm&quot;</td><td>&quot;https://github.com/go-playground/universal-translator&quot;</td><td>0.004098</td></tr><tr><td>&quot;https://github.com/safe-global/safe-smart-account&quot;</td><td>&quot;https://github.com/ndjson/ndjson.js&quot;</td><td>0.001927</td></tr><tr><td>&quot;https://github.com/eth-infinitism/account-abstraction&quot;</td><td>&quot;https://github.com/sindresorhus/os-locale&quot;</td><td>0.001171</td></tr><tr><td>&quot;https://github.com/safe-global/safe-smart-account&quot;</td><td>&quot;https://github.com/jonschlinkert/kind-of&quot;</td><td>0.001927</td></tr><tr><td>&quot;https://github.com/chainsafe/lodestar&quot;</td><td>&quot;https://github.com/jshttp/forwarded&quot;</td><td>0.000661</td></tr><tr><td>&quot;https://github.com/ethereumjs/ethereumjs-monorepo&quot;</td><td>&quot;https://github.com/mafintosh/why-is-node-running&quot;</td><td>0.001256</td></tr><tr><td>&quot;https://github.com/web3/web3.js&quot;</td><td>&quot;https://github.com/euank/node-parse-numeric-range&quot;</td><td>0.000585</td></tr><tr><td>&quot;https://github.com/ethereum/remix-project&quot;</td><td>&quot;https://github.com/jonschlinkert/unset-value&quot;</td><td>0.000439</td></tr></tbody></table></div>"
      ],
      "text/plain": [
       "shape: (10, 3)\n",
       "┌───────────────────────────────────────────┬───────────────────────────────────────────┬──────────┐\n",
       "│ source                                    ┆ target                                    ┆ weight   │\n",
       "│ ---                                       ┆ ---                                       ┆ ---      │\n",
       "│ str                                       ┆ str                                       ┆ f64      │\n",
       "╞═══════════════════════════════════════════╪═══════════════════════════════════════════╪══════════╡\n",
       "│ https://github.com/web3/web3.js           ┆ https://github.com/sindresorhus/read-pkg  ┆ 0.000585 │\n",
       "│ https://github.com/ethereum/remix-project ┆ https://github.com/jquery/esprima         ┆ 0.000439 │\n",
       "│ https://github.com/prysmaticlabs/prysm    ┆ https://github.com/go-playground/universa ┆ 0.004098 │\n",
       "│                                           ┆ l-translator                              ┆          │\n",
       "│ https://github.com/safe-global/safe-smart ┆ https://github.com/ndjson/ndjson.js       ┆ 0.001927 │\n",
       "│ -account                                  ┆                                           ┆          │\n",
       "│ https://github.com/eth-infinitism/account ┆ https://github.com/sindresorhus/os-locale ┆ 0.001171 │\n",
       "│ -abstraction                              ┆                                           ┆          │\n",
       "│ https://github.com/safe-global/safe-smart ┆ https://github.com/jonschlinkert/kind-of  ┆ 0.001927 │\n",
       "│ -account                                  ┆                                           ┆          │\n",
       "│ https://github.com/chainsafe/lodestar     ┆ https://github.com/jshttp/forwarded       ┆ 0.000661 │\n",
       "│ https://github.com/ethereumjs/ethereumjs- ┆ https://github.com/mafintosh/why-is-node- ┆ 0.001256 │\n",
       "│ monorepo                                  ┆ running                                   ┆          │\n",
       "│ https://github.com/web3/web3.js           ┆ https://github.com/euank/node-parse-numer ┆ 0.000585 │\n",
       "│                                           ┆ ic-range                                  ┆          │\n",
       "│ https://github.com/ethereum/remix-project ┆ https://github.com/jonschlinkert/unset-va ┆ 0.000439 │\n",
       "│                                           ┆ lue                                       ┆          │\n",
       "└───────────────────────────────────────────┴───────────────────────────────────────────┴──────────┘"
      ]
     },
     "execution_count": 21,
     "metadata": {},
     "output_type": "execute_result"
    }
   ],
   "source": [
    "df.select(\"source\", \"target\", \"weight\").sample(10)"
   ]
  },
  {
   "cell_type": "code",
   "execution_count": 22,
   "metadata": {},
   "outputs": [
    {
     "data": {
      "text/html": [
       "<div><style>\n",
       ".dataframe > thead > tr,\n",
       ".dataframe > tbody > tr {\n",
       "  text-align: right;\n",
       "  white-space: pre-wrap;\n",
       "}\n",
       "</style>\n",
       "<small>shape: (18, 2)</small><table border=\"1\" class=\"dataframe\"><thead><tr><th>source</th><th>weight</th></tr><tr><td>str</td><td>f64</td></tr></thead><tbody><tr><td>&quot;https://github.com/sigp/lighthouse&quot;</td><td>1.0</td></tr><tr><td>&quot;https://github.com/ethereum/remix-project&quot;</td><td>1.0</td></tr><tr><td>&quot;https://github.com/ethereum/web3.py&quot;</td><td>1.0</td></tr><tr><td>&quot;https://github.com/eth-infinitism/account-abstraction&quot;</td><td>1.0</td></tr><tr><td>&quot;https://github.com/erigontech/erigon&quot;</td><td>1.0</td></tr><tr><td>&quot;https://github.com/consensys/teku&quot;</td><td>1.0</td></tr><tr><td>&quot;https://github.com/ethereumjs/ethereumjs-monorepo&quot;</td><td>1.0</td></tr><tr><td>&quot;https://github.com/ethereum/py-evm&quot;</td><td>1.0</td></tr><tr><td>&quot;https://github.com/ethereum/go-ethereum&quot;</td><td>1.0</td></tr><tr><td>&quot;https://github.com/chainsafe/lodestar&quot;</td><td>1.0</td></tr><tr><td>&quot;https://github.com/safe-global/safe-smart-account&quot;</td><td>1.0</td></tr><tr><td>&quot;https://github.com/paradigmxyz/reth&quot;</td><td>1.0</td></tr><tr><td>&quot;https://github.com/status-im/nimbus-eth2&quot;</td><td>1.0</td></tr><tr><td>&quot;https://github.com/vyperlang/vyper&quot;</td><td>1.0</td></tr><tr><td>&quot;https://github.com/web3/web3.js&quot;</td><td>1.0</td></tr><tr><td>&quot;https://github.com/ethereum/solidity&quot;</td><td>1.0</td></tr><tr><td>&quot;https://github.com/prysmaticlabs/prysm&quot;</td><td>1.0</td></tr><tr><td>&quot;https://github.com/grandinetech/grandine&quot;</td><td>1.0</td></tr></tbody></table></div>"
      ],
      "text/plain": [
       "shape: (18, 2)\n",
       "┌───────────────────────────────────────────────────────┬────────┐\n",
       "│ source                                                ┆ weight │\n",
       "│ ---                                                   ┆ ---    │\n",
       "│ str                                                   ┆ f64    │\n",
       "╞═══════════════════════════════════════════════════════╪════════╡\n",
       "│ https://github.com/sigp/lighthouse                    ┆ 1.0    │\n",
       "│ https://github.com/ethereum/remix-project             ┆ 1.0    │\n",
       "│ https://github.com/ethereum/web3.py                   ┆ 1.0    │\n",
       "│ https://github.com/eth-infinitism/account-abstraction ┆ 1.0    │\n",
       "│ https://github.com/erigontech/erigon                  ┆ 1.0    │\n",
       "│ https://github.com/consensys/teku                     ┆ 1.0    │\n",
       "│ https://github.com/ethereumjs/ethereumjs-monorepo     ┆ 1.0    │\n",
       "│ https://github.com/ethereum/py-evm                    ┆ 1.0    │\n",
       "│ https://github.com/ethereum/go-ethereum               ┆ 1.0    │\n",
       "│ https://github.com/chainsafe/lodestar                 ┆ 1.0    │\n",
       "│ https://github.com/safe-global/safe-smart-account     ┆ 1.0    │\n",
       "│ https://github.com/paradigmxyz/reth                   ┆ 1.0    │\n",
       "│ https://github.com/status-im/nimbus-eth2              ┆ 1.0    │\n",
       "│ https://github.com/vyperlang/vyper                    ┆ 1.0    │\n",
       "│ https://github.com/web3/web3.js                       ┆ 1.0    │\n",
       "│ https://github.com/ethereum/solidity                  ┆ 1.0    │\n",
       "│ https://github.com/prysmaticlabs/prysm                ┆ 1.0    │\n",
       "│ https://github.com/grandinetech/grandine              ┆ 1.0    │\n",
       "└───────────────────────────────────────────────────────┴────────┘"
      ]
     },
     "execution_count": 22,
     "metadata": {},
     "output_type": "execute_result"
    }
   ],
   "source": [
    "df.group_by(\"source\").agg(pl.col(\"weight\").sum())"
   ]
  },
  {
   "cell_type": "markdown",
   "metadata": {},
   "source": [
    "## Heuristic Model\n",
    "\n",
    "Now, lets assign weights based on external data. In this case, we will use the number of stars on GitHub for each package. Data can be obtained from GitHub API, [GitHub Archive](https://www.gharchive.org/), or, my prefered way, using [Open Source Observer public datasets on BigQuery](https://www.opensource.observer/)."
   ]
  },
  {
   "cell_type": "code",
   "execution_count": 23,
   "metadata": {},
   "outputs": [],
   "source": [
    "import polars as pl\n",
    "from google.cloud import bigquery\n",
    "\n",
    "client = bigquery.Client()"
   ]
  },
  {
   "cell_type": "code",
   "execution_count": 38,
   "metadata": {},
   "outputs": [],
   "source": [
    "package_list_string = df.select(pl.col(\"target\")).to_series().str.join(\"', '\")"
   ]
  },
  {
   "cell_type": "code",
   "execution_count": 59,
   "metadata": {},
   "outputs": [
    {
     "name": "stdout",
     "output_type": "stream",
     "text": [
      "Rows: 1439\n"
     ]
    },
    {
     "data": {
      "text/html": [
       "<div><style>\n",
       ".dataframe > thead > tr,\n",
       ".dataframe > tbody > tr {\n",
       "  text-align: right;\n",
       "  white-space: pre-wrap;\n",
       "}\n",
       "</style>\n",
       "<small>shape: (5, 6)</small><table border=\"1\" class=\"dataframe\"><thead><tr><th>target</th><th>is_fork</th><th>star_count</th><th>fork_count</th><th>created_at</th><th>updated_at</th></tr><tr><td>str</td><td>bool</td><td>i64</td><td>i64</td><td>datetime[μs, UTC]</td><td>datetime[μs, UTC]</td></tr></thead><tbody><tr><td>&quot;https://github.com/npm/agent&quot;</td><td>false</td><td>7</td><td>5</td><td>2022-06-30 17:47:07 UTC</td><td>2024-09-06 23:49:51 UTC</td></tr><tr><td>&quot;https://github.com/npm/security-holder&quot;</td><td>false</td><td>157</td><td>58</td><td>2016-03-23 00:22:33 UTC</td><td>2024-12-11 17:50:51 UTC</td></tr><tr><td>&quot;https://github.com/jsdom/domexception&quot;</td><td>false</td><td>21</td><td>8</td><td>2017-08-14 03:04:01 UTC</td><td>2024-05-11 21:05:28 UTC</td></tr><tr><td>&quot;https://github.com/jsdom/abab&quot;</td><td>false</td><td>93</td><td>19</td><td>2015-08-29 03:21:16 UTC</td><td>2024-05-17 16:43:47 UTC</td></tr><tr><td>&quot;https://github.com/herumi/mcl-wasm&quot;</td><td>false</td><td>59</td><td>18</td><td>2017-11-20 06:46:44 UTC</td><td>2024-09-18 03:05:14 UTC</td></tr></tbody></table></div>"
      ],
      "text/plain": [
       "shape: (5, 6)\n",
       "┌────────────────────┬─────────┬────────────┬────────────┬────────────────────┬────────────────────┐\n",
       "│ target             ┆ is_fork ┆ star_count ┆ fork_count ┆ created_at         ┆ updated_at         │\n",
       "│ ---                ┆ ---     ┆ ---        ┆ ---        ┆ ---                ┆ ---                │\n",
       "│ str                ┆ bool    ┆ i64        ┆ i64        ┆ datetime[μs, UTC]  ┆ datetime[μs, UTC]  │\n",
       "╞════════════════════╪═════════╪════════════╪════════════╪════════════════════╪════════════════════╡\n",
       "│ https://github.com ┆ false   ┆ 7          ┆ 5          ┆ 2022-06-30         ┆ 2024-09-06         │\n",
       "│ /npm/agent         ┆         ┆            ┆            ┆ 17:47:07 UTC       ┆ 23:49:51 UTC       │\n",
       "│ https://github.com ┆ false   ┆ 157        ┆ 58         ┆ 2016-03-23         ┆ 2024-12-11         │\n",
       "│ /npm/security-hold ┆         ┆            ┆            ┆ 00:22:33 UTC       ┆ 17:50:51 UTC       │\n",
       "│ er                 ┆         ┆            ┆            ┆                    ┆                    │\n",
       "│ https://github.com ┆ false   ┆ 21         ┆ 8          ┆ 2017-08-14         ┆ 2024-05-11         │\n",
       "│ /jsdom/domexceptio ┆         ┆            ┆            ┆ 03:04:01 UTC       ┆ 21:05:28 UTC       │\n",
       "│ n                  ┆         ┆            ┆            ┆                    ┆                    │\n",
       "│ https://github.com ┆ false   ┆ 93         ┆ 19         ┆ 2015-08-29         ┆ 2024-05-17         │\n",
       "│ /jsdom/abab        ┆         ┆            ┆            ┆ 03:21:16 UTC       ┆ 16:43:47 UTC       │\n",
       "│ https://github.com ┆ false   ┆ 59         ┆ 18         ┆ 2017-11-20         ┆ 2024-09-18         │\n",
       "│ /herumi/mcl-wasm   ┆         ┆            ┆            ┆ 06:46:44 UTC       ┆ 03:05:14 UTC       │\n",
       "└────────────────────┴─────────┴────────────┴────────────┴────────────────────┴────────────────────┘"
      ]
     },
     "execution_count": 59,
     "metadata": {},
     "output_type": "execute_result"
    }
   ],
   "source": [
    "QUERY = f\"\"\"\n",
    "select\n",
    "  artifact_url as target,\n",
    "  is_fork,\n",
    "  star_count,\n",
    "  fork_count,\n",
    "  created_at,\n",
    "  updated_at\n",
    "from `opensource-observer.oso.repositories_v0`\n",
    "where artifact_url in ('{package_list_string[0]}')\n",
    "\"\"\"\n",
    "\n",
    "query_job = client.query(QUERY)\n",
    "rows = query_job.result()\n",
    "\n",
    "oso_df = pl.from_arrow(rows.to_arrow())\n",
    "\n",
    "print(f\"Rows: {oso_df.shape[0]}\")\n",
    "\n",
    "oso_df.head()"
   ]
  },
  {
   "cell_type": "code",
   "execution_count": 57,
   "metadata": {},
   "outputs": [
    {
     "name": "stdout",
     "output_type": "stream",
     "text": [
      "Number of missing targets: 2850\n",
      "Number of targets in df: 4289\n",
      "Number of targets in oso_df: 1439\n",
      "Percentage of missing targets: 66.45%\n"
     ]
    },
    {
     "data": {
      "text/html": [
       "<div><style>\n",
       ".dataframe > thead > tr,\n",
       ".dataframe > tbody > tr {\n",
       "  text-align: right;\n",
       "  white-space: pre-wrap;\n",
       "}\n",
       "</style>\n",
       "<small>shape: (10,)</small><table border=\"1\" class=\"dataframe\"><thead><tr><th>target</th></tr><tr><td>str</td></tr></thead><tbody><tr><td>&quot;https://github.com/testing-library/dom-testing-library&quot;</td></tr><tr><td>&quot;https://github.com/octokit/endpoint.js&quot;</td></tr><tr><td>&quot;https://github.com/consensys/gnark-crypto&quot;</td></tr><tr><td>&quot;https://github.com/mafintosh/protocol-buffers-schema&quot;</td></tr><tr><td>&quot;https://github.com/nstepien/iltorb&quot;</td></tr><tr><td>&quot;https://github.com/jupyter/nbconvert&quot;</td></tr><tr><td>&quot;https://github.com/samthor/fast-text-encoding&quot;</td></tr><tr><td>&quot;https://github.com/mr-tron/base58&quot;</td></tr><tr><td>&quot;https://github.com/reem/rust-void&quot;</td></tr><tr><td>&quot;https://github.com/mikeal/watch&quot;</td></tr></tbody></table></div>"
      ],
      "text/plain": [
       "shape: (10,)\n",
       "Series: 'target' [str]\n",
       "[\n",
       "\t\"https://github.com/testing-library/dom-testing-library\"\n",
       "\t\"https://github.com/octokit/endpoint.js\"\n",
       "\t\"https://github.com/consensys/gnark-crypto\"\n",
       "\t\"https://github.com/mafintosh/protocol-buffers-schema\"\n",
       "\t\"https://github.com/nstepien/iltorb\"\n",
       "\t\"https://github.com/jupyter/nbconvert\"\n",
       "\t\"https://github.com/samthor/fast-text-encoding\"\n",
       "\t\"https://github.com/mr-tron/base58\"\n",
       "\t\"https://github.com/reem/rust-void\"\n",
       "\t\"https://github.com/mikeal/watch\"\n",
       "]"
      ]
     },
     "execution_count": 57,
     "metadata": {},
     "output_type": "execute_result"
    }
   ],
   "source": [
    "# Find targets in df that are not in oso_df\n",
    "missing_targets = df.filter(~df[\"target\"].is_in(oso_df[\"target\"]))[\"target\"].unique()\n",
    "print(f\"Number of missing targets: {len(missing_targets)}\")\n",
    "print(f\"Number of targets in df: {len(df['target'].unique())}\")\n",
    "print(f\"Number of targets in oso_df: {len(oso_df['target'].unique())}\")\n",
    "print(f\"Percentage of missing targets: {(len(missing_targets) / len(df['target'].unique())) * 100:.2f}%\")\n",
    "\n",
    "missing_targets.sample(10)\n"
   ]
  }
 ],
 "metadata": {
  "kernelspec": {
   "display_name": "Python 3",
   "language": "python",
   "name": "python3"
  },
  "language_info": {
   "codemirror_mode": {
    "name": "ipython",
    "version": 3
   },
   "file_extension": ".py",
   "mimetype": "text/x-python",
   "name": "python",
   "nbconvert_exporter": "python",
   "pygments_lexer": "ipython3",
   "version": "3.13.0"
  }
 },
 "nbformat": 4,
 "nbformat_minor": 2
}
