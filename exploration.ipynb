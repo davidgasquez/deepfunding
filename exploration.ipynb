{
 "cells": [
  {
   "cell_type": "markdown",
   "metadata": {},
   "source": [
    "# Exploring the Graph of Dependencies\n",
    "\n",
    "A small exploration of the graph of dependencies to understand the data and the structure of the graph."
   ]
  },
  {
   "cell_type": "markdown",
   "metadata": {},
   "source": [
    "## Data"
   ]
  },
  {
   "cell_type": "code",
   "execution_count": 1,
   "metadata": {},
   "outputs": [],
   "source": [
    "import json\n",
    "import urllib.request\n",
    "\n",
    "url = \"https://raw.githubusercontent.com/deepfunding/dependency-graph/refs/heads/main/graph/unweighted_graph.json\"\n",
    "with urllib.request.urlopen(url) as response:\n",
    "    graph_data = json.loads(response.read())\n"
   ]
  },
  {
   "cell_type": "code",
   "execution_count": 2,
   "metadata": {},
   "outputs": [
    {
     "data": {
      "text/html": [
       "<div><style>\n",
       ".dataframe > thead > tr,\n",
       ".dataframe > tbody > tr {\n",
       "  text-align: right;\n",
       "  white-space: pre-wrap;\n",
       "}\n",
       "</style>\n",
       "<small>shape: (10, 6)</small><table border=\"1\" class=\"dataframe\"><thead><tr><th>seed_repo_owner</th><th>seed_repo_name</th><th>package_name</th><th>package_repo_owner</th><th>package_repo_name</th><th>package_source</th></tr><tr><td>str</td><td>str</td><td>str</td><td>str</td><td>str</td><td>str</td></tr></thead><tbody><tr><td>&quot;ethereum&quot;</td><td>&quot;remix-project&quot;</td><td>&quot;duplexer&quot;</td><td>&quot;raynos&quot;</td><td>&quot;duplexer&quot;</td><td>&quot;NPM&quot;</td></tr><tr><td>&quot;sigp&quot;</td><td>&quot;lighthouse&quot;</td><td>&quot;serde&quot;</td><td>&quot;serde-rs&quot;</td><td>&quot;serde&quot;</td><td>&quot;RUST&quot;</td></tr><tr><td>&quot;erigontech&quot;</td><td>&quot;erigon&quot;</td><td>&quot;github.com/maticnetwork/crand&quot;</td><td>&quot;maticnetwork&quot;</td><td>&quot;crand&quot;</td><td>&quot;GO&quot;</td></tr><tr><td>&quot;web3&quot;</td><td>&quot;web3.js&quot;</td><td>&quot;mz&quot;</td><td>&quot;normalize&quot;</td><td>&quot;mz&quot;</td><td>&quot;NPM&quot;</td></tr><tr><td>&quot;safe-global&quot;</td><td>&quot;safe-smart-account&quot;</td><td>&quot;ignore&quot;</td><td>&quot;kaelzhang&quot;</td><td>&quot;node-ignore&quot;</td><td>&quot;NPM&quot;</td></tr><tr><td>&quot;ethereum&quot;</td><td>&quot;remix-project&quot;</td><td>&quot;run-parallel-limit&quot;</td><td>&quot;feross&quot;</td><td>&quot;run-parallel-limit&quot;</td><td>&quot;NPM&quot;</td></tr><tr><td>&quot;eth-infinitism&quot;</td><td>&quot;account-abstraction&quot;</td><td>&quot;available-typed-arrays&quot;</td><td>&quot;inspect-js&quot;</td><td>&quot;available-typed-arrays&quot;</td><td>&quot;NPM&quot;</td></tr><tr><td>&quot;ethereumjs&quot;</td><td>&quot;ethereumjs-monorepo&quot;</td><td>&quot;nanoid&quot;</td><td>&quot;ai&quot;</td><td>&quot;nanoid&quot;</td><td>&quot;NPM&quot;</td></tr><tr><td>&quot;erigontech&quot;</td><td>&quot;erigon&quot;</td><td>&quot;github.com/go-llsqlite/crawsha…</td><td>&quot;go-llsqlite&quot;</td><td>&quot;crawshaw&quot;</td><td>&quot;GO&quot;</td></tr><tr><td>&quot;eth-infinitism&quot;</td><td>&quot;account-abstraction&quot;</td><td>&quot;http-errors&quot;</td><td>&quot;jshttp&quot;</td><td>&quot;http-errors&quot;</td><td>&quot;NPM&quot;</td></tr></tbody></table></div>"
      ],
      "text/plain": [
       "shape: (10, 6)\n",
       "┌────────────────┬────────────────┬────────────────┬───────────────┬───────────────┬───────────────┐\n",
       "│ seed_repo_owne ┆ seed_repo_name ┆ package_name   ┆ package_repo_ ┆ package_repo_ ┆ package_sourc │\n",
       "│ r              ┆ ---            ┆ ---            ┆ owner         ┆ name          ┆ e             │\n",
       "│ ---            ┆ str            ┆ str            ┆ ---           ┆ ---           ┆ ---           │\n",
       "│ str            ┆                ┆                ┆ str           ┆ str           ┆ str           │\n",
       "╞════════════════╪════════════════╪════════════════╪═══════════════╪═══════════════╪═══════════════╡\n",
       "│ ethereum       ┆ remix-project  ┆ duplexer       ┆ raynos        ┆ duplexer      ┆ NPM           │\n",
       "│ sigp           ┆ lighthouse     ┆ serde          ┆ serde-rs      ┆ serde         ┆ RUST          │\n",
       "│ erigontech     ┆ erigon         ┆ github.com/mat ┆ maticnetwork  ┆ crand         ┆ GO            │\n",
       "│                ┆                ┆ icnetwork/cran ┆               ┆               ┆               │\n",
       "│                ┆                ┆ d              ┆               ┆               ┆               │\n",
       "│ web3           ┆ web3.js        ┆ mz             ┆ normalize     ┆ mz            ┆ NPM           │\n",
       "│ safe-global    ┆ safe-smart-acc ┆ ignore         ┆ kaelzhang     ┆ node-ignore   ┆ NPM           │\n",
       "│                ┆ ount           ┆                ┆               ┆               ┆               │\n",
       "│ ethereum       ┆ remix-project  ┆ run-parallel-l ┆ feross        ┆ run-parallel- ┆ NPM           │\n",
       "│                ┆                ┆ imit           ┆               ┆ limit         ┆               │\n",
       "│ eth-infinitism ┆ account-abstra ┆ available-type ┆ inspect-js    ┆ available-typ ┆ NPM           │\n",
       "│                ┆ ction          ┆ d-arrays       ┆               ┆ ed-arrays     ┆               │\n",
       "│ ethereumjs     ┆ ethereumjs-mon ┆ nanoid         ┆ ai            ┆ nanoid        ┆ NPM           │\n",
       "│                ┆ orepo          ┆                ┆               ┆               ┆               │\n",
       "│ erigontech     ┆ erigon         ┆ github.com/go- ┆ go-llsqlite   ┆ crawshaw      ┆ GO            │\n",
       "│                ┆                ┆ llsqlite/craws ┆               ┆               ┆               │\n",
       "│                ┆                ┆ ha…            ┆               ┆               ┆               │\n",
       "│ eth-infinitism ┆ account-abstra ┆ http-errors    ┆ jshttp        ┆ http-errors   ┆ NPM           │\n",
       "│                ┆ ction          ┆                ┆               ┆               ┆               │\n",
       "└────────────────┴────────────────┴────────────────┴───────────────┴───────────────┴───────────────┘"
      ]
     },
     "execution_count": 2,
     "metadata": {},
     "output_type": "execute_result"
    }
   ],
   "source": [
    "import polars as pl\n",
    "\n",
    "pl.Config.set_tbl_rows(20)\n",
    "\n",
    "df = pl.read_csv('https://raw.githubusercontent.com/deepfunding/dependency-graph/refs/heads/main/graph/unweighted_graph.csv')\n",
    "df.sample(10)"
   ]
  },
  {
   "cell_type": "code",
   "execution_count": 4,
   "metadata": {},
   "outputs": [
    {
     "data": {
      "text/plain": [
       "(13536, 6)"
      ]
     },
     "execution_count": 4,
     "metadata": {},
     "output_type": "execute_result"
    }
   ],
   "source": [
    "df.shape"
   ]
  },
  {
   "cell_type": "markdown",
   "metadata": {},
   "source": [
    "The CSV data is the definition of a graph. The source is `seed_repo_owner/seed_repo_name` and the target is `package_repo_owner/package_repo_name`. There is also a source for the package, which is `package_source`."
   ]
  },
  {
   "cell_type": "code",
   "execution_count": 3,
   "metadata": {},
   "outputs": [
    {
     "data": {
      "text/html": [
       "<div><style>\n",
       ".dataframe > thead > tr,\n",
       ".dataframe > tbody > tr {\n",
       "  text-align: right;\n",
       "  white-space: pre-wrap;\n",
       "}\n",
       "</style>\n",
       "<small>shape: (3, 6)</small><table border=\"1\" class=\"dataframe\"><thead><tr><th>seed_repo_owner</th><th>seed_repo_name</th><th>package_name</th><th>package_repo_owner</th><th>package_repo_name</th><th>package_source</th></tr><tr><td>str</td><td>str</td><td>str</td><td>str</td><td>str</td><td>str</td></tr></thead><tbody><tr><td>&quot;ethereum&quot;</td><td>&quot;solidity&quot;</td><td>&quot;sphinx-a4doc&quot;</td><td>&quot;taminomara&quot;</td><td>&quot;sphinx-a4doc&quot;</td><td>&quot;PIP&quot;</td></tr><tr><td>&quot;ethereum&quot;</td><td>&quot;solidity&quot;</td><td>&quot;sphinx&quot;</td><td>&quot;sphinx-doc&quot;</td><td>&quot;sphinx&quot;</td><td>&quot;PIP&quot;</td></tr><tr><td>&quot;ethereum&quot;</td><td>&quot;solidity&quot;</td><td>&quot;sphinx-rtd-theme&quot;</td><td>&quot;readthedocs&quot;</td><td>&quot;sphinx_rtd_theme&quot;</td><td>&quot;PIP&quot;</td></tr></tbody></table></div>"
      ],
      "text/plain": [
       "shape: (3, 6)\n",
       "┌────────────────┬────────────────┬────────────────┬───────────────┬───────────────┬───────────────┐\n",
       "│ seed_repo_owne ┆ seed_repo_name ┆ package_name   ┆ package_repo_ ┆ package_repo_ ┆ package_sourc │\n",
       "│ r              ┆ ---            ┆ ---            ┆ owner         ┆ name          ┆ e             │\n",
       "│ ---            ┆ str            ┆ str            ┆ ---           ┆ ---           ┆ ---           │\n",
       "│ str            ┆                ┆                ┆ str           ┆ str           ┆ str           │\n",
       "╞════════════════╪════════════════╪════════════════╪═══════════════╪═══════════════╪═══════════════╡\n",
       "│ ethereum       ┆ solidity       ┆ sphinx-a4doc   ┆ taminomara    ┆ sphinx-a4doc  ┆ PIP           │\n",
       "│ ethereum       ┆ solidity       ┆ sphinx         ┆ sphinx-doc    ┆ sphinx        ┆ PIP           │\n",
       "│ ethereum       ┆ solidity       ┆ sphinx-rtd-the ┆ readthedocs   ┆ sphinx_rtd_th ┆ PIP           │\n",
       "│                ┆                ┆ me             ┆               ┆ eme           ┆               │\n",
       "└────────────────┴────────────────┴────────────────┴───────────────┴───────────────┴───────────────┘"
      ]
     },
     "execution_count": 3,
     "metadata": {},
     "output_type": "execute_result"
    }
   ],
   "source": [
    "df.filter(\n",
    "    (pl.col(\"seed_repo_owner\") == \"ethereum\") &\n",
    "    (pl.col(\"seed_repo_name\") == \"solidity\")\n",
    ")"
   ]
  },
  {
   "cell_type": "code",
   "execution_count": 12,
   "metadata": {},
   "outputs": [
    {
     "data": {
      "text/html": [
       "<div><style>\n",
       ".dataframe > thead > tr,\n",
       ".dataframe > tbody > tr {\n",
       "  text-align: right;\n",
       "  white-space: pre-wrap;\n",
       "}\n",
       "</style>\n",
       "<small>shape: (4, 2)</small><table border=\"1\" class=\"dataframe\"><thead><tr><th>package_source</th><th>len</th></tr><tr><td>str</td><td>u32</td></tr></thead><tbody><tr><td>&quot;GO&quot;</td><td>631</td></tr><tr><td>&quot;NPM&quot;</td><td>10746</td></tr><tr><td>&quot;PIP&quot;</td><td>135</td></tr><tr><td>&quot;RUST&quot;</td><td>2024</td></tr></tbody></table></div>"
      ],
      "text/plain": [
       "shape: (4, 2)\n",
       "┌────────────────┬───────┐\n",
       "│ package_source ┆ len   │\n",
       "│ ---            ┆ ---   │\n",
       "│ str            ┆ u32   │\n",
       "╞════════════════╪═══════╡\n",
       "│ GO             ┆ 631   │\n",
       "│ NPM            ┆ 10746 │\n",
       "│ PIP            ┆ 135   │\n",
       "│ RUST           ┆ 2024  │\n",
       "└────────────────┴───────┘"
      ]
     },
     "execution_count": 12,
     "metadata": {},
     "output_type": "execute_result"
    }
   ],
   "source": [
    "df.group_by(\"package_source\").agg(pl.len())"
   ]
  },
  {
   "cell_type": "code",
   "execution_count": 13,
   "metadata": {},
   "outputs": [],
   "source": [
    "df = df.with_columns(\n",
    "    pl.concat_str(\n",
    "        [\n",
    "            pl.col(\"seed_repo_owner\"),\n",
    "            pl.col(\"seed_repo_name\"),\n",
    "        ],\n",
    "        separator=\"/\"\n",
    "    ).alias(\"repo\"),\n",
    "    pl.concat_str(\n",
    "        [\n",
    "            pl.col(\"package_repo_owner\"),\n",
    "            pl.col(\"package_repo_name\"),\n",
    "        ],\n",
    "        separator=\"/\"\n",
    "    ).alias(\"package_repo\"),\n",
    ")"
   ]
  },
  {
   "cell_type": "code",
   "execution_count": 18,
   "metadata": {},
   "outputs": [
    {
     "data": {
      "text/html": [
       "<div><style>\n",
       ".dataframe > thead > tr,\n",
       ".dataframe > tbody > tr {\n",
       "  text-align: right;\n",
       "  white-space: pre-wrap;\n",
       "}\n",
       "</style>\n",
       "<small>shape: (18, 2)</small><table border=\"1\" class=\"dataframe\"><thead><tr><th>repo</th><th>package_repo</th></tr><tr><td>str</td><td>u32</td></tr></thead><tbody><tr><td>&quot;ethereum/remix-project&quot;</td><td>2277</td></tr><tr><td>&quot;web3/web3.js&quot;</td><td>1709</td></tr><tr><td>&quot;chainsafe/lodestar&quot;</td><td>1514</td></tr><tr><td>&quot;eth-infinitism/account-abstrac…</td><td>854</td></tr><tr><td>&quot;ethereumjs/ethereumjs-monorepo&quot;</td><td>796</td></tr><tr><td>&quot;safe-global/safe-smart-account&quot;</td><td>519</td></tr><tr><td>&quot;paradigmxyz/reth&quot;</td><td>463</td></tr><tr><td>&quot;sigp/lighthouse&quot;</td><td>451</td></tr><tr><td>&quot;grandinetech/grandine&quot;</td><td>435</td></tr><tr><td>&quot;erigontech/erigon&quot;</td><td>253</td></tr><tr><td>&quot;prysmaticlabs/prysm&quot;</td><td>244</td></tr><tr><td>&quot;consensys/teku&quot;</td><td>137</td></tr><tr><td>&quot;ethereum/go-ethereum&quot;</td><td>112</td></tr><tr><td>&quot;status-im/nimbus-eth2&quot;</td><td>96</td></tr><tr><td>&quot;ethereum/web3.py&quot;</td><td>13</td></tr><tr><td>&quot;ethereum/py-evm&quot;</td><td>11</td></tr><tr><td>&quot;vyperlang/vyper&quot;</td><td>9</td></tr><tr><td>&quot;ethereum/solidity&quot;</td><td>3</td></tr></tbody></table></div>"
      ],
      "text/plain": [
       "shape: (18, 2)\n",
       "┌─────────────────────────────────┬──────────────┐\n",
       "│ repo                            ┆ package_repo │\n",
       "│ ---                             ┆ ---          │\n",
       "│ str                             ┆ u32          │\n",
       "╞═════════════════════════════════╪══════════════╡\n",
       "│ ethereum/remix-project          ┆ 2277         │\n",
       "│ web3/web3.js                    ┆ 1709         │\n",
       "│ chainsafe/lodestar              ┆ 1514         │\n",
       "│ eth-infinitism/account-abstrac… ┆ 854          │\n",
       "│ ethereumjs/ethereumjs-monorepo  ┆ 796          │\n",
       "│ safe-global/safe-smart-account  ┆ 519          │\n",
       "│ paradigmxyz/reth                ┆ 463          │\n",
       "│ sigp/lighthouse                 ┆ 451          │\n",
       "│ grandinetech/grandine           ┆ 435          │\n",
       "│ erigontech/erigon               ┆ 253          │\n",
       "│ prysmaticlabs/prysm             ┆ 244          │\n",
       "│ consensys/teku                  ┆ 137          │\n",
       "│ ethereum/go-ethereum            ┆ 112          │\n",
       "│ status-im/nimbus-eth2           ┆ 96           │\n",
       "│ ethereum/web3.py                ┆ 13           │\n",
       "│ ethereum/py-evm                 ┆ 11           │\n",
       "│ vyperlang/vyper                 ┆ 9            │\n",
       "│ ethereum/solidity               ┆ 3            │\n",
       "└─────────────────────────────────┴──────────────┘"
      ]
     },
     "execution_count": 18,
     "metadata": {},
     "output_type": "execute_result"
    }
   ],
   "source": [
    "df.group_by(\"repo\").agg(pl.col(\"package_repo\").n_unique()).sort(\"package_repo\", descending=True)"
   ]
  },
  {
   "cell_type": "code",
   "execution_count": 17,
   "metadata": {},
   "outputs": [
    {
     "data": {
      "text/html": [
       "<div><style>\n",
       ".dataframe > thead > tr,\n",
       ".dataframe > tbody > tr {\n",
       "  text-align: right;\n",
       "  white-space: pre-wrap;\n",
       "}\n",
       "</style>\n",
       "<small>shape: (4_289, 2)</small><table border=\"1\" class=\"dataframe\"><thead><tr><th>package_repo</th><th>repo</th></tr><tr><td>str</td><td>u32</td></tr></thead><tbody><tr><td>&quot;sindresorhus/locate-path&quot;</td><td>7</td></tr><tr><td>&quot;colorjs/color-name&quot;</td><td>7</td></tr><tr><td>&quot;sindresorhus/p-locate&quot;</td><td>7</td></tr><tr><td>&quot;sindresorhus/shebang-regex&quot;</td><td>7</td></tr><tr><td>&quot;eslint/js&quot;</td><td>7</td></tr><tr><td>&quot;jonschlinkert/is-extglob&quot;</td><td>7</td></tr><tr><td>&quot;ryanzim/universalify&quot;</td><td>7</td></tr><tr><td>&quot;ricmoo/aes-js&quot;</td><td>7</td></tr><tr><td>&quot;sindresorhus/parent-module&quot;</td><td>7</td></tr><tr><td>&quot;epoberezkin/fast-json-stable-s…</td><td>7</td></tr><tr><td>&hellip;</td><td>&hellip;</td></tr><tr><td>&quot;malept/cross-spawn-promise&quot;</td><td>1</td></tr><tr><td>&quot;cockroachdb/fifo&quot;</td><td>1</td></tr><tr><td>&quot;jonschlinkert/ansi-gray&quot;</td><td>1</td></tr><tr><td>&quot;pickleshare/pickleshare&quot;</td><td>1</td></tr><tr><td>&quot;chainsafe/blst-ts&quot;</td><td>1</td></tr><tr><td>&quot;floridoo/concat-with-sourcemap…</td><td>1</td></tr><tr><td>&quot;dtolnay/erased-serde&quot;</td><td>1</td></tr><tr><td>&quot;kubernetes-sigs/structured-mer…</td><td>1</td></tr><tr><td>&quot;testdouble/quibble&quot;</td><td>1</td></tr><tr><td>&quot;ezolenko/rollup-plugin-typescr…</td><td>1</td></tr></tbody></table></div>"
      ],
      "text/plain": [
       "shape: (4_289, 2)\n",
       "┌─────────────────────────────────┬──────┐\n",
       "│ package_repo                    ┆ repo │\n",
       "│ ---                             ┆ ---  │\n",
       "│ str                             ┆ u32  │\n",
       "╞═════════════════════════════════╪══════╡\n",
       "│ sindresorhus/locate-path        ┆ 7    │\n",
       "│ colorjs/color-name              ┆ 7    │\n",
       "│ sindresorhus/p-locate           ┆ 7    │\n",
       "│ sindresorhus/shebang-regex      ┆ 7    │\n",
       "│ eslint/js                       ┆ 7    │\n",
       "│ jonschlinkert/is-extglob        ┆ 7    │\n",
       "│ ryanzim/universalify            ┆ 7    │\n",
       "│ ricmoo/aes-js                   ┆ 7    │\n",
       "│ sindresorhus/parent-module      ┆ 7    │\n",
       "│ epoberezkin/fast-json-stable-s… ┆ 7    │\n",
       "│ …                               ┆ …    │\n",
       "│ malept/cross-spawn-promise      ┆ 1    │\n",
       "│ cockroachdb/fifo                ┆ 1    │\n",
       "│ jonschlinkert/ansi-gray         ┆ 1    │\n",
       "│ pickleshare/pickleshare         ┆ 1    │\n",
       "│ chainsafe/blst-ts               ┆ 1    │\n",
       "│ floridoo/concat-with-sourcemap… ┆ 1    │\n",
       "│ dtolnay/erased-serde            ┆ 1    │\n",
       "│ kubernetes-sigs/structured-mer… ┆ 1    │\n",
       "│ testdouble/quibble              ┆ 1    │\n",
       "│ ezolenko/rollup-plugin-typescr… ┆ 1    │\n",
       "└─────────────────────────────────┴──────┘"
      ]
     },
     "execution_count": 17,
     "metadata": {},
     "output_type": "execute_result"
    }
   ],
   "source": [
    "df.group_by(\"package_repo\").agg(pl.col(\"repo\").n_unique()).sort(\"repo\", descending=True)"
   ]
  }
 ],
 "metadata": {
  "kernelspec": {
   "display_name": "Python 3",
   "language": "python",
   "name": "python3"
  },
  "language_info": {
   "codemirror_mode": {
    "name": "ipython",
    "version": 3
   },
   "file_extension": ".py",
   "mimetype": "text/x-python",
   "name": "python",
   "nbconvert_exporter": "python",
   "pygments_lexer": "ipython3",
   "version": "3.13.0"
  }
 },
 "nbformat": 4,
 "nbformat_minor": 2
}
